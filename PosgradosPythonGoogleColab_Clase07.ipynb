{
  "nbformat": 4,
  "nbformat_minor": 0,
  "metadata": {
    "colab": {
      "name": "PosgradosPythonGoogleColab_Clase07.ipynb",
      "provenance": [],
      "collapsed_sections": []
    },
    "kernelspec": {
      "name": "python3",
      "display_name": "Python 3"
    }
  },
  "cells": [
    {
      "cell_type": "markdown",
      "metadata": {
        "id": "D3zxitrY-06s"
      },
      "source": [
        "<div align=\"left\">\n",
        "<p><img alt=\"IUDigital\" height=\"140px\" src=\"https://www.iudigital.edu.co/Style%20Library/images/logo-escudo.png\" align=\"left\" hspace=\"10px\" vspace=\"0px\"></p></div>\n",
        "<div> </div>\n",
        "<div align=\"right\">\n",
        "<p><img alt=\"Posgrado\" height=\"140px\" src=\"https://www.iudigital.edu.co/OfertaEducativa/PublishingImages/Paginas/Especializacion-en-Programacion-Aplicada/BANER-especializacion-en-programacion-aplicada.png\" align=\"right\" hspace=\"10px\" vspace=\"10px\"></p></div>\n",
        "<br></br>\n",
        "<br></br>\n",
        "<br></br>\n",
        "<br></br>\n",
        "<p>\n",
        "<h1> <b> Introducción a Python con Google Colab </b> </h1>\n",
        "<hr size=10 noshade color=\"red\">\n",
        "</p>\n",
        "<p>\n",
        "<img alt=\"CC\" height=\"70px\" src=\"https://creativecommons.org/images/deed/cc_blue_x2.png\" align=\"left\" hspace=\"0px\" vspace=\"0px\">\n",
        "<img alt=\"Attribution\" height=\"70px\" src=\"https://creativecommons.org/images/deed/attribution_icon_blue_x2.png\" align=\"left\" hspace=\"0px\" vspace=\"0px\">\n",
        "<img alt=\"NC\" height=\"70px\" src=\"https://creativecommons.org/images/deed/nc_blue_x2.png\" align=\"left\" hspace=\"0px\" vspace=\"0px\">\n",
        "<img alt=\"SA\" height=\"70px\" src=\"https://creativecommons.org/images/deed/sa_blue_x2.png\" align=\"left\" hspace=\"0px\" vspace=\"0px\">\n",
        "</p>\n",
        "\n",
        "<div align=\"right\">\n",
        "<h1> <b> Por: Julián Andrés Castillo G. </b> </h1>\n",
        "<h2> Profesor Ocasional </h2>\n",
        "<strong><a href=\"mailto:julian.castillo@iudigital.edu.co\"> ✉ Julian Andres Castillo Grisales [ julian.castillo@iudigital.edu.co ]</a></strong> \n",
        "</div>\n",
        "\n",
        "<br>\n",
        "\n",
        "**El presente curso hace parte del Posgrado en Programación Aplicada de la Institución Universitaria Digital de Antioquia.**"
      ]
    },
    {
      "cell_type": "markdown",
      "metadata": {
        "id": "Y3S0SPUg_Bmy"
      },
      "source": [
        "<p><a name=\"contents\"></a></p>\n",
        "\n",
        "# **Contenido Sesión 7 - Última Sesión**\n",
        "\n",
        "- <a href=\"#s1\">01. Manejo de archivos</a><br>\n",
        "- <a href=\"#s2\">02. NumPy</a><br>\n",
        "- <a href=\"#s3\">03. Pandas</a><br>\n",
        "- <a href=\"#s4\">04. Matplotlib</a><br>\n",
        "- <a href=\"#s5\">05. Notas Finales</a><br>\n",
        "<p>\n",
        "\n",
        "El presente documento está basado en los siguientes librosy documentos:\n",
        "\n",
        "*   Python Website. (2021). Python 3.9.1 documentation. Retrieved February 03, 2021, from https://docs.python.org/\n",
        "*   W3schools.com. (2021). Python tutorial. Retrieved February 04, 2021, from https://www.w3schools.com/python/default.asp\n",
        "*   Martelli, A., Ravenscroft, A., & Ascher, D. (2005). Python cookbook. \" O'Reilly \n",
        "*   realpython.com. (2021). Real Python Tutorials. Retrieved February 04, 2021, from https://realpython.com/\n",
        "*   Sweigart, A. (2019). Automate the boring stuff with Python: practical programming for total beginners. No Starch Press.\n",
        "*   Ziadé, T. (2008). Expert Python Programming. Packt Publishing Ltd.\n",
        "*   Pilgrim, M., & Willison, S. (2009). Dive Into Python 3 (Vol. 2). Apress.\n",
        "*   Cairo, B. (2005). Metodología de la Programación: Algoritmos, diagramas de flujo y programas. Alfaomega.\n",
        "</p>\n",
        "\n",
        "[[Contenidos]](#contents)\n",
        "\n",
        "\n",
        "##**Jóvenes muchas gracias por su participación en el presente curso, para mí fue un placer acompañarlos en este proceso académico y les deseo lo mejor. Un Abrazo.**\n",
        "\n",
        "##**Favor diligenciar el presente formulario para que con su valiosa opinión podamos mejorar el curso. Mil gracias**\n",
        "\n",
        "##**[https://forms.gle/MgXrzAvVUpuNmucY7](https://forms.gle/MgXrzAvVUpuNmucY7)**\n",
        "\n",
        "\n",
        "![HastaPronto](http://mrwgifs.com/wp-content/uploads/2013/03/Powerful-Crying-Gif-From-Doctor-Who.gif)\n"
      ]
    },
    {
      "cell_type": "markdown",
      "metadata": {
        "id": "TqVQhTBWJ19d"
      },
      "source": [
        "<p><a name=\"s1\"></a></p>\n",
        "\n",
        "# **01. Manejo de archivos**\n",
        "[[Contenidos]](#contents)\n",
        "\n",
        "\n",
        "El manejo de archivos es una parte importante de cualquier aplicación web. Google Colab y Python tiene varias funciones para crear, leer, actualizar y eliminar archivos. "
      ]
    },
    {
      "cell_type": "markdown",
      "metadata": {
        "id": "1P0itjVIJ-1d"
      },
      "source": [
        "##**Subir archivos desde el sistema de archivos local**\n",
        "\n",
        "El módulo `google.colab` se basa en una serie de complementos detallados para el ecosistema Google Colaboratory que permiten la interacción con muchos de los servicios de Google, tales como Google Drive o Google Spreadsheets.\n",
        "El método files del módulo Google Colab permite cargar archivos al sistema operativo virtualizado en el cual se aloja Google Colab.\n",
        "\n",
        "`files.upload` muestra un diccionario de los archivos que se cargaron.\n",
        "El diccionario está codificado según el nombre de archivo y los valores son los datos que se subieron.\n",
        "\n",
        "Para el siguiente ejercicio descargaremos el archivo detallado a continuación y procederemos a cargarlos con la función `files.upload()` con el cual se detalla una ventana de dialogo para realizar la selección del archivo y su posterior carga.\n",
        "\n",
        "El documento se carga en la carpeta content-> nombre \n",
        "*    `/content/california_housing_test_cargar.csv`\n",
        "\n",
        "Los archivos en el entorno virtualizado de Google Colab tienen el siguiente árbol de datos, nótese que los niveles y carpetas están separados por `/` y no por `\\` como se utiliza en Windows. Para todas las lecturas de archivos se debe detallar con  `/`.\n",
        "\n",
        "\n",
        "\n",
        "```\n",
        "directorio/\n",
        "|\n",
        "├── bin/\n",
        "|   └──/(archivos de sistema)\n",
        "|\n",
        "├── boot/\n",
        "|   └──/(archivos de sistema)\n",
        "|\n",
        "├── content/\n",
        "|   ├── sample_data/\n",
        "|   |   ├── README.md\n",
        "|   |   ├── anscombe.json\n",
        "|   |   ├── california_housing_test.csv\n",
        "|   |   ├── california_housing_train.csv\n",
        "|   |   ├── mnist_test.csv\n",
        "|   |   └── mnist_train_small.csv\n",
        "|   └── california_housing_test_cargar.csv\n",
        "|\n",
        "├── datalab/\n",
        "|   └──/(archivos de sistema)\n",
        "├── dev/\n",
        "|   └──/(archivos de sistema)\n",
        ".\n",
        ".\n",
        ".\n",
        "```\n",
        "\n"
      ]
    },
    {
      "cell_type": "code",
      "metadata": {
        "id": "vLNpCvjYXm9Q",
        "colab": {
          "resources": {
            "http://localhost:8080/nbextensions/google.colab/files.js": {
              "data": "Ly8gQ29weXJpZ2h0IDIwMTcgR29vZ2xlIExMQwovLwovLyBMaWNlbnNlZCB1bmRlciB0aGUgQXBhY2hlIExpY2Vuc2UsIFZlcnNpb24gMi4wICh0aGUgIkxpY2Vuc2UiKTsKLy8geW91IG1heSBub3QgdXNlIHRoaXMgZmlsZSBleGNlcHQgaW4gY29tcGxpYW5jZSB3aXRoIHRoZSBMaWNlbnNlLgovLyBZb3UgbWF5IG9idGFpbiBhIGNvcHkgb2YgdGhlIExpY2Vuc2UgYXQKLy8KLy8gICAgICBodHRwOi8vd3d3LmFwYWNoZS5vcmcvbGljZW5zZXMvTElDRU5TRS0yLjAKLy8KLy8gVW5sZXNzIHJlcXVpcmVkIGJ5IGFwcGxpY2FibGUgbGF3IG9yIGFncmVlZCB0byBpbiB3cml0aW5nLCBzb2Z0d2FyZQovLyBkaXN0cmlidXRlZCB1bmRlciB0aGUgTGljZW5zZSBpcyBkaXN0cmlidXRlZCBvbiBhbiAiQVMgSVMiIEJBU0lTLAovLyBXSVRIT1VUIFdBUlJBTlRJRVMgT1IgQ09ORElUSU9OUyBPRiBBTlkgS0lORCwgZWl0aGVyIGV4cHJlc3Mgb3IgaW1wbGllZC4KLy8gU2VlIHRoZSBMaWNlbnNlIGZvciB0aGUgc3BlY2lmaWMgbGFuZ3VhZ2UgZ292ZXJuaW5nIHBlcm1pc3Npb25zIGFuZAovLyBsaW1pdGF0aW9ucyB1bmRlciB0aGUgTGljZW5zZS4KCi8qKgogKiBAZmlsZW92ZXJ2aWV3IEhlbHBlcnMgZm9yIGdvb2dsZS5jb2xhYiBQeXRob24gbW9kdWxlLgogKi8KKGZ1bmN0aW9uKHNjb3BlKSB7CmZ1bmN0aW9uIHNwYW4odGV4dCwgc3R5bGVBdHRyaWJ1dGVzID0ge30pIHsKICBjb25zdCBlbGVtZW50ID0gZG9jdW1lbnQuY3JlYXRlRWxlbWVudCgnc3BhbicpOwogIGVsZW1lbnQudGV4dENvbnRlbnQgPSB0ZXh0OwogIGZvciAoY29uc3Qga2V5IG9mIE9iamVjdC5rZXlzKHN0eWxlQXR0cmlidXRlcykpIHsKICAgIGVsZW1lbnQuc3R5bGVba2V5XSA9IHN0eWxlQXR0cmlidXRlc1trZXldOwogIH0KICByZXR1cm4gZWxlbWVudDsKfQoKLy8gTWF4IG51bWJlciBvZiBieXRlcyB3aGljaCB3aWxsIGJlIHVwbG9hZGVkIGF0IGEgdGltZS4KY29uc3QgTUFYX1BBWUxPQURfU0laRSA9IDEwMCAqIDEwMjQ7CgpmdW5jdGlvbiBfdXBsb2FkRmlsZXMoaW5wdXRJZCwgb3V0cHV0SWQpIHsKICBjb25zdCBzdGVwcyA9IHVwbG9hZEZpbGVzU3RlcChpbnB1dElkLCBvdXRwdXRJZCk7CiAgY29uc3Qgb3V0cHV0RWxlbWVudCA9IGRvY3VtZW50LmdldEVsZW1lbnRCeUlkKG91dHB1dElkKTsKICAvLyBDYWNoZSBzdGVwcyBvbiB0aGUgb3V0cHV0RWxlbWVudCB0byBtYWtlIGl0IGF2YWlsYWJsZSBmb3IgdGhlIG5leHQgY2FsbAogIC8vIHRvIHVwbG9hZEZpbGVzQ29udGludWUgZnJvbSBQeXRob24uCiAgb3V0cHV0RWxlbWVudC5zdGVwcyA9IHN0ZXBzOwoKICByZXR1cm4gX3VwbG9hZEZpbGVzQ29udGludWUob3V0cHV0SWQpOwp9CgovLyBUaGlzIGlzIHJvdWdobHkgYW4gYXN5bmMgZ2VuZXJhdG9yIChub3Qgc3VwcG9ydGVkIGluIHRoZSBicm93c2VyIHlldCksCi8vIHdoZXJlIHRoZXJlIGFyZSBtdWx0aXBsZSBhc3luY2hyb25vdXMgc3RlcHMgYW5kIHRoZSBQeXRob24gc2lkZSBpcyBnb2luZwovLyB0byBwb2xsIGZvciBjb21wbGV0aW9uIG9mIGVhY2ggc3RlcC4KLy8gVGhpcyB1c2VzIGEgUHJvbWlzZSB0byBibG9jayB0aGUgcHl0aG9uIHNpZGUgb24gY29tcGxldGlvbiBvZiBlYWNoIHN0ZXAsCi8vIHRoZW4gcGFzc2VzIHRoZSByZXN1bHQgb2YgdGhlIHByZXZpb3VzIHN0ZXAgYXMgdGhlIGlucHV0IHRvIHRoZSBuZXh0IHN0ZXAuCmZ1bmN0aW9uIF91cGxvYWRGaWxlc0NvbnRpbnVlKG91dHB1dElkKSB7CiAgY29uc3Qgb3V0cHV0RWxlbWVudCA9IGRvY3VtZW50LmdldEVsZW1lbnRCeUlkKG91dHB1dElkKTsKICBjb25zdCBzdGVwcyA9IG91dHB1dEVsZW1lbnQuc3RlcHM7CgogIGNvbnN0IG5leHQgPSBzdGVwcy5uZXh0KG91dHB1dEVsZW1lbnQubGFzdFByb21pc2VWYWx1ZSk7CiAgcmV0dXJuIFByb21pc2UucmVzb2x2ZShuZXh0LnZhbHVlLnByb21pc2UpLnRoZW4oKHZhbHVlKSA9PiB7CiAgICAvLyBDYWNoZSB0aGUgbGFzdCBwcm9taXNlIHZhbHVlIHRvIG1ha2UgaXQgYXZhaWxhYmxlIHRvIHRoZSBuZXh0CiAgICAvLyBzdGVwIG9mIHRoZSBnZW5lcmF0b3IuCiAgICBvdXRwdXRFbGVtZW50Lmxhc3RQcm9taXNlVmFsdWUgPSB2YWx1ZTsKICAgIHJldHVybiBuZXh0LnZhbHVlLnJlc3BvbnNlOwogIH0pOwp9CgovKioKICogR2VuZXJhdG9yIGZ1bmN0aW9uIHdoaWNoIGlzIGNhbGxlZCBiZXR3ZWVuIGVhY2ggYXN5bmMgc3RlcCBvZiB0aGUgdXBsb2FkCiAqIHByb2Nlc3MuCiAqIEBwYXJhbSB7c3RyaW5nfSBpbnB1dElkIEVsZW1lbnQgSUQgb2YgdGhlIGlucHV0IGZpbGUgcGlja2VyIGVsZW1lbnQuCiAqIEBwYXJhbSB7c3RyaW5nfSBvdXRwdXRJZCBFbGVtZW50IElEIG9mIHRoZSBvdXRwdXQgZGlzcGxheS4KICogQHJldHVybiB7IUl0ZXJhYmxlPCFPYmplY3Q+fSBJdGVyYWJsZSBvZiBuZXh0IHN0ZXBzLgogKi8KZnVuY3Rpb24qIHVwbG9hZEZpbGVzU3RlcChpbnB1dElkLCBvdXRwdXRJZCkgewogIGNvbnN0IGlucHV0RWxlbWVudCA9IGRvY3VtZW50LmdldEVsZW1lbnRCeUlkKGlucHV0SWQpOwogIGlucHV0RWxlbWVudC5kaXNhYmxlZCA9IGZhbHNlOwoKICBjb25zdCBvdXRwdXRFbGVtZW50ID0gZG9jdW1lbnQuZ2V0RWxlbWVudEJ5SWQob3V0cHV0SWQpOwogIG91dHB1dEVsZW1lbnQuaW5uZXJIVE1MID0gJyc7CgogIGNvbnN0IHBpY2tlZFByb21pc2UgPSBuZXcgUHJvbWlzZSgocmVzb2x2ZSkgPT4gewogICAgaW5wdXRFbGVtZW50LmFkZEV2ZW50TGlzdGVuZXIoJ2NoYW5nZScsIChlKSA9PiB7CiAgICAgIHJlc29sdmUoZS50YXJnZXQuZmlsZXMpOwogICAgfSk7CiAgfSk7CgogIGNvbnN0IGNhbmNlbCA9IGRvY3VtZW50LmNyZWF0ZUVsZW1lbnQoJ2J1dHRvbicpOwogIGlucHV0RWxlbWVudC5wYXJlbnRFbGVtZW50LmFwcGVuZENoaWxkKGNhbmNlbCk7CiAgY2FuY2VsLnRleHRDb250ZW50ID0gJ0NhbmNlbCB1cGxvYWQnOwogIGNvbnN0IGNhbmNlbFByb21pc2UgPSBuZXcgUHJvbWlzZSgocmVzb2x2ZSkgPT4gewogICAgY2FuY2VsLm9uY2xpY2sgPSAoKSA9PiB7CiAgICAgIHJlc29sdmUobnVsbCk7CiAgICB9OwogIH0pOwoKICAvLyBXYWl0IGZvciB0aGUgdXNlciB0byBwaWNrIHRoZSBmaWxlcy4KICBjb25zdCBmaWxlcyA9IHlpZWxkIHsKICAgIHByb21pc2U6IFByb21pc2UucmFjZShbcGlja2VkUHJvbWlzZSwgY2FuY2VsUHJvbWlzZV0pLAogICAgcmVzcG9uc2U6IHsKICAgICAgYWN0aW9uOiAnc3RhcnRpbmcnLAogICAgfQogIH07CgogIGNhbmNlbC5yZW1vdmUoKTsKCiAgLy8gRGlzYWJsZSB0aGUgaW5wdXQgZWxlbWVudCBzaW5jZSBmdXJ0aGVyIHBpY2tzIGFyZSBub3QgYWxsb3dlZC4KICBpbnB1dEVsZW1lbnQuZGlzYWJsZWQgPSB0cnVlOwoKICBpZiAoIWZpbGVzKSB7CiAgICByZXR1cm4gewogICAgICByZXNwb25zZTogewogICAgICAgIGFjdGlvbjogJ2NvbXBsZXRlJywKICAgICAgfQogICAgfTsKICB9CgogIGZvciAoY29uc3QgZmlsZSBvZiBmaWxlcykgewogICAgY29uc3QgbGkgPSBkb2N1bWVudC5jcmVhdGVFbGVtZW50KCdsaScpOwogICAgbGkuYXBwZW5kKHNwYW4oZmlsZS5uYW1lLCB7Zm9udFdlaWdodDogJ2JvbGQnfSkpOwogICAgbGkuYXBwZW5kKHNwYW4oCiAgICAgICAgYCgke2ZpbGUudHlwZSB8fCAnbi9hJ30pIC0gJHtmaWxlLnNpemV9IGJ5dGVzLCBgICsKICAgICAgICBgbGFzdCBtb2RpZmllZDogJHsKICAgICAgICAgICAgZmlsZS5sYXN0TW9kaWZpZWREYXRlID8gZmlsZS5sYXN0TW9kaWZpZWREYXRlLnRvTG9jYWxlRGF0ZVN0cmluZygpIDoKICAgICAgICAgICAgICAgICAgICAgICAgICAgICAgICAgICAgJ24vYSd9IC0gYCkpOwogICAgY29uc3QgcGVyY2VudCA9IHNwYW4oJzAlIGRvbmUnKTsKICAgIGxpLmFwcGVuZENoaWxkKHBlcmNlbnQpOwoKICAgIG91dHB1dEVsZW1lbnQuYXBwZW5kQ2hpbGQobGkpOwoKICAgIGNvbnN0IGZpbGVEYXRhUHJvbWlzZSA9IG5ldyBQcm9taXNlKChyZXNvbHZlKSA9PiB7CiAgICAgIGNvbnN0IHJlYWRlciA9IG5ldyBGaWxlUmVhZGVyKCk7CiAgICAgIHJlYWRlci5vbmxvYWQgPSAoZSkgPT4gewogICAgICAgIHJlc29sdmUoZS50YXJnZXQucmVzdWx0KTsKICAgICAgfTsKICAgICAgcmVhZGVyLnJlYWRBc0FycmF5QnVmZmVyKGZpbGUpOwogICAgfSk7CiAgICAvLyBXYWl0IGZvciB0aGUgZGF0YSB0byBiZSByZWFkeS4KICAgIGxldCBmaWxlRGF0YSA9IHlpZWxkIHsKICAgICAgcHJvbWlzZTogZmlsZURhdGFQcm9taXNlLAogICAgICByZXNwb25zZTogewogICAgICAgIGFjdGlvbjogJ2NvbnRpbnVlJywKICAgICAgfQogICAgfTsKCiAgICAvLyBVc2UgYSBjaHVua2VkIHNlbmRpbmcgdG8gYXZvaWQgbWVzc2FnZSBzaXplIGxpbWl0cy4gU2VlIGIvNjIxMTU2NjAuCiAgICBsZXQgcG9zaXRpb24gPSAwOwogICAgZG8gewogICAgICBjb25zdCBsZW5ndGggPSBNYXRoLm1pbihmaWxlRGF0YS5ieXRlTGVuZ3RoIC0gcG9zaXRpb24sIE1BWF9QQVlMT0FEX1NJWkUpOwogICAgICBjb25zdCBjaHVuayA9IG5ldyBVaW50OEFycmF5KGZpbGVEYXRhLCBwb3NpdGlvbiwgbGVuZ3RoKTsKICAgICAgcG9zaXRpb24gKz0gbGVuZ3RoOwoKICAgICAgY29uc3QgYmFzZTY0ID0gYnRvYShTdHJpbmcuZnJvbUNoYXJDb2RlLmFwcGx5KG51bGwsIGNodW5rKSk7CiAgICAgIHlpZWxkIHsKICAgICAgICByZXNwb25zZTogewogICAgICAgICAgYWN0aW9uOiAnYXBwZW5kJywKICAgICAgICAgIGZpbGU6IGZpbGUubmFtZSwKICAgICAgICAgIGRhdGE6IGJhc2U2NCwKICAgICAgICB9LAogICAgICB9OwoKICAgICAgbGV0IHBlcmNlbnREb25lID0gZmlsZURhdGEuYnl0ZUxlbmd0aCA9PT0gMCA/CiAgICAgICAgICAxMDAgOgogICAgICAgICAgTWF0aC5yb3VuZCgocG9zaXRpb24gLyBmaWxlRGF0YS5ieXRlTGVuZ3RoKSAqIDEwMCk7CiAgICAgIHBlcmNlbnQudGV4dENvbnRlbnQgPSBgJHtwZXJjZW50RG9uZX0lIGRvbmVgOwoKICAgIH0gd2hpbGUgKHBvc2l0aW9uIDwgZmlsZURhdGEuYnl0ZUxlbmd0aCk7CiAgfQoKICAvLyBBbGwgZG9uZS4KICB5aWVsZCB7CiAgICByZXNwb25zZTogewogICAgICBhY3Rpb246ICdjb21wbGV0ZScsCiAgICB9CiAgfTsKfQoKc2NvcGUuZ29vZ2xlID0gc2NvcGUuZ29vZ2xlIHx8IHt9OwpzY29wZS5nb29nbGUuY29sYWIgPSBzY29wZS5nb29nbGUuY29sYWIgfHwge307CnNjb3BlLmdvb2dsZS5jb2xhYi5fZmlsZXMgPSB7CiAgX3VwbG9hZEZpbGVzLAogIF91cGxvYWRGaWxlc0NvbnRpbnVlLAp9Owp9KShzZWxmKTsK",
              "ok": true,
              "headers": [
                [
                  "content-type",
                  "application/javascript"
                ]
              ],
              "status": 200,
              "status_text": ""
            }
          },
          "base_uri": "https://localhost:8080/",
          "height": 38
        },
        "outputId": "ac02c781-4781-4bf7-9eff-81f794524f34"
      },
      "source": [
        "from google.colab import files\n",
        "uploaded = files.upload()\n",
        "for fn in uploaded.keys():\n",
        "  print('El usuario ha cargado el archivo: \"{name}\" con tamaño {length} bytes'.format(\n",
        "      name=fn, length=len(uploaded[fn])))\n"
      ],
      "execution_count": null,
      "outputs": [
        {
          "output_type": "display_data",
          "data": {
            "text/html": [
              "\n",
              "     <input type=\"file\" id=\"files-b40b228d-6750-42d2-8887-f0ac875b84be\" name=\"files[]\" multiple disabled\n",
              "        style=\"border:none\" />\n",
              "     <output id=\"result-b40b228d-6750-42d2-8887-f0ac875b84be\">\n",
              "      Upload widget is only available when the cell has been executed in the\n",
              "      current browser session. Please rerun this cell to enable.\n",
              "      </output>\n",
              "      <script src=\"/nbextensions/google.colab/files.js\"></script> "
            ],
            "text/plain": [
              "<IPython.core.display.HTML object>"
            ]
          },
          "metadata": {
            "tags": []
          }
        }
      ]
    },
    {
      "cell_type": "markdown",
      "metadata": {
        "id": "bE1s1pIW1N4h"
      },
      "source": [
        "El presente código puede parecer avanzado, pero con nuestro conocimientos podemos deducir lo que pasa en el lector de archivos CSV."
      ]
    },
    {
      "cell_type": "code",
      "metadata": {
        "id": "l9fETCcXzC5t",
        "colab": {
          "base_uri": "https://localhost:8080/"
        },
        "outputId": "94242ac1-1371-4706-e110-99d6e794a6ca"
      },
      "source": [
        "import csv \n",
        "with open('/content/california_housing_test_cargar.csv') as csv_file:\n",
        "    objetoCSV = csv.reader(csv_file, delimiter=',')\n",
        "    for row in objetoCSV:\n",
        "        print(f'Nombres de Columna \\n{\", \".join(row)}') #el método join() del módulo str permite unir objetos iterables\n",
        "        break"
      ],
      "execution_count": null,
      "outputs": [
        {
          "output_type": "stream",
          "text": [
            "Nombres de Columna \n",
            "longitude, latitude, housing_median_age, total_rooms, total_bedrooms, population, households, median_income, median_house_value\n"
          ],
          "name": "stdout"
        }
      ]
    },
    {
      "cell_type": "markdown",
      "metadata": {
        "id": "eD4nsmpl4X8u"
      },
      "source": [
        "##**Descargar archivos en el sistema de archivos local**\n",
        "\n",
        "El módulo `google.colab` tiene método `files.download` el cual invocará una descarga del archivo desde el navegador a tu computadora local. Es de anotar que el archivo invocado será descargado."
      ]
    },
    {
      "cell_type": "code",
      "metadata": {
        "id": "L46P17S04tKq",
        "colab": {
          "base_uri": "https://localhost:8080/",
          "height": 17
        },
        "outputId": "a63d76fb-a0eb-4a3a-dfc9-af0fc887aef2"
      },
      "source": [
        "files.download('/content/california_housing_test_cargar.csv')"
      ],
      "execution_count": null,
      "outputs": [
        {
          "output_type": "display_data",
          "data": {
            "application/javascript": [
              "\n",
              "    async function download(id, filename, size) {\n",
              "      if (!google.colab.kernel.accessAllowed) {\n",
              "        return;\n",
              "      }\n",
              "      const div = document.createElement('div');\n",
              "      const label = document.createElement('label');\n",
              "      label.textContent = `Downloading \"${filename}\": `;\n",
              "      div.appendChild(label);\n",
              "      const progress = document.createElement('progress');\n",
              "      progress.max = size;\n",
              "      div.appendChild(progress);\n",
              "      document.body.appendChild(div);\n",
              "\n",
              "      const buffers = [];\n",
              "      let downloaded = 0;\n",
              "\n",
              "      const channel = await google.colab.kernel.comms.open(id);\n",
              "      // Send a message to notify the kernel that we're ready.\n",
              "      channel.send({})\n",
              "\n",
              "      for await (const message of channel.messages) {\n",
              "        // Send a message to notify the kernel that we're ready.\n",
              "        channel.send({})\n",
              "        if (message.buffers) {\n",
              "          for (const buffer of message.buffers) {\n",
              "            buffers.push(buffer);\n",
              "            downloaded += buffer.byteLength;\n",
              "            progress.value = downloaded;\n",
              "          }\n",
              "        }\n",
              "      }\n",
              "      const blob = new Blob(buffers, {type: 'application/binary'});\n",
              "      const a = document.createElement('a');\n",
              "      a.href = window.URL.createObjectURL(blob);\n",
              "      a.download = filename;\n",
              "      div.appendChild(a);\n",
              "      a.click();\n",
              "      div.remove();\n",
              "    }\n",
              "  "
            ],
            "text/plain": [
              "<IPython.core.display.Javascript object>"
            ]
          },
          "metadata": {
            "tags": []
          }
        },
        {
          "output_type": "display_data",
          "data": {
            "application/javascript": [
              "download(\"download_09bef56a-657a-49f5-8345-5a780881b9a3\", \"california_housing_test_cargar.csv\", 301141)"
            ],
            "text/plain": [
              "<IPython.core.display.Javascript object>"
            ]
          },
          "metadata": {
            "tags": []
          }
        }
      ]
    },
    {
      "cell_type": "markdown",
      "metadata": {
        "id": "Ru_r0kp5Az7y"
      },
      "source": [
        "##**Google Drive**\n",
        "\n",
        "Puedes acceder a archivos en Drive de varias maneras, incluidas las siguientes:\n",
        "- Activación de Google Drive en la máquina virtual del entorno de ejecución\n",
        "- Usar un wrapper alrededor de la API, como <a href=\"https://pythonhosted.org/PyDrive/\">PyDrive</a>\n",
        "- Usar la <a href=\"https://developers.google.com/drive/v3/web/about-sdk\">API nativa de REST*</a>\n",
        "\n",
        "A continuación, detallaremos unos ejemplos.\n",
        "\n",
        "\\* [Definición de API REST](https://es.wikipedia.org/wiki/Transferencia_de_Estado_Representacional)"
      ]
    },
    {
      "cell_type": "markdown",
      "metadata": {
        "id": "Xr4G76LiE02n"
      },
      "source": [
        "##**Activar Google Drive de forma local**\n",
        "\n",
        "El ejemplo siguiente muestra cómo activar Google Drive en el entorno de ejecución mediante un código de autorización y cómo escribir y leer archivos allí. Una vez ejecutado, podrás ver el archivo nuevo (foo.txt) en [https://drive.google.com/.](https://drive.google.com), la presente configuración solo permite leer, escribir y mover archivos.\n",
        "\n",
        "Nota: Si utilizas el botón \"Activar unidad de Drive\" en el navegador de archivos, no necesitas ningún código de autenticación para los notebooks que solo modificó el usuario actual."
      ]
    },
    {
      "cell_type": "code",
      "metadata": {
        "id": "AXwvjUrwHGhX"
      },
      "source": [
        "from google.colab import drive\n",
        "drive.mount('/content/drive')"
      ],
      "execution_count": null,
      "outputs": []
    },
    {
      "cell_type": "markdown",
      "metadata": {
        "id": "_EgOdv0-eyJU"
      },
      "source": [
        "##**Crear un Archivo en Google Drive de forma local**\n",
        "\n",
        "El ejemplo siguiente muestra cómo activar Google Drive en el entorno de ejecución mediante un código de autorización y cómo escribir y leer archivos allí. Una vez ejecutado, podrás ver el archivo nuevo (foo.txt) en [https://drive.google.com/.](https://drive.google.com), la presente configuración solo permite leer, escribir y mover archivos.\n",
        "\n",
        "Nota: Si utilizas el botón \"Activar unidad de Drive\" en el navegador de archivos, no necesitas ningún código de autenticación para los notebooks que solo modificó el usuario actual."
      ]
    },
    {
      "cell_type": "code",
      "metadata": {
        "id": "cS0TW7tDfWgW"
      },
      "source": [
        "with open('/content/drive/MyDrive/_EjemploFundamentosProgramacion/Texto.txt', 'w') as f:\n",
        "  f.write('Escribiendo Directamente en Google Drive')\n",
        "!cat /content/drive/MyDrive/_EjemploFundamentosProgramacion/Texto.txt\n",
        "!echo \"\"\n",
        "!echo \"Los comandos con admiracion son comandos de consola\""
      ],
      "execution_count": null,
      "outputs": []
    },
    {
      "cell_type": "markdown",
      "metadata": {
        "id": "in6nyn-Aj3Or"
      },
      "source": [
        "##**Cerrar Conexión con Google Drive**\n",
        "\n",
        "Cerramos la sesión con el siguiente código y desmontamos el disco.\n"
      ]
    },
    {
      "cell_type": "code",
      "metadata": {
        "id": "4kEofj99kH5b"
      },
      "source": [
        "drive.flush_and_unmount()\n",
        "print('Conexión con Google Drive Terminada - Todos los cambios no guardados se perdieron')"
      ],
      "execution_count": null,
      "outputs": []
    },
    {
      "cell_type": "markdown",
      "metadata": {
        "id": "Y4eaU4ImkWOP"
      },
      "source": [
        "##**Abrir archivos con Pyhton**\n",
        "\n",
        "El manejo de archivos es una parte importante de cualquier aplicación o script.Python tiene varias funciones para crear, leer, actualizar y eliminar archivos.\n"
      ]
    },
    {
      "cell_type": "markdown",
      "metadata": {
        "id": "JO7JnqZuMzkY"
      },
      "source": [
        "###**Manejo de archivos**\n",
        "La función clave para trabajar con archivos en Python es la función `open()`. La función `open()` toma dos parámetros; nombre de archivo y modo.\n",
        "\n",
        "Hay cuatro métodos (modos) diferentes para abrir un archivo:\n",
        "\n",
        "\n",
        "*   `r` - Lectura - Valor predeterminado. Abre un archivo para lectura, error si el archivo no existe\n",
        "*   `a` - Adjuntar - Abre un archivo para agregar, crea el archivo si no existe\n",
        "*   `w` - Escribir - Abre un archivo para escribir, crea el archivo si no existe\n",
        "*   `x` - Crear - Crea el archivo especificado, devuelve un error si el archivo existe\n",
        "\n",
        "Además, puede especificar si el archivo debe manejarse en modo binario o de texto\n",
        "\n",
        "*   `t` - Texto - Valor predeterminado. Modo texto\n",
        "\n",
        "*   `b` - Binario - Modo binario (p. ej., imágenes)\n",
        "\n",
        "\n",
        "\n",
        "\n",
        "\n"
      ]
    },
    {
      "cell_type": "markdown",
      "metadata": {
        "id": "EX9gb1ASNa9z"
      },
      "source": [
        "###**Sintaxis**\n",
        "Para abrir un archivo en modo lectura, basta con especificar el nombre del archivo:\n",
        "\n",
        "`f = open(\"archivo.txt\")`\n",
        "\n",
        "El código anterior es el mismo que:\n",
        "\n",
        "`f = open(\"archivo.txt\", \"rt\")`\n",
        "\n",
        "Dado que \"r\" para lectura y \"t\" para texto son los valores predeterminados, no es necesario especificarlos.\n",
        "\n",
        "Nota: asegúrese de que el archivo exista o obtendrá un error.\n",
        "\n",
        "A continuación usaremos el siguiente archivo y lo cargaremos en el servicio virtualizado de Google Colab en la carpeta `'/content/'` o lo cargaremos a Google Drive y usaremos `'/content/MyDrive/'`\n",
        "\n",
        "[https://raw.githubusercontent.com/juliancastillo-iudigital/FundamentosProgramacionPosgrados2021-1/main/archivo.txt](https://raw.githubusercontent.com/juliancastillo-iudigital/FundamentosProgramacionPosgrados2021-1/main/archivo.txt)\n",
        "\n",
        "\n",
        "###**urllib**\n",
        "\n",
        "urllib es un paquete que recopila varios módulos para trabajar con URL:\n",
        "\n",
        "*   urllib.request para abrir y leer URL\n",
        ">*   urllib.request: biblioteca extensible para abrir URL\n",
        ">>\n",
        "El módulo urllib.request define funciones y clases que ayudan a abrir URL (principalmente HTTP) en un mundo complejo: autenticación básica y resumida, redirecciones, cookies y más.\n",
        "*   urllib.error que contiene las excepciones generadas por urllib.request\n",
        ">*   urllib.error: clases de excepción generadas por urllib.request  \n",
        ">>\n",
        "El módulo urllib.error define las clases de excepción para las excepciones generadas por urllib.request. La clase de excepción básica es URLError.\n",
        "*   urllib.parse para analizar URL\n",
        ">*   urllib.parse - Analizar URL en componentes\n",
        ">>\n",
        "Este módulo define una interfaz estándar para dividir las cadenas del Uniform Resource Locator (URL) en componentes (addressing scheme, network location, path etc.), para volver a combinar los componentes en una cadena de URL y convertir una \"relative URL\" en una URL absoluta dada una \"base URL.\"\n",
        "*   urllib.robotparser para analizar archivos robots.txt\n",
        ">*   urllib.robotparser: analizador de robots.txt\n",
        ">>\n",
        "Este módulo proporciona una clase única, RobotFileParser, que responde preguntas sobre si un agente de usuario en particular puede obtener una URL en el sitio web que publicó el archivo robots.txt. Para obtener más detalles sobre la estructura de los archivos robots.txt, consulte http://www.robotstxt.org/orig.html.\n",
        "\n"
      ]
    },
    {
      "cell_type": "code",
      "metadata": {
        "id": "zDrxhxf_a2PC",
        "colab": {
          "base_uri": "https://localhost:8080/"
        },
        "outputId": "368dd377-1345-4eec-9cc0-345fb8427986"
      },
      "source": [
        "from urllib.request import urlopen #Importamos urlopen\n",
        "#Creamos un link\n",
        "link = r'https://github.com/juliancastillo-iudigital/FundamentosProgramacionPosgrados2021-1/blob/main/archivo.txt?raw=True'\n",
        "#Asignamos el archivo mediante urlopen a una variable\n",
        "f = urlopen(link)\n",
        "archivo = f.read() #Archivo ahora contiene la lectura del archivo\n",
        "print(archivo) #Impresion del archivo"
      ],
      "execution_count": null,
      "outputs": [
        {
          "output_type": "stream",
          "text": [
            "b'Hola, soy un archivo de texto\\r\\nMi segunda linea posee un texto el cual estas leyendo\\r\\nLa tercera linea especifica el valor de pi, 3.14159265358979323846264338327950288\\r\\nLa cuarta linea detalla el valor de e, 2.71828182845904523536028747135266249775724709369995\\r\\nLa quinta linea detalla el valor de raiz de dos, 1.41421356237309504880168872420969807\\r\\nLa sexta linea detalla el valor de una docena de huevos, 1800\\r\\nla ultima linea dice adios.\\r\\nadios'\n"
          ],
          "name": "stdout"
        }
      ]
    },
    {
      "cell_type": "code",
      "metadata": {
        "id": "GUxRe4qaUODG"
      },
      "source": [
        "from urllib.request import urlopen\n",
        "\n",
        "origen = r'https://github.com/juliancastillo-iudigital/FundamentosProgramacionPosgrados2021-1/blob/main/archivo.txt?raw=True'\n",
        "destino = '/content/archivo.txt'\n",
        "\n",
        "datos = urlopen(origen)\n",
        "data = datos.read()\n",
        "archivo = '/content/archivo.txt'\n",
        "archivo_ = open(archivo, 'w')\n",
        "archivo_.write(str(data))\n",
        "archivo_.close()\n"
      ],
      "execution_count": null,
      "outputs": []
    },
    {
      "cell_type": "code",
      "metadata": {
        "id": "BmbdT4Lrc0Xb"
      },
      "source": [
        "!cat /content/archivo.txt"
      ],
      "execution_count": null,
      "outputs": []
    },
    {
      "cell_type": "markdown",
      "metadata": {
        "id": "b2DO19-8oOh5"
      },
      "source": [
        "##**Manejo de archivos en `/content/`**\n",
        "\n",
        "Cargaremos el archivo proporcionado en el Classroom de la Clase 07 llamado `archivo.txt`"
      ]
    },
    {
      "cell_type": "code",
      "metadata": {
        "id": "g44IQf-xovGy"
      },
      "source": [
        "from google.colab import files\n",
        "uploaded = files.upload()\n",
        "for fn in uploaded.keys():\n",
        "  print('El usuario ha cargado el archivo: \"{name}\" con tamaño {length} bytes'.format(\n",
        "      name=fn, length=len(uploaded[fn])))"
      ],
      "execution_count": null,
      "outputs": []
    },
    {
      "cell_type": "markdown",
      "metadata": {
        "id": "YzAkjFtLjyDA"
      },
      "source": [
        "###**Abrir archivos ubicados en `/content/`**\n",
        "\n",
        "Ahora ya tenemos el archivo llamado `archivo.txt`\n",
        "\n",
        "Para abrirlo, usaremos la función `Built-in` `open()`. Esta devuelve un objeto tipo archivo, que tiene un método `read()` para leer el contenido del archivo:\n",
        "\n",
        "\n",
        "```python\n",
        "f = open('/content/archivo.txt', 'r')\n",
        "print(f.read())\n",
        "```\n",
        "\n",
        "###**Leer solo partes del archivo**\n",
        "\n",
        "De forma predeterminada, el método `read()` devuelve el texto completo, pero también puede especificar cuántos caracteres desea devolver:\n",
        "```python\n",
        "f = open('/content/archivo.txt', 'r')\n",
        "print(f.read(5))\n",
        "```\n",
        "\n",
        "###**Leer líneas**\n",
        "\n",
        "Podemos devolver una línea utilizando el método `readline()`:\n",
        "```python\n",
        "f = open('/content/archivo.txt', 'r')\n",
        "print(f.readline())\n",
        "```\n",
        "Al llamar a `readline()` dos veces, puede leer las dos primeras líneas:\n",
        "```python\n",
        "f = open('/content/archivo.txt', 'r')\n",
        "print(f.readline())\n",
        "print(f.readline())\n",
        "```\n",
        "Al iterar las líneas del archivo, puede leer el archivo completo, línea por línea:\n",
        "```python\n",
        "f = open('/content/archivo.txt', 'r')\n",
        "for x in f:\n",
        "    print(x)\n",
        "```\n",
        "\n",
        "###**Cerrar archivos**\n",
        "\n",
        "Es una buena práctica cerrar siempre el archivo cuando haya terminado.\n",
        "```python\n",
        "f = open('/content/archivo.txt', 'r')\n",
        "print(f.readline())\n",
        "f.close()\n",
        "```\n",
        "\n",
        "Nota: Siempre debe cerrar sus archivos; en algunos casos, debido al almacenamiento en búfer, es posible que los cambios realizados en un archivo no se muestren hasta que cierre el archivo."
      ]
    },
    {
      "cell_type": "code",
      "metadata": {
        "id": "c8ywhPNxmmmG"
      },
      "source": [
        "f = open('/content/archivo.txt', 'r')\n",
        "print(f.read())"
      ],
      "execution_count": null,
      "outputs": []
    },
    {
      "cell_type": "code",
      "metadata": {
        "id": "B7ITL3ZWm5__"
      },
      "source": [
        "f = open('/content/archivo.txt', 'r')\n",
        "print(f.read(5))"
      ],
      "execution_count": null,
      "outputs": []
    },
    {
      "cell_type": "code",
      "metadata": {
        "id": "HD38MhYnnEGk"
      },
      "source": [
        "f = open('/content/archivo.txt', 'r')\n",
        "print(f.readline())"
      ],
      "execution_count": null,
      "outputs": []
    },
    {
      "cell_type": "code",
      "metadata": {
        "id": "Ltos7LalncvH"
      },
      "source": [
        "f = open('/content/archivo.txt', 'r')\n",
        "print(f.readline())\n",
        "print(f.readline())"
      ],
      "execution_count": null,
      "outputs": []
    },
    {
      "cell_type": "code",
      "metadata": {
        "id": "-TKNN31uniqs"
      },
      "source": [
        "f = open('/content/archivo.txt', 'r')\n",
        "for x in f:\n",
        "    print(x)"
      ],
      "execution_count": null,
      "outputs": []
    },
    {
      "cell_type": "code",
      "metadata": {
        "id": "vyfCMc77p624"
      },
      "source": [
        "f = open('/content/archivo.txt', 'r')\n",
        "print(f.readline())\n",
        "f.close()"
      ],
      "execution_count": null,
      "outputs": []
    },
    {
      "cell_type": "markdown",
      "metadata": {
        "id": "fE2SqpZVqqmA"
      },
      "source": [
        "###**El módulo `shutil`**\n",
        "\n",
        "El módulo `shutil` en Python proporciona muchas funciones de operaciones de alto nivel en archivos y colecciones de archivos. Viene bajo los módulos de utilidad estándar de Python. Este módulo ayuda a automatizar el proceso de copia y eliminación de archivos y directorios."
      ]
    },
    {
      "cell_type": "code",
      "metadata": {
        "id": "ylT1MSL1q2vG"
      },
      "source": [
        "import os\n",
        "import shutil\n",
        "  \n",
        "origen = '/content/archivo.txt'\n",
        "destino = '/content/archivo2.txt'\n",
        "  \n",
        "# Tipo de retorno: este método devuelve una cadena que representa la ruta del archivo recién creado.\n",
        "nuevodestino = shutil.copyfile(origen, destino)\n",
        "\n",
        "print(os.listdir('/content/'))\n",
        "  \n",
        "print('Archivo copiado satisfactoriamente en la ruta: ', nuevodestino)"
      ],
      "execution_count": null,
      "outputs": []
    },
    {
      "cell_type": "markdown",
      "metadata": {
        "id": "fiDSUPnVqC1R"
      },
      "source": [
        "###**Escritura de archivos**\n",
        "\n",
        "Para escribir en un archivo existente, debe agregar un parámetro a la función `open()`:\n",
        "\n",
        "*   `'a'` - Append - se agregará al final del archivo\n",
        "*   `'w' `- Write - sobrescribirá cualquier contenido existente\n",
        "\n",
        "###**Escritura de archivos usando Append**\n",
        "\n",
        "Usando el nuevo archivo creado `archivo2.txt` agregaremos una nueva línea al final del texto usando el parámetro `a` de Append.\n",
        "\n",
        "```python\n",
        "f = open('archivo2.txt', 'a')\n",
        "f.write('\\nEl final es diferente, ahora soy yo el final')\n",
        "f.close()\n",
        "\n",
        "f = open('archivo2.txt', 'r')\n",
        "print(f.read())\n",
        "```\n",
        "\n",
        "Nota: `\\n` Crea una nueva línea\n",
        "\n",
        "###**Escritura de archivos usando Write**\n",
        "\n",
        "Crear un nuevo archivo copia de `archivo.txt` llamado originalmente `archivo3.txt`\n",
        "Usando el nuevo archivo creado `archivo3.txt` eliminaremos todo el contenido del archivo y sobrescribiremos en él.\n",
        "\n",
        "```python\n",
        "f = open('archivo2.txt', 'w')\n",
        "f.write(\"Ahora soy la unica línea de texto en el archivo 3, JAJAJAJAJAJA\")\n",
        "f.close()\n",
        "\n",
        "f = open('archivo2.txt', 'r')\n",
        "print(f.read())\n",
        "```\n",
        "\n",
        "Nota: `\\n` Crea una nueva línea"
      ]
    },
    {
      "cell_type": "code",
      "metadata": {
        "id": "IxH0DhMNsK7d"
      },
      "source": [
        "f = open(\"archivo2.txt\", \"a\")\n",
        "f.write(\"\\nEl final es diferente, ahora soy yo el final\")\n",
        "f.close()\n",
        "\n",
        "f = open(\"archivo2.txt\", \"r\")\n",
        "print(f.read())"
      ],
      "execution_count": null,
      "outputs": []
    },
    {
      "cell_type": "code",
      "metadata": {
        "id": "hBZ3kT3AtBso"
      },
      "source": [
        "import os\n",
        "import shutil\n",
        "  \n",
        "origen = '/content/archivo.txt'\n",
        "destino = '/content/archivo3.txt'\n",
        "  \n",
        "# Tipo de retorno: este método devuelve una cadena que representa la ruta del archivo recién creado.\n",
        "nuevodestino = shutil.copyfile(origen, destino)\n",
        "\n",
        "print(os.listdir('/content/'))\n",
        "  \n",
        "print('Archivo copiado satisfactoriamente en la ruta: ', nuevodestino)"
      ],
      "execution_count": null,
      "outputs": []
    },
    {
      "cell_type": "code",
      "metadata": {
        "id": "DVdS4GXgt5m9"
      },
      "source": [
        "f = open('archivo2.txt', 'w')\n",
        "f.write(\"Ahora soy la unica línea de texto en el archivo 3, JAJAJAJAJAJA\")\n",
        "f.close()\n",
        "\n",
        "f = open('archivo2.txt', 'r')\n",
        "print(f.read())"
      ],
      "execution_count": null,
      "outputs": []
    },
    {
      "cell_type": "markdown",
      "metadata": {
        "id": "r4fsYQoVuE4p"
      },
      "source": [
        "###**Crear un archivo nuevo**\n",
        "\n",
        "Para crear un nuevo archivo en Python, usamos el mismo método `open()`, con uno de los siguientes parámetros:\n",
        "\n",
        "*   `'x'` - Create - creará un archivo, devuelve un error si el archivo existe\n",
        "*   `'a'` - Append - creará un archivo si el archivo especificado no existe\n",
        "*   `'w'` - Write - creará un archivo si el archivo especificado no existe\n",
        "\n",
        "Creamos un archivo llamado `nuevoarchivo.txt`\n",
        "\n",
        "```python\n",
        "f = open('nuevoarchivo.txt', 'x')\n",
        "```\n",
        "\n",
        "Creamos un archivo nuevo llamado `nuevoarchivo.txt` si este no existe.\n",
        "\n",
        "```python\n",
        "f = open('nuevoarchivo.txt', 'w')\n",
        "```\n",
        "\n",
        "Nota: Nótese que no estamos llamando el directorio `/content/`, Python en Google Colab crea por defecto todos los archivos e interacciones en dicha carpeta.\n",
        "\n",
        "\n"
      ]
    },
    {
      "cell_type": "code",
      "metadata": {
        "id": "lSGcpw94vBIU"
      },
      "source": [
        "f = open('nuevoarchivo.txt', 'x')"
      ],
      "execution_count": null,
      "outputs": []
    },
    {
      "cell_type": "code",
      "metadata": {
        "id": "gp7wodIzvGAh"
      },
      "source": [
        "f = open('nuevoarchivo.txt', 'w')"
      ],
      "execution_count": null,
      "outputs": []
    },
    {
      "cell_type": "markdown",
      "metadata": {
        "id": "R6w-n3a9wCQs"
      },
      "source": [
        "Si el archivo existe y utilizamos el parámetro `x` nos presenta el siguiente error:\n",
        "\n",
        "\n",
        "```\n",
        "---------------------------------------------------------------------------\n",
        "FileExistsError Traceback (most recent call last)\n",
        "<ipython-input-39-81b73c73b5bd> in <module>()\n",
        "----> 1 f = open('nuevoarchivo.txt', 'x')\n",
        "FileExistsError: [Errno 17] File exists: 'nuevoarchivo.txt'\n",
        "```"
      ]
    },
    {
      "cell_type": "markdown",
      "metadata": {
        "id": "vHLacNQjwjO9"
      },
      "source": [
        "###**Borrar archivos**\n",
        "\n",
        "Para eliminar un archivo, debe importar el módulo del sistema operativo y ejecutar su función `os.remove()`:\n",
        "Creamos un archivo llamado `nuevoarchivo.txt`\n",
        "\n",
        "A continuación eliminaremos el nuevo archivo, \n",
        "```python\n",
        "import os\n",
        "os.remove(\"nuevoarchivo.txt\")\n",
        "```\n",
        "\n",
        "Ahora verifiquemos que el archivo ya no exista.\n",
        "\n",
        "```python\n",
        "import os\n",
        "if os.path.exists(\"nuevoarchivo.txt\"):\n",
        "  os.remove(\"nuevoarchivo.txt\")\n",
        "else:\n",
        "  print(\"El Archivo nuevo, ha muerto, ya no existe\")\n",
        "```\n",
        "\n"
      ]
    },
    {
      "cell_type": "code",
      "metadata": {
        "id": "bd8D4SnJxI8f"
      },
      "source": [
        "import os\n",
        "os.remove(\"nuevoarchivo.txt\")"
      ],
      "execution_count": null,
      "outputs": []
    },
    {
      "cell_type": "code",
      "metadata": {
        "id": "6ZwS0soyxLUA"
      },
      "source": [
        "import os\n",
        "if os.path.exists(\"nuevoarchivo.txt\"):\n",
        "  os.remove(\"nuevoarchivo.txt\")\n",
        "else:\n",
        "  print(\"El Archivo nuevo, ha muerto, ya no existe\")"
      ],
      "execution_count": null,
      "outputs": []
    },
    {
      "cell_type": "markdown",
      "metadata": {
        "id": "scrqrtlGZkRU"
      },
      "source": [
        "<p><a name=\"s2\"></a></p>\n",
        "\n",
        "# **02. NumPy**\n",
        "[[Contenidos]](#contents)\n",
        "\n",
        "[![](https://raw.githubusercontent.com/juliancastillo-iudigital/FundamentosProgramacionPosgrados2021-1/main/NumPy.png)](https://numpy.org/)"
      ]
    },
    {
      "cell_type": "markdown",
      "metadata": {
        "id": "g9AMIuz3xYC7"
      },
      "source": [
        "##**¿Qué es [NumPy](https://numpy.org/)?**\n",
        "\n",
        "\n",
        "NumPy es el paquete fundamental para la computación científica en Python. Es una biblioteca de Python que proporciona un objeto de matriz multidimensional, varios objetos derivados (como matrices y [matrices enmascaradas](https://numpy.org/doc/stable/reference/maskedarray.html) y una variedad de rutinas para operaciones rápidas en matrices, que incluyen operaciones matemáticas, lógica, manipulación de formas, clasificación, selección, I/O (input/output), transformadas discretas de Fourier, álgebra lineal básica, operaciones estadísticas básicas, simulación aleatoria y mucho más.\n",
        "\n",
        "En el núcleo del paquete NumPy, se encuentra el objeto `ndarray`. Esto encapsula matrices n-dimensionales de tipos de datos homogéneos, con muchas operaciones que se realizan en código compilado para mejorar el rendimiento. Hay varias diferencias importantes entre las matrices NumPy y las secuencias estándar de Python:\n",
        "\n",
        "*   Las matrices NumPy tienen un tamaño fijo en el momento de la creación, a diferencia de las listas de Python (que pueden crecer dinámicamente). Cambiar el tamaño de un ndarray creará una nueva matriz y eliminará la original.\n",
        "\n",
        "*   Todos los elementos de una matriz NumPy deben ser del mismo tipo de datos y, por lo tanto, tendrán el mismo tamaño en la memoria. La excepción: uno puede tener matrices de objetos (Python, incluido NumPy), lo que permite matrices de elementos de diferentes tamaños.\n",
        "\n",
        "*   Las matrices NumPy facilitan operaciones matemáticas avanzadas y de otro tipo en grandes cantidades de datos. Por lo general, estas operaciones se ejecutan de manera más eficiente y con menos código de lo que es posible usando las secuencias integradas de Python.\n",
        "\n",
        "*   Una creciente plétora de paquetes científicos y matemáticos basados ​​en Python utilizan matrices NumPy; aunque estos suelen admitir la entrada de secuencia de Python, convierten dicha entrada en matrices NumPy antes del procesamiento y, a menudo, generan matrices NumPy. En otras palabras, para usar de manera eficiente gran parte (quizás incluso la mayoría) del software científico / matemático basado en Python de hoy en día, simplemente saber cómo usar los tipos de secuencia integrados de Python es insuficiente; también es necesario saber cómo usar las matrices NumPy.\n",
        "\n",
        "Los puntos sobre el tamaño y la velocidad de la secuencia son particularmente importantes en la computación científica. Como ejemplo simple, considere el caso de multiplicar cada elemento en una secuencia 1-D con el elemento correspondiente en otra secuencia de la misma longitud. Si los datos se almacenan en dos listas de Python, `a` y `b`, podríamos iterar sobre cada elemento:\n",
        "\n",
        "```python\n",
        "c = []\n",
        "for i in range(len(a)):\n",
        "    c.append(a[i]*b[i])\n",
        "```\n",
        "Esto produce la respuesta correcta, pero si `a` y `b` contienen millones de números cada uno, pagaremos el precio por las ineficiencias de los bucles en Python. Podríamos realizar la misma tarea mucho más rápidamente en *C* escribiendo (para mayor claridad, descuidamos las declaraciones e inicializaciones de variables, la asignación de memoria, etc.)\n",
        "\n",
        "```c\n",
        "for (i = 0; i < rows; i++): {\n",
        "  c[i] = a[i]*b[i];\n",
        "}\n",
        "```\n",
        "Esto ahorra todos los gastos generales involucrados en la interpretación del código Python y la manipulación de objetos Python, pero a expensas de los beneficios obtenidos de la codificación en Python. Además, el trabajo de codificación requerido aumenta con la dimensionalidad de nuestros datos. En el caso de una matriz 2-D, por ejemplo, el código C (abreviado como antes) se expande a:\n",
        "```c\n",
        "for (i = 0; i < rows; i++): {\n",
        "  for (j = 0; j < columns; j++): {\n",
        "    c[i][j] = a[i][j]*b[i][j];\n",
        "  }\n",
        "}\n",
        "```\n",
        "NumPy nos da lo mejor de ambos mundos: las operaciones elemento por elemento son el \"modo predeterminado\" cuando se trata de un ndarray, pero la operación elemento por elemento se ejecuta rápidamente mediante código C precompilado. En NumPy `c = a * b` hace lo que hacen los ejemplos anteriores, a velocidades cercanas a *C*, pero con la simplicidad de código que esperamos de algo basado en Python. De hecho, ¡el modismo de NumPy es aún más simple! Este último ejemplo ilustra dos de las características de NumPy que son la base de gran parte de su poder: vectorización y difusión.\n",
        "\n",
        "###**¿Por qué NumPy es rápido?**\n",
        "\n",
        "La vectorización describe la ausencia de cualquier bucle explícito, indexación, etc., en el código; estas cosas están sucediendo, por supuesto, sólo \"detrás de escena\" en código *C* optimizado y precompilado. El código vectorizado tiene muchas ventajas, entre las que se encuentran:\n",
        "\n",
        "*   El código vectorizado es más conciso y más fácil de leer\n",
        "*   Menos líneas de código generalmente significan menos errores\n",
        "*   El código se parece más a la notación matemática estándar (lo que facilita, por lo general, codificar correctamente las construcciones matemáticas)\n",
        "*   La vectorización da como resultado un código más \"Pythonic\". Sin la vectorización, nuestro código estaría plagado de ciclos `for` ineficientes y difíciles de leer.\n",
        "\n",
        "###**Broadcasting**\n",
        "\n",
        "Broadcasting es el término utilizado para describir el comportamiento implícito elemento por elemento de las operaciones; En términos generales, en NumPy todas las operaciones, no solo las operaciones aritméticas, sino las lógicas, bit a bit, funcionales, etc., se comportan de esta manera implícita elemento por elemento, es decir, se realiza broadcast. Además, en el ejemplo anterior, `a` y `b` podrían ser matrices multidimensionales de la misma forma, o un escalar y una matriz, o incluso dos matrices con formas diferentes, siempre que la matriz más pequeña sea \"expandible\" a la forma de la más grande. de tal manera que la emisión resultante sea inequívoca. Para conocer las “reglas” detalladas de broadcasting, consulte [`basics.broadcasting`](https://numpy.org/doc/stable/user/basics.broadcasting.html)"
      ]
    },
    {
      "cell_type": "markdown",
      "metadata": {
        "id": "ontirwFJ0m93"
      },
      "source": [
        "##**Instalación de NumPy**\n",
        "\n",
        "Instalar NumPy en Google Colab no es necesario, dicho módulo se encuentra instalado, en caso de necesitar la instalación relacionamos un `pip install` con la llamada al módulo NumPy.\n",
        "\n",
        "\n",
        "```python\n",
        "!pip install numpy\n",
        "```\n",
        "Importar el módulo NumPy se realiza con la palabra clave `import` y nótese el alias asignado al módulo es `np` el cual es de uso generalizado en la comunidad de NumPy.\n",
        "\n",
        "```python\n",
        "import numpy as np\n",
        "```\n",
        "Ahora utilicemos nuestro nuevo módulo para crear un vector (array).\n",
        "\n",
        "```python\n",
        "arr = np.array([1, 2, 3, 4, 5])\n",
        "print(arr)\n",
        "```\n",
        "Para verificar la versión de Numpy se puede realizar con `!pip list` o con la llamada especifica usando `!pip show numpy` o `!pip show --verbose numpy`\n"
      ]
    },
    {
      "cell_type": "code",
      "metadata": {
        "id": "r4XkkiWA0xes",
        "colab": {
          "base_uri": "https://localhost:8080/"
        },
        "outputId": "4b109723-2afc-4c68-eb75-06a16621fd6e"
      },
      "source": [
        "!pip list -v"
      ],
      "execution_count": null,
      "outputs": [
        {
          "output_type": "stream",
          "text": [
            "Package                       Version        Location                               Installer\n",
            "----------------------------- -------------- -------------------------------------- ---------\n",
            "absl-py                       0.12.0         /usr/local/lib/python3.7/dist-packages pip      \n",
            "alabaster                     0.7.12         /usr/local/lib/python3.7/dist-packages pip      \n",
            "albumentations                0.1.12         /usr/local/lib/python3.7/dist-packages pip      \n",
            "altair                        4.1.0          /usr/local/lib/python3.7/dist-packages pip      \n",
            "appdirs                       1.4.4          /usr/local/lib/python3.7/dist-packages pip      \n",
            "argon2-cffi                   20.1.0         /usr/local/lib/python3.7/dist-packages pip      \n",
            "arviz                         0.11.2         /usr/local/lib/python3.7/dist-packages pip      \n",
            "astor                         0.8.1          /usr/local/lib/python3.7/dist-packages pip      \n",
            "astropy                       4.2.1          /usr/local/lib/python3.7/dist-packages pip      \n",
            "astunparse                    1.6.3          /usr/local/lib/python3.7/dist-packages pip      \n",
            "async-generator               1.10           /usr/local/lib/python3.7/dist-packages pip      \n",
            "atari-py                      0.2.6          /usr/local/lib/python3.7/dist-packages pip      \n",
            "atomicwrites                  1.4.0          /usr/local/lib/python3.7/dist-packages pip      \n",
            "attrs                         21.2.0         /usr/local/lib/python3.7/dist-packages pip      \n",
            "audioread                     2.1.9          /usr/local/lib/python3.7/dist-packages pip      \n",
            "autograd                      1.3            /usr/local/lib/python3.7/dist-packages pip      \n",
            "Babel                         2.9.1          /usr/local/lib/python3.7/dist-packages pip      \n",
            "backcall                      0.2.0          /usr/local/lib/python3.7/dist-packages pip      \n",
            "beautifulsoup4                4.6.3          /usr/local/lib/python3.7/dist-packages pip      \n",
            "bleach                        3.3.0          /usr/local/lib/python3.7/dist-packages pip      \n",
            "blis                          0.4.1          /usr/local/lib/python3.7/dist-packages pip      \n",
            "bokeh                         2.3.2          /usr/local/lib/python3.7/dist-packages pip      \n",
            "Bottleneck                    1.3.2          /usr/local/lib/python3.7/dist-packages pip      \n",
            "branca                        0.4.2          /usr/local/lib/python3.7/dist-packages pip      \n",
            "bs4                           0.0.1          /usr/local/lib/python3.7/dist-packages pip      \n",
            "CacheControl                  0.12.6         /usr/local/lib/python3.7/dist-packages pip      \n",
            "cachetools                    4.2.2          /usr/local/lib/python3.7/dist-packages pip      \n",
            "catalogue                     1.0.0          /usr/local/lib/python3.7/dist-packages pip      \n",
            "certifi                       2020.12.5      /usr/local/lib/python3.7/dist-packages pip      \n",
            "cffi                          1.14.5         /usr/local/lib/python3.7/dist-packages pip      \n",
            "cftime                        1.4.1          /usr/local/lib/python3.7/dist-packages pip      \n",
            "chainer                       7.4.0          /usr/local/lib/python3.7/dist-packages pip      \n",
            "chardet                       3.0.4          /usr/local/lib/python3.7/dist-packages pip      \n",
            "click                         8.0.0          /usr/local/lib/python3.7/dist-packages pip      \n",
            "cloudpickle                   1.3.0          /usr/local/lib/python3.7/dist-packages pip      \n",
            "cmake                         3.12.0         /usr/local/lib/python3.7/dist-packages pip      \n",
            "cmdstanpy                     0.9.5          /usr/local/lib/python3.7/dist-packages pip      \n",
            "colorcet                      2.0.6          /usr/local/lib/python3.7/dist-packages pip      \n",
            "colorlover                    0.3.0          /usr/local/lib/python3.7/dist-packages pip      \n",
            "community                     1.0.0b1        /usr/local/lib/python3.7/dist-packages pip      \n",
            "contextlib2                   0.5.5          /usr/local/lib/python3.7/dist-packages pip      \n",
            "convertdate                   2.3.2          /usr/local/lib/python3.7/dist-packages pip      \n",
            "coverage                      3.7.1          /usr/local/lib/python3.7/dist-packages pip      \n",
            "coveralls                     0.5            /usr/local/lib/python3.7/dist-packages pip      \n",
            "crcmod                        1.7            /usr/local/lib/python3.7/dist-packages pip      \n",
            "cufflinks                     0.17.3         /usr/local/lib/python3.7/dist-packages pip      \n",
            "cvxopt                        1.2.6          /usr/local/lib/python3.7/dist-packages pip      \n",
            "cvxpy                         1.0.31         /usr/local/lib/python3.7/dist-packages pip      \n",
            "cycler                        0.10.0         /usr/local/lib/python3.7/dist-packages pip      \n",
            "cymem                         2.0.5          /usr/local/lib/python3.7/dist-packages pip      \n",
            "Cython                        0.29.23        /usr/local/lib/python3.7/dist-packages pip      \n",
            "daft                          0.0.4          /usr/local/lib/python3.7/dist-packages pip      \n",
            "dask                          2.12.0         /usr/local/lib/python3.7/dist-packages pip      \n",
            "datascience                   0.10.6         /usr/local/lib/python3.7/dist-packages pip      \n",
            "debugpy                       1.0.0          /usr/local/lib/python3.7/dist-packages pip      \n",
            "decorator                     4.4.2          /usr/local/lib/python3.7/dist-packages pip      \n",
            "defusedxml                    0.7.1          /usr/local/lib/python3.7/dist-packages pip      \n",
            "descartes                     1.1.0          /usr/local/lib/python3.7/dist-packages pip      \n",
            "dill                          0.3.3          /usr/local/lib/python3.7/dist-packages pip      \n",
            "distributed                   1.25.3         /usr/local/lib/python3.7/dist-packages pip      \n",
            "dlib                          19.18.0        /usr/local/lib/python3.7/dist-packages pip      \n",
            "dm-tree                       0.1.6          /usr/local/lib/python3.7/dist-packages pip      \n",
            "docopt                        0.6.2          /usr/local/lib/python3.7/dist-packages pip      \n",
            "docutils                      0.17.1         /usr/local/lib/python3.7/dist-packages pip      \n",
            "dopamine-rl                   1.0.5          /usr/local/lib/python3.7/dist-packages pip      \n",
            "earthengine-api               0.1.264        /usr/local/lib/python3.7/dist-packages pip      \n",
            "easydict                      1.9            /usr/local/lib/python3.7/dist-packages pip      \n",
            "ecos                          2.0.7.post1    /usr/local/lib/python3.7/dist-packages pip      \n",
            "editdistance                  0.5.3          /usr/local/lib/python3.7/dist-packages pip      \n",
            "en-core-web-sm                2.2.5          /usr/local/lib/python3.7/dist-packages pip      \n",
            "entrypoints                   0.3            /usr/local/lib/python3.7/dist-packages pip      \n",
            "ephem                         3.7.7.1        /usr/local/lib/python3.7/dist-packages pip      \n",
            "et-xmlfile                    1.1.0          /usr/local/lib/python3.7/dist-packages pip      \n",
            "fa2                           0.3.5          /usr/local/lib/python3.7/dist-packages pip      \n",
            "fancyimpute                   0.4.3          /usr/local/lib/python3.7/dist-packages pip      \n",
            "fastai                        1.0.61         /usr/local/lib/python3.7/dist-packages pip      \n",
            "fastdtw                       0.3.4          /usr/local/lib/python3.7/dist-packages pip      \n",
            "fastprogress                  1.0.0          /usr/local/lib/python3.7/dist-packages pip      \n",
            "fastrlock                     0.6            /usr/local/lib/python3.7/dist-packages pip      \n",
            "fbprophet                     0.7.1          /usr/local/lib/python3.7/dist-packages          \n",
            "feather-format                0.4.1          /usr/local/lib/python3.7/dist-packages pip      \n",
            "filelock                      3.0.12         /usr/local/lib/python3.7/dist-packages pip      \n",
            "firebase-admin                4.4.0          /usr/local/lib/python3.7/dist-packages pip      \n",
            "fix-yahoo-finance             0.0.22         /usr/local/lib/python3.7/dist-packages pip      \n",
            "Flask                         1.1.2          /usr/local/lib/python3.7/dist-packages pip      \n",
            "flatbuffers                   1.12           /usr/local/lib/python3.7/dist-packages pip      \n",
            "folium                        0.8.3          /usr/local/lib/python3.7/dist-packages pip      \n",
            "future                        0.16.0         /usr/local/lib/python3.7/dist-packages pip      \n",
            "gast                          0.3.3          /usr/local/lib/python3.7/dist-packages pip      \n",
            "GDAL                          2.2.2          /usr/local/lib/python3.7/dist-packages pip      \n",
            "gdown                         3.6.4          /usr/local/lib/python3.7/dist-packages pip      \n",
            "gensim                        3.6.0          /usr/local/lib/python3.7/dist-packages pip      \n",
            "geographiclib                 1.50           /usr/local/lib/python3.7/dist-packages pip      \n",
            "geopy                         1.17.0         /usr/local/lib/python3.7/dist-packages pip      \n",
            "gin-config                    0.4.0          /usr/local/lib/python3.7/dist-packages pip      \n",
            "glob2                         0.7            /usr/local/lib/python3.7/dist-packages pip      \n",
            "google                        2.0.3          /usr/local/lib/python3.7/dist-packages pip      \n",
            "google-api-core               1.26.3         /usr/local/lib/python3.7/dist-packages pip      \n",
            "google-api-python-client      1.12.8         /usr/local/lib/python3.7/dist-packages pip      \n",
            "google-auth                   1.30.0         /usr/local/lib/python3.7/dist-packages pip      \n",
            "google-auth-httplib2          0.0.4          /usr/local/lib/python3.7/dist-packages pip      \n",
            "google-auth-oauthlib          0.4.4          /usr/local/lib/python3.7/dist-packages pip      \n",
            "google-cloud-bigquery         1.21.0         /usr/local/lib/python3.7/dist-packages pip      \n",
            "google-cloud-bigquery-storage 1.1.0          /usr/local/lib/python3.7/dist-packages pip      \n",
            "google-cloud-core             1.0.3          /usr/local/lib/python3.7/dist-packages pip      \n",
            "google-cloud-datastore        1.8.0          /usr/local/lib/python3.7/dist-packages pip      \n",
            "google-cloud-firestore        1.7.0          /usr/local/lib/python3.7/dist-packages pip      \n",
            "google-cloud-language         1.2.0          /usr/local/lib/python3.7/dist-packages pip      \n",
            "google-cloud-storage          1.18.1         /usr/local/lib/python3.7/dist-packages pip      \n",
            "google-cloud-translate        1.5.0          /usr/local/lib/python3.7/dist-packages pip      \n",
            "google-colab                  1.0.0          /usr/local/lib/python3.7/dist-packages pip      \n",
            "google-pasta                  0.2.0          /usr/local/lib/python3.7/dist-packages pip      \n",
            "google-resumable-media        0.4.1          /usr/local/lib/python3.7/dist-packages pip      \n",
            "googleapis-common-protos      1.53.0         /usr/local/lib/python3.7/dist-packages pip      \n",
            "googledrivedownloader         0.4            /usr/local/lib/python3.7/dist-packages pip      \n",
            "graphviz                      0.10.1         /usr/local/lib/python3.7/dist-packages pip      \n",
            "greenlet                      1.1.0          /usr/local/lib/python3.7/dist-packages pip      \n",
            "grpcio                        1.32.0         /usr/local/lib/python3.7/dist-packages pip      \n",
            "gspread                       3.0.1          /usr/local/lib/python3.7/dist-packages pip      \n",
            "gspread-dataframe             3.0.8          /usr/local/lib/python3.7/dist-packages pip      \n",
            "gym                           0.17.3         /usr/local/lib/python3.7/dist-packages pip      \n",
            "h5py                          2.10.0         /usr/local/lib/python3.7/dist-packages pip      \n",
            "HeapDict                      1.0.1          /usr/local/lib/python3.7/dist-packages pip      \n",
            "hijri-converter               2.1.1          /usr/local/lib/python3.7/dist-packages pip      \n",
            "holidays                      0.10.5.2       /usr/local/lib/python3.7/dist-packages pip      \n",
            "holoviews                     1.14.3         /usr/local/lib/python3.7/dist-packages pip      \n",
            "html5lib                      1.0.1          /usr/local/lib/python3.7/dist-packages pip      \n",
            "httpimport                    0.5.18         /usr/local/lib/python3.7/dist-packages pip      \n",
            "httplib2                      0.17.4         /usr/local/lib/python3.7/dist-packages pip      \n",
            "httplib2shim                  0.0.3          /usr/local/lib/python3.7/dist-packages pip      \n",
            "humanize                      0.5.1          /usr/local/lib/python3.7/dist-packages pip      \n",
            "hyperopt                      0.1.2          /usr/local/lib/python3.7/dist-packages pip      \n",
            "ideep4py                      2.0.0.post3    /usr/local/lib/python3.7/dist-packages pip      \n",
            "idna                          2.10           /usr/local/lib/python3.7/dist-packages pip      \n",
            "imageio                       2.4.1          /usr/local/lib/python3.7/dist-packages pip      \n",
            "imagesize                     1.2.0          /usr/local/lib/python3.7/dist-packages pip      \n",
            "imbalanced-learn              0.4.3          /usr/local/lib/python3.7/dist-packages pip      \n",
            "imblearn                      0.0            /usr/local/lib/python3.7/dist-packages pip      \n",
            "imgaug                        0.2.9          /usr/local/lib/python3.7/dist-packages pip      \n",
            "importlib-metadata            4.0.1          /usr/local/lib/python3.7/dist-packages pip      \n",
            "importlib-resources           5.1.2          /usr/local/lib/python3.7/dist-packages pip      \n",
            "imutils                       0.5.4          /usr/local/lib/python3.7/dist-packages pip      \n",
            "inflect                       2.1.0          /usr/local/lib/python3.7/dist-packages pip      \n",
            "iniconfig                     1.1.1          /usr/local/lib/python3.7/dist-packages pip      \n",
            "intel-openmp                  2021.2.0       /usr/local/lib/python3.7/dist-packages pip      \n",
            "intervaltree                  2.1.0          /usr/local/lib/python3.7/dist-packages pip      \n",
            "ipykernel                     4.10.1         /usr/local/lib/python3.7/dist-packages pip      \n",
            "ipython                       5.5.0          /usr/local/lib/python3.7/dist-packages pip      \n",
            "ipython-genutils              0.2.0          /usr/local/lib/python3.7/dist-packages pip      \n",
            "ipython-sql                   0.3.9          /usr/local/lib/python3.7/dist-packages pip      \n",
            "ipywidgets                    7.6.3          /usr/local/lib/python3.7/dist-packages pip      \n",
            "itsdangerous                  2.0.0          /usr/local/lib/python3.7/dist-packages pip      \n",
            "jax                           0.2.13         /usr/local/lib/python3.7/dist-packages pip      \n",
            "jaxlib                        0.1.66+cuda110 /usr/local/lib/python3.7/dist-packages pip      \n",
            "jdcal                         1.4.1          /usr/local/lib/python3.7/dist-packages pip      \n",
            "jedi                          0.18.0         /usr/local/lib/python3.7/dist-packages pip      \n",
            "jieba                         0.42.1         /usr/local/lib/python3.7/dist-packages pip      \n",
            "Jinja2                        2.11.3         /usr/local/lib/python3.7/dist-packages pip      \n",
            "joblib                        1.0.1          /usr/local/lib/python3.7/dist-packages pip      \n",
            "jpeg4py                       0.1.4          /usr/local/lib/python3.7/dist-packages pip      \n",
            "jsonschema                    2.6.0          /usr/local/lib/python3.7/dist-packages pip      \n",
            "jupyter                       1.0.0          /usr/local/lib/python3.7/dist-packages pip      \n",
            "jupyter-client                5.3.5          /usr/local/lib/python3.7/dist-packages pip      \n",
            "jupyter-console               5.2.0          /usr/local/lib/python3.7/dist-packages pip      \n",
            "jupyter-core                  4.7.1          /usr/local/lib/python3.7/dist-packages pip      \n",
            "jupyterlab-pygments           0.1.2          /usr/local/lib/python3.7/dist-packages pip      \n",
            "jupyterlab-widgets            1.0.0          /usr/local/lib/python3.7/dist-packages pip      \n",
            "kaggle                        1.5.12         /usr/local/lib/python3.7/dist-packages pip      \n",
            "kapre                         0.1.3.1        /usr/local/lib/python3.7/dist-packages pip      \n",
            "Keras                         2.4.3          /usr/local/lib/python3.7/dist-packages pip      \n",
            "Keras-Preprocessing           1.1.2          /usr/local/lib/python3.7/dist-packages pip      \n",
            "keras-vis                     0.4.1          /usr/local/lib/python3.7/dist-packages pip      \n",
            "kiwisolver                    1.3.1          /usr/local/lib/python3.7/dist-packages pip      \n",
            "knnimpute                     0.1.0          /usr/local/lib/python3.7/dist-packages pip      \n",
            "korean-lunar-calendar         0.2.1          /usr/local/lib/python3.7/dist-packages pip      \n",
            "librosa                       0.8.0          /usr/local/lib/python3.7/dist-packages pip      \n",
            "lightgbm                      2.2.3          /usr/local/lib/python3.7/dist-packages pip      \n",
            "llvmlite                      0.34.0         /usr/local/lib/python3.7/dist-packages pip      \n",
            "lmdb                          0.99           /usr/local/lib/python3.7/dist-packages pip      \n",
            "LunarCalendar                 0.0.9          /usr/local/lib/python3.7/dist-packages pip      \n",
            "lxml                          4.2.6          /usr/local/lib/python3.7/dist-packages pip      \n",
            "Markdown                      3.3.4          /usr/local/lib/python3.7/dist-packages pip      \n",
            "MarkupSafe                    2.0.0          /usr/local/lib/python3.7/dist-packages pip      \n",
            "matplotlib                    3.2.2          /usr/local/lib/python3.7/dist-packages pip      \n",
            "matplotlib-inline             0.1.2          /usr/local/lib/python3.7/dist-packages pip      \n",
            "matplotlib-venn               0.11.6         /usr/local/lib/python3.7/dist-packages pip      \n",
            "missingno                     0.4.2          /usr/local/lib/python3.7/dist-packages pip      \n",
            "mistune                       0.8.4          /usr/local/lib/python3.7/dist-packages pip      \n",
            "mizani                        0.6.0          /usr/local/lib/python3.7/dist-packages pip      \n",
            "mkl                           2019.0         /usr/local/lib/python3.7/dist-packages pip      \n",
            "mlxtend                       0.14.0         /usr/local/lib/python3.7/dist-packages pip      \n",
            "more-itertools                8.7.0          /usr/local/lib/python3.7/dist-packages pip      \n",
            "moviepy                       0.2.3.5        /usr/local/lib/python3.7/dist-packages pip      \n",
            "mpmath                        1.2.1          /usr/local/lib/python3.7/dist-packages pip      \n",
            "msgpack                       1.0.2          /usr/local/lib/python3.7/dist-packages pip      \n",
            "multiprocess                  0.70.11.1      /usr/local/lib/python3.7/dist-packages pip      \n",
            "multitasking                  0.0.9          /usr/local/lib/python3.7/dist-packages pip      \n",
            "murmurhash                    1.0.5          /usr/local/lib/python3.7/dist-packages pip      \n",
            "music21                       5.5.0          /usr/local/lib/python3.7/dist-packages pip      \n",
            "natsort                       5.5.0          /usr/local/lib/python3.7/dist-packages pip      \n",
            "nbclient                      0.5.3          /usr/local/lib/python3.7/dist-packages pip      \n",
            "nbconvert                     5.6.1          /usr/local/lib/python3.7/dist-packages pip      \n",
            "nbformat                      5.1.3          /usr/local/lib/python3.7/dist-packages pip      \n",
            "nest-asyncio                  1.5.1          /usr/local/lib/python3.7/dist-packages pip      \n",
            "netCDF4                       1.5.6          /usr/local/lib/python3.7/dist-packages pip      \n",
            "networkx                      2.5.1          /usr/local/lib/python3.7/dist-packages pip      \n",
            "nibabel                       3.0.2          /usr/local/lib/python3.7/dist-packages pip      \n",
            "nltk                          3.2.5          /usr/local/lib/python3.7/dist-packages pip      \n",
            "notebook                      5.3.1          /usr/local/lib/python3.7/dist-packages pip      \n",
            "np-utils                      0.5.12.1       /usr/local/lib/python3.7/dist-packages pip      \n",
            "numba                         0.51.2         /usr/local/lib/python3.7/dist-packages pip      \n",
            "numexpr                       2.7.3          /usr/local/lib/python3.7/dist-packages pip      \n",
            "numpy                         1.19.5         /usr/local/lib/python3.7/dist-packages pip      \n",
            "nvidia-ml-py3                 7.352.0        /usr/local/lib/python3.7/dist-packages pip      \n",
            "oauth2client                  4.1.3          /usr/local/lib/python3.7/dist-packages pip      \n",
            "oauthlib                      3.1.0          /usr/local/lib/python3.7/dist-packages pip      \n",
            "okgrade                       0.4.3          /usr/local/lib/python3.7/dist-packages pip      \n",
            "opencv-contrib-python         4.1.2.30       /usr/local/lib/python3.7/dist-packages pip      \n",
            "opencv-python                 4.1.2.30       /usr/local/lib/python3.7/dist-packages pip      \n",
            "openpyxl                      2.5.9          /usr/local/lib/python3.7/dist-packages pip      \n",
            "opt-einsum                    3.3.0          /usr/local/lib/python3.7/dist-packages pip      \n",
            "osqp                          0.6.2.post0    /usr/local/lib/python3.7/dist-packages pip      \n",
            "packaging                     20.9           /usr/local/lib/python3.7/dist-packages pip      \n",
            "palettable                    3.3.0          /usr/local/lib/python3.7/dist-packages pip      \n",
            "pandas                        1.1.5          /usr/local/lib/python3.7/dist-packages pip      \n",
            "pandas-datareader             0.9.0          /usr/local/lib/python3.7/dist-packages pip      \n",
            "pandas-gbq                    0.13.3         /usr/local/lib/python3.7/dist-packages pip      \n",
            "pandas-profiling              1.4.1          /usr/local/lib/python3.7/dist-packages pip      \n",
            "pandocfilters                 1.4.3          /usr/local/lib/python3.7/dist-packages pip      \n",
            "panel                         0.11.3         /usr/local/lib/python3.7/dist-packages pip      \n",
            "param                         1.10.1         /usr/local/lib/python3.7/dist-packages pip      \n",
            "parso                         0.8.2          /usr/local/lib/python3.7/dist-packages pip      \n",
            "pathlib                       1.0.1          /usr/local/lib/python3.7/dist-packages pip      \n",
            "patsy                         0.5.1          /usr/local/lib/python3.7/dist-packages pip      \n",
            "pexpect                       4.8.0          /usr/local/lib/python3.7/dist-packages pip      \n",
            "pickleshare                   0.7.5          /usr/local/lib/python3.7/dist-packages pip      \n",
            "Pillow                        7.1.2          /usr/local/lib/python3.7/dist-packages pip      \n",
            "pip                           19.3.1         /usr/local/lib/python3.7/dist-packages pip      \n",
            "pip-tools                     4.5.1          /usr/local/lib/python3.7/dist-packages pip      \n",
            "plac                          1.1.3          /usr/local/lib/python3.7/dist-packages pip      \n",
            "plotly                        4.4.1          /usr/local/lib/python3.7/dist-packages pip      \n",
            "plotnine                      0.6.0          /usr/local/lib/python3.7/dist-packages pip      \n",
            "pluggy                        0.7.1          /usr/local/lib/python3.7/dist-packages pip      \n",
            "pooch                         1.3.0          /usr/local/lib/python3.7/dist-packages pip      \n",
            "portpicker                    1.3.9          /usr/local/lib/python3.7/dist-packages pip      \n",
            "prefetch-generator            1.0.1          /usr/local/lib/python3.7/dist-packages pip      \n",
            "preshed                       3.0.5          /usr/local/lib/python3.7/dist-packages pip      \n",
            "prettytable                   2.1.0          /usr/local/lib/python3.7/dist-packages pip      \n",
            "progressbar2                  3.38.0         /usr/local/lib/python3.7/dist-packages pip      \n",
            "prometheus-client             0.10.1         /usr/local/lib/python3.7/dist-packages pip      \n",
            "promise                       2.3            /usr/local/lib/python3.7/dist-packages pip      \n",
            "prompt-toolkit                1.0.18         /usr/local/lib/python3.7/dist-packages pip      \n",
            "protobuf                      3.12.4         /usr/local/lib/python3.7/dist-packages pip      \n",
            "psutil                        5.4.8          /usr/local/lib/python3.7/dist-packages pip      \n",
            "psycopg2                      2.7.6.1        /usr/local/lib/python3.7/dist-packages pip      \n",
            "ptyprocess                    0.7.0          /usr/local/lib/python3.7/dist-packages pip      \n",
            "py                            1.10.0         /usr/local/lib/python3.7/dist-packages pip      \n",
            "pyarrow                       3.0.0          /usr/local/lib/python3.7/dist-packages pip      \n",
            "pyasn1                        0.4.8          /usr/local/lib/python3.7/dist-packages pip      \n",
            "pyasn1-modules                0.2.8          /usr/local/lib/python3.7/dist-packages pip      \n",
            "pycocotools                   2.0.2          /usr/local/lib/python3.7/dist-packages pip      \n",
            "pycparser                     2.20           /usr/local/lib/python3.7/dist-packages pip      \n",
            "pyct                          0.4.8          /usr/local/lib/python3.7/dist-packages pip      \n",
            "pydata-google-auth            1.2.0          /usr/local/lib/python3.7/dist-packages pip      \n",
            "pydot                         1.3.0          /usr/local/lib/python3.7/dist-packages pip      \n",
            "pydot-ng                      2.0.0          /usr/local/lib/python3.7/dist-packages pip      \n",
            "pydotplus                     2.0.2          /usr/local/lib/python3.7/dist-packages pip      \n",
            "PyDrive                       1.3.1          /usr/local/lib/python3.7/dist-packages pip      \n",
            "pyemd                         0.5.1          /usr/local/lib/python3.7/dist-packages pip      \n",
            "pyerfa                        1.7.3          /usr/local/lib/python3.7/dist-packages pip      \n",
            "pyglet                        1.5.0          /usr/local/lib/python3.7/dist-packages pip      \n",
            "Pygments                      2.6.1          /usr/local/lib/python3.7/dist-packages pip      \n",
            "pygobject                     3.26.1         /usr/lib/python3/dist-packages                  \n",
            "pymc3                         3.11.2         /usr/local/lib/python3.7/dist-packages pip      \n",
            "PyMeeus                       0.5.11         /usr/local/lib/python3.7/dist-packages pip      \n",
            "pymongo                       3.11.4         /usr/local/lib/python3.7/dist-packages pip      \n",
            "pymystem3                     0.2.0          /usr/local/lib/python3.7/dist-packages pip      \n",
            "PyOpenGL                      3.1.5          /usr/local/lib/python3.7/dist-packages pip      \n",
            "pyparsing                     2.4.7          /usr/local/lib/python3.7/dist-packages pip      \n",
            "pyrsistent                    0.17.3         /usr/local/lib/python3.7/dist-packages pip      \n",
            "pysndfile                     1.3.8          /usr/local/lib/python3.7/dist-packages pip      \n",
            "PySocks                       1.7.1          /usr/local/lib/python3.7/dist-packages pip      \n",
            "pystan                        2.19.1.1       /usr/local/lib/python3.7/dist-packages pip      \n",
            "pytest                        3.6.4          /usr/local/lib/python3.7/dist-packages pip      \n",
            "python-apt                    0.0.0          /usr/local/lib/python3.7/dist-packages          \n",
            "python-chess                  0.23.11        /usr/local/lib/python3.7/dist-packages pip      \n",
            "python-dateutil               2.8.1          /usr/local/lib/python3.7/dist-packages pip      \n",
            "python-louvain                0.15           /usr/local/lib/python3.7/dist-packages pip      \n",
            "python-slugify                5.0.2          /usr/local/lib/python3.7/dist-packages pip      \n",
            "python-utils                  2.5.6          /usr/local/lib/python3.7/dist-packages pip      \n",
            "pytz                          2018.9         /usr/local/lib/python3.7/dist-packages pip      \n",
            "pyviz-comms                   2.0.1          /usr/local/lib/python3.7/dist-packages pip      \n",
            "PyWavelets                    1.1.1          /usr/local/lib/python3.7/dist-packages pip      \n",
            "PyYAML                        3.13           /usr/local/lib/python3.7/dist-packages pip      \n",
            "pyzmq                         22.0.3         /usr/local/lib/python3.7/dist-packages pip      \n",
            "qdldl                         0.1.5.post0    /usr/local/lib/python3.7/dist-packages pip      \n",
            "qtconsole                     5.1.0          /usr/local/lib/python3.7/dist-packages pip      \n",
            "QtPy                          1.9.0          /usr/local/lib/python3.7/dist-packages pip      \n",
            "regex                         2019.12.20     /usr/local/lib/python3.7/dist-packages pip      \n",
            "requests                      2.23.0         /usr/local/lib/python3.7/dist-packages pip      \n",
            "requests-oauthlib             1.3.0          /usr/local/lib/python3.7/dist-packages pip      \n",
            "resampy                       0.2.2          /usr/local/lib/python3.7/dist-packages pip      \n",
            "retrying                      1.3.3          /usr/local/lib/python3.7/dist-packages pip      \n",
            "rpy2                          3.4.4          /usr/local/lib/python3.7/dist-packages pip      \n",
            "rsa                           4.7.2          /usr/local/lib/python3.7/dist-packages pip      \n",
            "scikit-image                  0.16.2         /usr/local/lib/python3.7/dist-packages pip      \n",
            "scikit-learn                  0.22.2.post1   /usr/local/lib/python3.7/dist-packages pip      \n",
            "scipy                         1.4.1          /usr/local/lib/python3.7/dist-packages pip      \n",
            "screen-resolution-extra       0.0.0          /usr/lib/python3/dist-packages                  \n",
            "scs                           2.1.3          /usr/local/lib/python3.7/dist-packages pip      \n",
            "seaborn                       0.11.1         /usr/local/lib/python3.7/dist-packages pip      \n",
            "semver                        2.13.0         /usr/local/lib/python3.7/dist-packages pip      \n",
            "Send2Trash                    1.5.0          /usr/local/lib/python3.7/dist-packages pip      \n",
            "setuptools                    56.1.0         /usr/local/lib/python3.7/dist-packages pip      \n",
            "setuptools-git                1.2            /usr/local/lib/python3.7/dist-packages pip      \n",
            "Shapely                       1.7.1          /usr/local/lib/python3.7/dist-packages pip      \n",
            "simplegeneric                 0.8.1          /usr/local/lib/python3.7/dist-packages pip      \n",
            "six                           1.15.0         /usr/local/lib/python3.7/dist-packages pip      \n",
            "sklearn                       0.0            /usr/local/lib/python3.7/dist-packages pip      \n",
            "sklearn-pandas                1.8.0          /usr/local/lib/python3.7/dist-packages pip      \n",
            "smart-open                    5.0.0          /usr/local/lib/python3.7/dist-packages pip      \n",
            "snowballstemmer               2.1.0          /usr/local/lib/python3.7/dist-packages pip      \n",
            "sortedcontainers              2.3.0          /usr/local/lib/python3.7/dist-packages pip      \n",
            "SoundFile                     0.10.3.post1   /usr/local/lib/python3.7/dist-packages pip      \n",
            "spacy                         2.2.4          /usr/local/lib/python3.7/dist-packages pip      \n",
            "Sphinx                        1.8.5          /usr/local/lib/python3.7/dist-packages pip      \n",
            "sphinxcontrib-serializinghtml 1.1.4          /usr/local/lib/python3.7/dist-packages pip      \n",
            "sphinxcontrib-websupport      1.2.4          /usr/local/lib/python3.7/dist-packages pip      \n",
            "SQLAlchemy                    1.4.15         /usr/local/lib/python3.7/dist-packages pip      \n",
            "sqlparse                      0.4.1          /usr/local/lib/python3.7/dist-packages pip      \n",
            "srsly                         1.0.5          /usr/local/lib/python3.7/dist-packages pip      \n",
            "statsmodels                   0.10.2         /usr/local/lib/python3.7/dist-packages pip      \n",
            "sympy                         1.7.1          /usr/local/lib/python3.7/dist-packages pip      \n",
            "tables                        3.4.4          /usr/local/lib/python3.7/dist-packages pip      \n",
            "tabulate                      0.8.9          /usr/local/lib/python3.7/dist-packages pip      \n",
            "tblib                         1.7.0          /usr/local/lib/python3.7/dist-packages pip      \n",
            "tensorboard                   2.4.1          /usr/local/lib/python3.7/dist-packages pip      \n",
            "tensorboard-plugin-wit        1.8.0          /usr/local/lib/python3.7/dist-packages pip      \n",
            "tensorflow                    2.4.1          /usr/local/lib/python3.7/dist-packages pip      \n",
            "tensorflow-datasets           4.0.1          /usr/local/lib/python3.7/dist-packages pip      \n",
            "tensorflow-estimator          2.4.0          /usr/local/lib/python3.7/dist-packages pip      \n",
            "tensorflow-gcs-config         2.4.0          /usr/local/lib/python3.7/dist-packages pip      \n",
            "tensorflow-hub                0.12.0         /usr/local/lib/python3.7/dist-packages pip      \n",
            "tensorflow-metadata           0.30.0         /usr/local/lib/python3.7/dist-packages pip      \n",
            "tensorflow-probability        0.12.1         /usr/local/lib/python3.7/dist-packages pip      \n",
            "termcolor                     1.1.0          /usr/local/lib/python3.7/dist-packages pip      \n",
            "terminado                     0.9.5          /usr/local/lib/python3.7/dist-packages pip      \n",
            "testpath                      0.4.4          /usr/local/lib/python3.7/dist-packages pip      \n",
            "text-unidecode                1.3            /usr/local/lib/python3.7/dist-packages pip      \n",
            "textblob                      0.15.3         /usr/local/lib/python3.7/dist-packages pip      \n",
            "textgenrnn                    1.4.1          /usr/local/lib/python3.7/dist-packages pip      \n",
            "Theano-PyMC                   1.1.2          /usr/local/lib/python3.7/dist-packages pip      \n",
            "thinc                         7.4.0          /usr/local/lib/python3.7/dist-packages pip      \n",
            "tifffile                      2021.4.8       /usr/local/lib/python3.7/dist-packages pip      \n",
            "toml                          0.10.2         /usr/local/lib/python3.7/dist-packages pip      \n",
            "toolz                         0.11.1         /usr/local/lib/python3.7/dist-packages pip      \n",
            "torch                         1.8.1+cu101    /usr/local/lib/python3.7/dist-packages pip      \n",
            "torchsummary                  1.5.1          /usr/local/lib/python3.7/dist-packages pip      \n",
            "torchtext                     0.9.1          /usr/local/lib/python3.7/dist-packages pip      \n",
            "torchvision                   0.9.1+cu101    /usr/local/lib/python3.7/dist-packages pip      \n",
            "tornado                       5.1.1          /usr/local/lib/python3.7/dist-packages pip      \n",
            "tqdm                          4.41.1         /usr/local/lib/python3.7/dist-packages pip      \n",
            "traitlets                     5.0.5          /usr/local/lib/python3.7/dist-packages pip      \n",
            "tweepy                        3.10.0         /usr/local/lib/python3.7/dist-packages pip      \n",
            "typeguard                     2.7.1          /usr/local/lib/python3.7/dist-packages pip      \n",
            "typing-extensions             3.7.4.3        /usr/local/lib/python3.7/dist-packages pip      \n",
            "tzlocal                       1.5.1          /usr/local/lib/python3.7/dist-packages pip      \n",
            "uritemplate                   3.0.1          /usr/local/lib/python3.7/dist-packages pip      \n",
            "urllib3                       1.24.3         /usr/local/lib/python3.7/dist-packages pip      \n",
            "vega-datasets                 0.9.0          /usr/local/lib/python3.7/dist-packages pip      \n",
            "wasabi                        0.8.2          /usr/local/lib/python3.7/dist-packages pip      \n",
            "wcwidth                       0.2.5          /usr/local/lib/python3.7/dist-packages pip      \n",
            "webencodings                  0.5.1          /usr/local/lib/python3.7/dist-packages pip      \n",
            "Werkzeug                      2.0.0          /usr/local/lib/python3.7/dist-packages pip      \n",
            "wheel                         0.36.2         /usr/local/lib/python3.7/dist-packages pip      \n",
            "widgetsnbextension            3.5.1          /usr/local/lib/python3.7/dist-packages pip      \n",
            "wordcloud                     1.5.0          /usr/local/lib/python3.7/dist-packages pip      \n",
            "wrapt                         1.12.1         /usr/local/lib/python3.7/dist-packages pip      \n",
            "xarray                        0.18.0         /usr/local/lib/python3.7/dist-packages pip      \n",
            "xgboost                       0.90           /usr/local/lib/python3.7/dist-packages pip      \n",
            "xkit                          0.0.0          /usr/lib/python3/dist-packages                  \n",
            "xlrd                          1.1.0          /usr/local/lib/python3.7/dist-packages pip      \n",
            "xlwt                          1.3.0          /usr/local/lib/python3.7/dist-packages pip      \n",
            "yellowbrick                   0.9.1          /usr/local/lib/python3.7/dist-packages pip      \n",
            "zict                          2.0.0          /usr/local/lib/python3.7/dist-packages pip      \n",
            "zipp                          3.4.1          /usr/local/lib/python3.7/dist-packages pip      \n"
          ],
          "name": "stdout"
        }
      ]
    },
    {
      "cell_type": "code",
      "metadata": {
        "colab": {
          "base_uri": "https://localhost:8080/"
        },
        "id": "JIyQsBxD13ZX",
        "outputId": "0997b260-717c-4e05-b703-79279dabcea2"
      },
      "source": [
        "!pip install numpy"
      ],
      "execution_count": null,
      "outputs": [
        {
          "output_type": "stream",
          "text": [
            "Requirement already satisfied: numpy in /usr/local/lib/python3.7/dist-packages (1.19.5)\n"
          ],
          "name": "stdout"
        }
      ]
    },
    {
      "cell_type": "code",
      "metadata": {
        "colab": {
          "base_uri": "https://localhost:8080/"
        },
        "id": "Ftv7YlGN2oyo",
        "outputId": "deaa0592-b71c-4132-eefd-f6979e0c01c7"
      },
      "source": [
        "import numpy as np\n",
        "arr = np.array([1, 2, 3, 4, 5])\n",
        "print(arr)"
      ],
      "execution_count": null,
      "outputs": [
        {
          "output_type": "stream",
          "text": [
            "[1 2 3 4 5]\n"
          ],
          "name": "stdout"
        }
      ]
    },
    {
      "cell_type": "code",
      "metadata": {
        "colab": {
          "base_uri": "https://localhost:8080/"
        },
        "id": "z1G6RA1b3NZJ",
        "outputId": "ddaff4bb-7fbe-4b33-cc24-35e5f49ac49d"
      },
      "source": [
        "!pip show numpy"
      ],
      "execution_count": null,
      "outputs": [
        {
          "output_type": "stream",
          "text": [
            "Name: numpy\n",
            "Version: 1.19.5\n",
            "Summary: NumPy is the fundamental package for array computing with Python.\n",
            "Home-page: https://www.numpy.org\n",
            "Author: Travis E. Oliphant et al.\n",
            "Author-email: None\n",
            "License: BSD\n",
            "Location: /usr/local/lib/python3.7/dist-packages\n",
            "Requires: \n",
            "Required-by: yellowbrick, xgboost, xarray, wordcloud, torchvision, torchtext, torch, tifffile, thinc, Theano-PyMC, tensorflow, tensorflow-probability, tensorflow-hub, tensorflow-datasets, tensorboard, tables, statsmodels, spacy, sklearn-pandas, seaborn, scs, scipy, scikit-learn, resampy, qdldl, PyWavelets, python-louvain, pystan, pysndfile, pymc3, pyerfa, pyemd, pyarrow, plotnine, patsy, pandas, osqp, opt-einsum, opencv-python, opencv-contrib-python, numexpr, numba, np-utils, nibabel, netCDF4, moviepy, mlxtend, mizani, missingno, matplotlib, matplotlib-venn, lightgbm, librosa, knnimpute, Keras, Keras-Preprocessing, kapre, jpeg4py, jaxlib, jax, imgaug, imbalanced-learn, imageio, hyperopt, holoviews, h5py, gym, gensim, folium, fix-yahoo-finance, fbprophet, fastprogress, fastdtw, fastai, fancyimpute, fa2, ecos, daft, cvxpy, cufflinks, cmdstanpy, chainer, cftime, Bottleneck, bokeh, blis, autograd, atari-py, astropy, arviz, altair, albumentations\n"
          ],
          "name": "stdout"
        }
      ]
    },
    {
      "cell_type": "code",
      "metadata": {
        "colab": {
          "base_uri": "https://localhost:8080/"
        },
        "id": "0kB6kUTe4IAJ",
        "outputId": "4e483b45-d385-4d78-fe85-0ee32a212836"
      },
      "source": [
        "!pip show --verbose numpy"
      ],
      "execution_count": null,
      "outputs": [
        {
          "output_type": "stream",
          "text": [
            "Name: numpy\n",
            "Version: 1.19.5\n",
            "Summary: NumPy is the fundamental package for array computing with Python.\n",
            "Home-page: https://www.numpy.org\n",
            "Author: Travis E. Oliphant et al.\n",
            "Author-email: None\n",
            "License: BSD\n",
            "Location: /usr/local/lib/python3.7/dist-packages\n",
            "Requires: \n",
            "Required-by: yellowbrick, xgboost, xarray, wordcloud, torchvision, torchtext, torch, tifffile, thinc, Theano-PyMC, tensorflow, tensorflow-probability, tensorflow-hub, tensorflow-datasets, tensorboard, tables, statsmodels, spacy, sklearn-pandas, seaborn, scs, scipy, scikit-learn, resampy, qdldl, PyWavelets, python-louvain, pystan, pysndfile, pymc3, pyerfa, pyemd, pyarrow, plotnine, patsy, pandas, osqp, opt-einsum, opencv-python, opencv-contrib-python, numexpr, numba, np-utils, nibabel, netCDF4, moviepy, mlxtend, mizani, missingno, matplotlib, matplotlib-venn, lightgbm, librosa, knnimpute, Keras, Keras-Preprocessing, kapre, jpeg4py, jaxlib, jax, imgaug, imbalanced-learn, imageio, hyperopt, holoviews, h5py, gym, gensim, folium, fix-yahoo-finance, fbprophet, fastprogress, fastdtw, fastai, fancyimpute, fa2, ecos, daft, cvxpy, cufflinks, cmdstanpy, chainer, cftime, Bottleneck, bokeh, blis, autograd, atari-py, astropy, arviz, altair, albumentations\n",
            "Metadata-Version: 2.1\n",
            "Installer: pip\n",
            "Classifiers:\n",
            "  Development Status :: 5 - Production/Stable\n",
            "  Intended Audience :: Science/Research\n",
            "  Intended Audience :: Developers\n",
            "  License :: OSI Approved\n",
            "  Programming Language :: C\n",
            "  Programming Language :: Python\n",
            "  Programming Language :: Python :: 3\n",
            "  Programming Language :: Python :: 3.6\n",
            "  Programming Language :: Python :: 3.7\n",
            "  Programming Language :: Python :: 3.8\n",
            "  Programming Language :: Python :: 3.9\n",
            "  Programming Language :: Python :: 3 :: Only\n",
            "  Programming Language :: Python :: Implementation :: CPython\n",
            "  Topic :: Software Development\n",
            "  Topic :: Scientific/Engineering\n",
            "  Operating System :: Microsoft :: Windows\n",
            "  Operating System :: POSIX\n",
            "  Operating System :: Unix\n",
            "  Operating System :: MacOS\n",
            "Entry-points:\n",
            "  [console_scripts]\n",
            "  f2py = numpy.f2py.f2py2e:main\n",
            "  f2py3 = numpy.f2py.f2py2e:main\n",
            "  f2py3.7 = numpy.f2py.f2py2e:main\n"
          ],
          "name": "stdout"
        }
      ]
    },
    {
      "cell_type": "markdown",
      "metadata": {
        "id": "obgJ-0Z98L4R"
      },
      "source": [
        "##**NumPy creando matrices**\n",
        "\n",
        "NumPy se utiliza para trabajar con matrices (vectores). El objeto de NumPy para matrices o vectores se llama `ndarray`.\n",
        "\n",
        "Podemos crear un objeto `ndarray` NumPy usando la función `array()`.\n",
        "\n",
        "Un objeto `ndarray` representa una matriz homogénea y multidimensional de elementos de tamaño fijo. Un objeto de tipo de datos asociado describe el formato de cada elemento en la matriz (su orden de bytes, cuántos bytes ocupa en la memoria, si es un entero, un número flotante u otra cosa, etc.)\n",
        "\n",
        "Las matrices deben construirse utilizando `array`, `zeros` o `empty`. Los parámetros dados aquí se refieren a un método de bajo nivel `(ndarray(…))` para instanciar una matriz.\n",
        "\n",
        "\n",
        "\n",
        "```python\n",
        "arr = np.array([1, 2, 3, 4, 5])\n",
        "print(arr)\n",
        "print(type(arr))\n",
        "```\n",
        "Nota: `type()`; esta función incorporada de Python nos dice el tipo de objeto que se le pasa. Como en el código anterior, muestra que arr es del tipo `numpy.ndarray`.\n",
        "\n",
        "Para crear un `ndarray`, podemos pasar una lista, tupla o cualquier objeto similar a una matriz en el método `array()`, y se convertirá en un `ndarray`:\n",
        "\n",
        "```python\n",
        "arr = np.array((1, 2, 3, 4, 5))\n",
        "print(arr)\n",
        "```"
      ]
    },
    {
      "cell_type": "code",
      "metadata": {
        "colab": {
          "base_uri": "https://localhost:8080/"
        },
        "id": "tnf3Xpgq9HwM",
        "outputId": "3977111c-55b9-404f-e77a-f5b37223477c"
      },
      "source": [
        "arr = np.array([1, 2, 3, 4, 5])\n",
        "print(arr)\n",
        "print(type(arr))"
      ],
      "execution_count": null,
      "outputs": [
        {
          "output_type": "stream",
          "text": [
            "[1 2 3 4 5]\n",
            "<class 'numpy.ndarray'>\n"
          ],
          "name": "stdout"
        }
      ]
    },
    {
      "cell_type": "code",
      "metadata": {
        "colab": {
          "base_uri": "https://localhost:8080/"
        },
        "id": "7UildXZS9kN-",
        "outputId": "46143c7b-efe7-4f78-c4c0-4921c2df47d2"
      },
      "source": [
        "arr = np.array((1, 2, 3, 4, 5))\n",
        "print(arr)"
      ],
      "execution_count": null,
      "outputs": [
        {
          "output_type": "stream",
          "text": [
            "[1 2 3 4 5]\n"
          ],
          "name": "stdout"
        }
      ]
    },
    {
      "cell_type": "markdown",
      "metadata": {
        "id": "DIcUYTWm9qwH"
      },
      "source": [
        "##**Dimensiones en matrices**\n",
        "\n",
        "Una dimensión en matrices es un nivel de profundidad de matriz (matrices anidadas).\n",
        "\n",
        "Matriz anidada: son matrices que tienen matrices como elementos.\n",
        "\n",
        "###**Matrices 0-D**\n",
        "\n",
        "Las matrices 0-D, o escalares, son los elementos de una matriz. Cada valor de una matriz es una matriz 0-D.\n",
        "\n",
        "\n",
        "```python\n",
        "arr = np.array(42)\n",
        "print(arr)\n",
        "```\n",
        "###**Matrices 1-D**\n",
        "\n",
        "Una matriz que tiene matrices 0-D como sus elementos se llama matriz unidimensional o 1-D. Estos son los arreglos más comunes y básicos.\n",
        "\n",
        "```python\n",
        "arr = np.array([1, 2, 3, 4, 5])\n",
        "print(arr)\n",
        "```\n",
        "\n",
        "###**Matrices 2-D**\n",
        "\n",
        "Una matriz que tiene matrices 1-D como sus elementos se denomina matriz 2-D. A menudo se utilizan para representar tensores de segundo orden.\n",
        "NumPy tiene un submódulo completo dedicado a operaciones matriciales llamado `numpy.mat`\n",
        "\n",
        "```python\n",
        "arr = np.array([[1, 2, 3], [4, 5, 6]])\n",
        "print(arr)\n",
        "```\n",
        "\n",
        "###**Matrices 3-D**\n",
        "\n",
        "Una matriz que tiene matrices 2-D (matrices) como sus elementos se llama matriz 3-D. A menudo se utilizan para representar un tensor de tercer orden.\n",
        "\n",
        "```python\n",
        "arr = np.array([[[1, 2, 3], [4, 5, 6]], [[1, 2, 3], [4, 5, 6]]])\n",
        "print(arr)\n",
        "```\n",
        "\n",
        "###**¿Verifique el número de dimensiones?**\n",
        "\n",
        "NumPy Arrays proporciona el atributo `ndim` que devuelve un número entero que nos dice cuántas dimensiones tiene la matriz.\n",
        "\n",
        "```python\n",
        "a = np.array(42)\n",
        "b = np.array([1, 2, 3, 4, 5])\n",
        "c = np.array([[1, 2, 3], [4, 5, 6]])\n",
        "d = np.array([[[1, 2, 3], [4, 5, 6]], [[1, 2, 3], [4, 5, 6]]])\n",
        "\n",
        "print(a.ndim)\n",
        "print(b.ndim)\n",
        "print(c.ndim)\n",
        "print(d.ndim)\n",
        "```\n",
        "\n",
        "###**Matrices de dimensiones superiores**\n",
        "\n",
        "Una matriz puede tener cualquier número de dimensiones.\n",
        "Cuando se crea la matriz, puede definir el número de dimensiones utilizando el argumento `ndmin`.\n",
        "\n",
        "```python\n",
        "arr = np.array([1, 2, 3, 4], ndmin=5)\n",
        "print(arr)\n",
        "print('número de dimensiones :', arr.ndim)\n",
        "```"
      ]
    },
    {
      "cell_type": "code",
      "metadata": {
        "colab": {
          "base_uri": "https://localhost:8080/"
        },
        "id": "0Hp900yf-eHw",
        "outputId": "0db39e54-0c57-41fd-e0db-64c42e63288a"
      },
      "source": [
        "arr = np.array(42)\n",
        "print(arr)"
      ],
      "execution_count": null,
      "outputs": [
        {
          "output_type": "stream",
          "text": [
            "42\n"
          ],
          "name": "stdout"
        }
      ]
    },
    {
      "cell_type": "code",
      "metadata": {
        "colab": {
          "base_uri": "https://localhost:8080/"
        },
        "id": "yWBcChra_BXh",
        "outputId": "950da466-76e3-4116-8d39-c39ea132e741"
      },
      "source": [
        "arr = np.array([1, 2, 3, 4, 5])\n",
        "print(arr)"
      ],
      "execution_count": null,
      "outputs": [
        {
          "output_type": "stream",
          "text": [
            "[1 2 3 4 5]\n"
          ],
          "name": "stdout"
        }
      ]
    },
    {
      "cell_type": "code",
      "metadata": {
        "colab": {
          "base_uri": "https://localhost:8080/"
        },
        "id": "UYUJX7n7_DFu",
        "outputId": "5bc62440-255a-4b50-cbb6-c371cc72bb2c"
      },
      "source": [
        "arr = np.array([[1, 2, 3], [4, 5, 6]])\n",
        "print(arr)"
      ],
      "execution_count": null,
      "outputs": [
        {
          "output_type": "stream",
          "text": [
            "[[1 2 3]\n",
            " [4 5 6]]\n"
          ],
          "name": "stdout"
        }
      ]
    },
    {
      "cell_type": "code",
      "metadata": {
        "colab": {
          "base_uri": "https://localhost:8080/"
        },
        "id": "MM9THTqsdtRx",
        "outputId": "1beb924b-cd37-4d6c-9b60-7f8714e165d6"
      },
      "source": [
        "arr = np.array([[[1, 2, 3], [4, 5, 6]], [[1, 2, 3], [4, 5, 6]]])\n",
        "print(arr)"
      ],
      "execution_count": null,
      "outputs": [
        {
          "output_type": "stream",
          "text": [
            "[[[1 2 3]\n",
            "  [4 5 6]]\n",
            "\n",
            " [[1 2 3]\n",
            "  [4 5 6]]]\n"
          ],
          "name": "stdout"
        }
      ]
    },
    {
      "cell_type": "code",
      "metadata": {
        "colab": {
          "base_uri": "https://localhost:8080/"
        },
        "id": "1GYPTXw6eRk_",
        "outputId": "43797850-50a0-4770-8101-99abbfb5ed6c"
      },
      "source": [
        "a = np.array(42)\n",
        "b = np.array([1, 2, 3, 4, 5])\n",
        "c = np.array([[1, 2, 3], [4, 5, 6]])\n",
        "d = np.array([[[1, 2, 3], [4, 5, 6]], [[1, 2, 3], [4, 5, 6]]])\n",
        "\n",
        "print(a.ndim)\n",
        "print(b.ndim)\n",
        "print(c.ndim)\n",
        "print(d.ndim)"
      ],
      "execution_count": null,
      "outputs": [
        {
          "output_type": "stream",
          "text": [
            "0\n",
            "1\n",
            "2\n",
            "3\n"
          ],
          "name": "stdout"
        }
      ]
    },
    {
      "cell_type": "code",
      "metadata": {
        "colab": {
          "base_uri": "https://localhost:8080/"
        },
        "id": "icXEbVoKfIDE",
        "outputId": "120857ed-e49d-4941-98ad-d595ed6c1a1f"
      },
      "source": [
        "arr = np.array([1, 2, 3, 4], ndmin=5)\n",
        "print(arr)\n",
        "print('número de dimensiones :', arr.ndim)"
      ],
      "execution_count": null,
      "outputs": [
        {
          "output_type": "stream",
          "text": [
            "[[[[[1 2 3 4]]]]]\n",
            "número de dimensiones : 5\n"
          ],
          "name": "stdout"
        }
      ]
    },
    {
      "cell_type": "markdown",
      "metadata": {
        "id": "FgU6LvvlfaBX"
      },
      "source": [
        "##**Indexación de matrices NumPy**\n",
        "\n",
        "###**Acceso a elementos de matriz**\n",
        "\n",
        "La indexación de matrices es lo mismo que acceder a un elemento de matriz. Puede acceder a un elemento de matriz consultando su número de índice.\n",
        "\n",
        "Los índices en las matrices NumPy comienzan con $0$, lo que significa que el primer elemento tiene un índice $0$ y el segundo tiene un índice $1$, etc.\n",
        "\n",
        "\n",
        "\n",
        "```python\n",
        "arr = np.array([1, 2, 3, 4])\n",
        "print(arr[0])\n",
        "print(arr[1])\n",
        "print(arr[2] + arr[3])\n",
        "```\n",
        "###**Acceder a matrices 2-D**\n",
        "\n",
        "Para acceder a elementos de matrices 2-D, podemos usar enteros separados por comas que representan la dimensión y el índice del elemento.\n",
        "\n",
        "```python\n",
        "arr = np.array([[1,2,3,4,5], [6,7,8,9,10]])\n",
        "print('Fila 0 Columna 1: ', arr[0, 1])\n",
        "print('Fila 1 Columna 4: ', arr[1, 4])\n",
        "```\n",
        "\n",
        "###**Acceder a matrices 3-D**\n",
        "\n",
        "Para acceder a elementos de matrices 3-D, podemos usar enteros separados por comas que representan las dimensiones y el índice del elemento.\n",
        "\n",
        "```python\n",
        "arr = np.array([[[1, 2, 3], [4, 5, 6]], [[7, 8, 9], [10, 11, 12]]])\n",
        "print(arr[0, 1, 2])\n",
        "```\n",
        "\n",
        "###**Indexación negativa**\n",
        "\n",
        "NumPy permite el uso de indexación negativa, por lo tanto, se puede utilizar para acceder a una matriz desde el final.\n",
        "\n",
        "```python\n",
        "arr = np.array([[1,2,3,4,5], [6,7,8,9,10]])\n",
        "print('Ultimo elemento de la segund: ', arr[1, -1])\n",
        "```\n",
        "\n",
        "\n",
        "![](https://aprendeconalf.es/docencia/python/manual/img/arrays.png)"
      ]
    },
    {
      "cell_type": "code",
      "metadata": {
        "colab": {
          "base_uri": "https://localhost:8080/"
        },
        "id": "M0uYZtnQglud",
        "outputId": "ebc3ae8c-3650-4688-d948-684de3d35059"
      },
      "source": [
        "arr = np.array([1, 2, 3, 4])\n",
        "print(arr[0])\n",
        "print(arr[1])\n",
        "print(arr[2] + arr[3])"
      ],
      "execution_count": null,
      "outputs": [
        {
          "output_type": "stream",
          "text": [
            "1\n",
            "2\n",
            "7\n"
          ],
          "name": "stdout"
        }
      ]
    },
    {
      "cell_type": "code",
      "metadata": {
        "colab": {
          "base_uri": "https://localhost:8080/"
        },
        "id": "etYhPnpTjo1q",
        "outputId": "f8701e1f-6a40-453b-9a27-5a1b972dffa2"
      },
      "source": [
        "arr = np.array([[1,2,3,4,5], [6,7,8,9,10]])\n",
        "print('Fila 0 Columna 1: ', arr[0, 1])\n",
        "print('Fila 1 Columna 4: ', arr[1, 4])"
      ],
      "execution_count": null,
      "outputs": [
        {
          "output_type": "stream",
          "text": [
            "Fila 0 Columna 1:  2\n",
            "Fila 1 Columna 4:  10\n"
          ],
          "name": "stdout"
        }
      ]
    },
    {
      "cell_type": "code",
      "metadata": {
        "colab": {
          "base_uri": "https://localhost:8080/"
        },
        "id": "MeO4tjUvrJdo",
        "outputId": "9e076063-f690-4513-ed22-9cbcee415172"
      },
      "source": [
        "arr = np.array([[[1, 2, 3], [4, 5, 6]], [[7, 8, 9], [10, 11, 12]]])\n",
        "print(arr[0, 1, 2])\n",
        "print(arr)"
      ],
      "execution_count": null,
      "outputs": [
        {
          "output_type": "stream",
          "text": [
            "6\n",
            "[[[ 1  2  3]\n",
            "  [ 4  5  6]]\n",
            "\n",
            " [[ 7  8  9]\n",
            "  [10 11 12]]]\n"
          ],
          "name": "stdout"
        }
      ]
    },
    {
      "cell_type": "code",
      "metadata": {
        "colab": {
          "base_uri": "https://localhost:8080/"
        },
        "id": "n5_51f7gyzXN",
        "outputId": "57d01b75-e11d-41cb-9a7f-f1cb80e4ca6b"
      },
      "source": [
        "#La matriz es 2x5\n",
        "arr = np.array([[1,2,3,4,5], [6,7,8,9,10]])\n",
        "print('Fila 1 Columna -1(Ultima): ', arr[1, -1])"
      ],
      "execution_count": null,
      "outputs": [
        {
          "output_type": "stream",
          "text": [
            "Fila 1 Columna -1(Ultima):  10\n"
          ],
          "name": "stdout"
        }
      ]
    },
    {
      "cell_type": "markdown",
      "metadata": {
        "id": "xNpiruUI0b6H"
      },
      "source": [
        "##**Slicing de Matrices NumPy**\n",
        "\n",
        "\n",
        "El Slicing de python para NumPy es similar o en este caso igual al utilizado previamente.\n",
        "\n",
        "###**Slicing**\n",
        "\n",
        "El índice se detalla con corchetes de la siguiente forma: `[inicio: fin]`.\n",
        "\n",
        "También se puede definir el paso, así: `[inicio: final: paso]`.\n",
        "\n",
        "*   Si no pasamos `inicio` se considera $0$\n",
        "*   Si no pasamos `final` su longitud se considera la longitud de la matriz.\n",
        "*   Si no pasamos `paso` se considera $1$\n",
        "\n",
        "```python\n",
        "arr = np.array([1, 2, 3, 4, 5, 6, 7])\n",
        "print(arr[1:5])\n",
        "print(arr[4:])\n",
        "print(arr[:4])\n",
        "```\n",
        "\n",
        "**Nota: El resultado incluye el índice inicial, pero excluye el índice final.**\n",
        "\n",
        "###**Slicing Negativo**\n",
        "\n",
        "Utilice el operador menos para hacer referencia a un índice desde el final:\n",
        "\n",
        "```python\n",
        "arr = np.array([1, 2, 3, 4, 5, 6, 7])\n",
        "print(arr[-3:-1])\n",
        "```\n",
        "###**Paso**\n",
        "\n",
        "Utilice el valor del paso para determinar el paso del slicing:\n",
        "\n",
        "```python\n",
        "arr = np.array([1, 2, 3, 4, 5, 6, 7])\n",
        "print(arr[1:5:2])\n",
        "print(arr[::2])\n",
        "```\n",
        "###**Slicing Matrices 2-D**\n",
        "\n",
        "Debemos detallar que el segundo elemento tiene índice 1.\n",
        "\n",
        "```python\n",
        "arr = np.array([[1, 2, 3, 4, 5], [6, 7, 8, 9, 10]])\n",
        "print(arr[1, 1:4])\n",
        "print(arr[0:2, 2])\n",
        "print(arr[0:2, 1:4])\n",
        "```"
      ]
    },
    {
      "cell_type": "code",
      "metadata": {
        "colab": {
          "base_uri": "https://localhost:8080/"
        },
        "id": "4CbjAEm23qAc",
        "outputId": "484d966c-1a88-484a-fad9-f36198f6a5c5"
      },
      "source": [
        "arr = np.array([1, 2, 3, 4, 5, 6, 7])\n",
        "print(arr[1:5])\n",
        "print(arr[4:])\n",
        "print(arr[:4])"
      ],
      "execution_count": null,
      "outputs": [
        {
          "output_type": "stream",
          "text": [
            "[2 3 4 5]\n",
            "[5 6 7]\n",
            "[1 2 3 4]\n"
          ],
          "name": "stdout"
        }
      ]
    },
    {
      "cell_type": "code",
      "metadata": {
        "colab": {
          "base_uri": "https://localhost:8080/"
        },
        "id": "VkEfe7yd4ze_",
        "outputId": "358395cc-25bb-4aae-d9df-e909c100ef7f"
      },
      "source": [
        "arr = np.array([1, 2, 3, 4, 5, 6, 7])\n",
        "print(arr[-3:-1])"
      ],
      "execution_count": null,
      "outputs": [
        {
          "output_type": "stream",
          "text": [
            "[5 6]\n"
          ],
          "name": "stdout"
        }
      ]
    },
    {
      "cell_type": "code",
      "metadata": {
        "colab": {
          "base_uri": "https://localhost:8080/"
        },
        "id": "Xc2m7HNR5fHr",
        "outputId": "1e9da2a2-a258-448b-8fcd-b7a194ea9a17"
      },
      "source": [
        "arr = np.array([1, 2, 3, 4, 5, 6, 7])\n",
        "#Devuelve todos los demás elementos del índice 1 al índice 5:\n",
        "print(arr[1:5:2])\n",
        "#Devuelve todos los demás elementos de la matriz completa de 2 en 2:\n",
        "print(arr[::2])"
      ],
      "execution_count": null,
      "outputs": [
        {
          "output_type": "stream",
          "text": [
            "[2 4]\n",
            "[1 3 5 7]\n"
          ],
          "name": "stdout"
        }
      ]
    },
    {
      "cell_type": "code",
      "metadata": {
        "colab": {
          "base_uri": "https://localhost:8080/"
        },
        "id": "wCmMv97y6mru",
        "outputId": "86329ad5-09e3-4a80-b653-8e56ae7eb871"
      },
      "source": [
        "arr = np.array([[1, 2, 3, 4, 5], [6, 7, 8, 9, 10]])\n",
        "#Desde el segundo elemento, corte los elementos del índice 1 al índice 4 (no incluido):\n",
        "print(arr[1, 1:4])\n",
        "#De ambos elementos, devuelve el índice 2:\n",
        "arr = np.array([[1, 2, 3, 4, 5], [6, 7, 8, 9, 10]])\n",
        "#De ambos elementos, corte el índice 1 al índice 4 (no incluido), esto devolverá una matriz 2-D:\n",
        "print(arr[0:2, 1:4])"
      ],
      "execution_count": null,
      "outputs": [
        {
          "output_type": "stream",
          "text": [
            "[7 8 9]\n",
            "[[2 3 4]\n",
            " [7 8 9]]\n"
          ],
          "name": "stdout"
        }
      ]
    },
    {
      "cell_type": "markdown",
      "metadata": {
        "id": "0c2e4g6LVl_O"
      },
      "source": [
        "##**Tipos de Datos NumPy**\n",
        "\n",
        "###**Tipos de datos en Python**\n",
        "\n",
        "Por defecto, Python tiene estos tipos de datos:\n",
        "\n",
        "*   `string`: se utilizan para representar datos de texto, el texto se indica entre comillas. p.ej. `\"A B C D\"`\n",
        "*   `integer`: se utiliza para representar números enteros. p.ej. `-1`, `-2`, `-3`\n",
        "*   `float`: se utiliza para representar números reales. p.ej. `1.2`, `42.42`\n",
        "*   `boolean`: se utiliza para representar Verdadero o Falso. `True` `False`\n",
        "*   `complex`: se utiliza para representar números complejos. p.ej. `1.0 + 2.0j`, `1.5 + 2.5j`\n",
        "\n",
        "###**Tipos de datos en NumPy**\n",
        "\n",
        "NumPy tiene algunos tipos de datos adicionales y se refiere a tipos de datos con un carácter, como `i` para enteros, `u` para enteros sin signo, etc.\n",
        "\n",
        "A continuación se muestra una lista de todos los tipos de datos en NumPy y los caracteres utilizados para representarlos.\n",
        "\n",
        "*   `i` - entero\n",
        "*   `b` - booleano\n",
        "*   `u` - entero sin signo\n",
        "*   `f` - flotar\n",
        "*   `c` - flotador complejo\n",
        "*   `m` - timedelta\n",
        "*   `M` - fecha y hora\n",
        "*   `O` - objeto\n",
        "*   `S` - cuerda\n",
        "*   `U` - cadena Unicode\n",
        "*   `V` - fragmento de memoria fijo para otro tipo (vacío)\n",
        "\n",
        "###**Tipo de datos de una matriz**\n",
        "\n",
        "El objeto de matriz NumPy tiene una propiedad llamada `dtype` que devuelve el tipo de datos de la matriz:\n",
        "\n",
        "```python\n",
        "arr = np.array([1, 2, 3, 4])\n",
        "print(arr.dtype)\n",
        "```\n",
        "\n",
        "###**Creación de matrices con un tipo de datos definido**\n",
        "\n",
        "Usamos la función `array()` para crear matrices, esta función puede tomar un argumento opcional: `dtype` que nos permite definir el tipo de datos esperado de los elementos de la matriz:\n",
        "\n",
        "```python\n",
        "arr = np.array([1, 2, 3, 4], dtype='S')\n",
        "print(arr)\n",
        "print(arr.dtype)\n",
        "```\n",
        "Para `i`, `u`, `f`, `S` and `U` también podemos definir el tamaño.\n",
        "\n",
        "```python\n",
        "arr = np.array([1, 2, 3, 4], dtype='i4')\n",
        "#Creamos una matriz con tipo de datos entero de 4 bytes = 32bits\n",
        "print(arr)\n",
        "print(arr.dtype)\n",
        "```\n",
        "###**¿Qué pasa si un valor no se puede convertir?**\n",
        "\n",
        "Si se da un tipo en el que los elementos no se pueden convertir, NumPy generará un ValueError.\n",
        "\n",
        "ValueError: en Python ValueError se genera cuando el tipo de argumento pasado a una función es inesperado / incorrecto.\n",
        "\n",
        "Ejemplo\n",
        "Una cadena que no sea un número entero como `'a'` no se puede convertir en un número entero (generará un error):\n",
        "\n",
        "```python\n",
        "arr = np.array (['a', '2', '3'], dtype = 'i')\n",
        "```\n",
        "\n",
        "###**Conversión de tipos de datos en matrices existentes**\n",
        "\n",
        "La mejor manera de cambiar el tipo de datos de una matriz existente es hacer una copia de la matriz con el método `astype()`.\n",
        "\n",
        "La función `astype()` crea una copia de la matriz y le permite especificar el tipo de datos como un argumento.\n",
        "\n",
        "El tipo de datos se puede especificar usando una cadena, como `'f'` para float, `'i'` para integer, etc. o puede usar el tipo de datos directamente como `float` para float e `int` para integer.\n",
        "\n",
        "```python\n",
        "#Cambie el tipo de datos de flotante a entero usando 'i' como valor de parámetro:\n",
        "arr = np.array([1.1, 2.1, 3.1])\n",
        "newarr = arr.astype('i')\n",
        "print(newarr)\n",
        "print(newarr.dtype)\n",
        "```\n",
        "```python\n",
        "# Cambie el tipo de datos de flotante a entero utilizando int como valor de parámetro:\n",
        "arr = np.array([1.1, 2.1, 3.1])\n",
        "newarr = arr.astype(int)\n",
        "print(newarr)\n",
        "print(newarr.dtype)\n",
        "```\n",
        "```python\n",
        "# Cambiar el tipo de datos de entero a Booleano\n",
        "arr = np.array([1, 0, 3])\n",
        "newarr = arr.astype(bool)\n",
        "print(newarr)\n",
        "print(newarr.dtype)\n",
        "```\n",
        "\n",
        "---\n",
        "Caracter|Descripción|Ejemplo\n",
        "---|---|---\n",
        "`b`|Byte|`np.dtype('b')`\n",
        "`i`|Signed integer|`np.dtype('i4') == np.int32`\n",
        "`u`|Unsigned integer|`np.dtype('u1') == np.uint8`\n",
        "f`|Floating point|`np.dtype('f8') == np.int64`\n",
        "`c`|Complex floating point|`np.dtype('c16') == np.complex128`\n",
        "`S`, `'a'`|String|`np.dtype('S5')`\n",
        "`U`|Unicode string|`np.dtype('U') == np.str_`\n",
        "`V`|Raw data (void)|`np.dtype('V') == np.void`"
      ]
    },
    {
      "cell_type": "code",
      "metadata": {
        "colab": {
          "base_uri": "https://localhost:8080/"
        },
        "id": "zcn-lR_EXAmy",
        "outputId": "462e3917-66f1-401e-e8f6-2ce66e2c72e0"
      },
      "source": [
        "arr = np.array([1, 2, 3, 4])\n",
        "print(arr.dtype)"
      ],
      "execution_count": null,
      "outputs": [
        {
          "output_type": "stream",
          "text": [
            "int64\n"
          ],
          "name": "stdout"
        }
      ]
    },
    {
      "cell_type": "code",
      "metadata": {
        "colab": {
          "base_uri": "https://localhost:8080/"
        },
        "id": "oflcUd2AbrkL",
        "outputId": "3c337e13-be3c-43eb-c5ba-90601b81be05"
      },
      "source": [
        "arr = np.array(['apple', 'banana', 'cherry'])\n",
        "print(arr.dtype)"
      ],
      "execution_count": null,
      "outputs": [
        {
          "output_type": "stream",
          "text": [
            "<U6\n"
          ],
          "name": "stdout"
        }
      ]
    },
    {
      "cell_type": "code",
      "metadata": {
        "colab": {
          "base_uri": "https://localhost:8080/"
        },
        "id": "0E2x47JAgdWc",
        "outputId": "8592bf4c-dea4-4bc7-e236-8b982843e33c"
      },
      "source": [
        "arr = np.array([1, 2, 3, 4], dtype='S')\n",
        "print(arr)\n",
        "print(arr.dtype)"
      ],
      "execution_count": null,
      "outputs": [
        {
          "output_type": "stream",
          "text": [
            "[b'1' b'2' b'3' b'4']\n",
            "|S1\n"
          ],
          "name": "stdout"
        }
      ]
    },
    {
      "cell_type": "code",
      "metadata": {
        "colab": {
          "base_uri": "https://localhost:8080/"
        },
        "id": "yqRMva04hFlo",
        "outputId": "2b58e12d-3b93-4fc8-fb42-269d6cf33d1c"
      },
      "source": [
        "arr = np.array([1, 2, 3, 4], dtype='i4')\n",
        "#Creamos una matriz con tipo de datos entero de 4 bytes\n",
        "print(arr)\n",
        "print(arr.dtype)"
      ],
      "execution_count": null,
      "outputs": [
        {
          "output_type": "stream",
          "text": [
            "[1 2 3 4]\n",
            "int32\n"
          ],
          "name": "stdout"
        }
      ]
    },
    {
      "cell_type": "code",
      "metadata": {
        "id": "JncIFhEXvCxR"
      },
      "source": [
        "# arr = np.array (['a', '2', '3'], dtype = 'i')"
      ],
      "execution_count": null,
      "outputs": []
    },
    {
      "cell_type": "code",
      "metadata": {
        "colab": {
          "base_uri": "https://localhost:8080/"
        },
        "id": "FbDljsYHw7Gq",
        "outputId": "07f2af4a-4030-4de3-e440-680457e4df09"
      },
      "source": [
        "# Cambie el tipo de datos de flotante a entero usando 'i' como valor de parámetro:\n",
        "arr = np.array([1.1, 2.1, 3.1])\n",
        "newarr = arr.astype('i')\n",
        "print(newarr)\n",
        "print(newarr.dtype)"
      ],
      "execution_count": null,
      "outputs": [
        {
          "output_type": "stream",
          "text": [
            "[1 2 3]\n",
            "int32\n"
          ],
          "name": "stdout"
        }
      ]
    },
    {
      "cell_type": "code",
      "metadata": {
        "colab": {
          "base_uri": "https://localhost:8080/"
        },
        "id": "egXfK4jcxEcQ",
        "outputId": "a23b5109-2543-4f97-dfc5-407ba6d46bdd"
      },
      "source": [
        "# Cambie el tipo de datos de flotante a entero utilizando int como valor de parámetro:\n",
        "arr = np.array([1.1, 2.1, 3.1])\n",
        "newarr = arr.astype(int)\n",
        "print(newarr)\n",
        "print(newarr.dtype)"
      ],
      "execution_count": null,
      "outputs": [
        {
          "output_type": "stream",
          "text": [
            "[1 2 3]\n",
            "int64\n"
          ],
          "name": "stdout"
        }
      ]
    },
    {
      "cell_type": "code",
      "metadata": {
        "colab": {
          "base_uri": "https://localhost:8080/"
        },
        "id": "ULFURMKMxmDn",
        "outputId": "09f58154-7d2d-4ede-d798-8c3bf0e3ab41"
      },
      "source": [
        "arr = np.array([1, 0, 3])\n",
        "newarr = arr.astype(bool)\n",
        "print(newarr)\n",
        "print(newarr.dtype)"
      ],
      "execution_count": null,
      "outputs": [
        {
          "output_type": "stream",
          "text": [
            "[ True False  True]\n",
            "bool\n"
          ],
          "name": "stdout"
        }
      ]
    },
    {
      "cell_type": "markdown",
      "metadata": {
        "id": "5tbEEfp-x7QC"
      },
      "source": [
        "##**Forma(Shape) de una matriz NumPy**\n",
        "\n",
        "###**Forma de una matriz**\n",
        "\n",
        "La forma de una matriz es el número de elementos en cada dimensión.\n",
        "\n",
        "###**Obtener la forma de una matriz**\n",
        "\n",
        "Las matrices NumPy tienen un atributo llamado forma que devuelve una tupla con cada índice que tiene el número de elementos correspondientes.\n",
        "\n",
        "```python\n",
        "arr = np.array([[1, 2, 3, 4], [5, 6, 7, 8]])\n",
        "print(arr.shape)\n",
        "```\n",
        "El ejemplo anterior devuelve `(2, 4)`, lo que significa que la matriz tiene 2 dimensiones (filas) y cada dimensión tiene 4 elementos (columnas).\n",
        "\n",
        "Cree una matriz con 5 dimensiones usando `ndmin` con valores `1, 2, 3, 4` y verifique que la última columna tenga el valor `4`:\n",
        "```python\n",
        "arr = np.array([1, 2, 3, 4], ndmin=5)\n",
        "print(arr)\n",
        "print('Forma de la matriz :', arr.shape)\n",
        "```\n",
        "Los enteros en cada índice indican el número de elementos que tiene la dimensión (fila) correspondiente. En el ejemplo anterior en el índice-4 tenemos el valor 4, por lo que podemos decir que la quinta dimensión (4 + 1ª) tiene 4 elementos.\n",
        "\n",
        "###**Reformado de matrices**\n",
        "\n",
        "Reformar significa cambiar la forma de una matriz. La forma de una matriz es el número de elementos en cada dimensión. Al remodelar, podemos agregar o eliminar dimensiones o cambiar el número de elementos en cada dimensión.\n",
        "\n",
        "###**Reformar 1-D a 2-D**\n",
        "\n",
        "Convertir una matriz 1-D con 12 elementos en una matriz 2-D. La dimensión más externa tendrá 4 matrices, cada una con 3 elementos:\n",
        "\n",
        "```python\n",
        "arr = np.array([1, 2, 3, 4, 5, 6, 7, 8, 9, 10, 11, 12])\n",
        "newarr = arr.reshape(4, 3)\n",
        "print(newarr)\n",
        "```\n",
        "\n",
        "###**Reformar 1-D a 3-D**\n",
        "\n",
        "Convierta la siguiente matriz 1-D con 12 elementos en una matriz 3-D. La dimensión más externa tendrá 2 matrices que contienen 3 matrices, cada una con 2 elementos:\n",
        "\n",
        "```python\n",
        "arr = np.array([1, 2, 3, 4, 5, 6, 7, 8, 9, 10, 11, 12])\n",
        "newarr = arr.reshape(2, 3, 2)\n",
        "print(newarr)\n",
        "```\n",
        "\n",
        "¿Podemos reformar en cualquier forma?\n",
        "Sí, siempre que los elementos necesarios para reformar sean iguales en ambas formas.\n",
        "\n",
        "Podemos remodelar una matriz 1D de 8 elementos en 4 elementos en una matriz 2D de 2 filas, pero no podemos remodelarla en una matriz 2D de 3 elementos y 3 filas, ya que eso requeriría 3x3 = 9 elementos."
      ]
    },
    {
      "cell_type": "code",
      "metadata": {
        "colab": {
          "base_uri": "https://localhost:8080/"
        },
        "id": "gL3bHpVfy6tS",
        "outputId": "4d8cef10-2d67-412b-8116-a16af9d1be15"
      },
      "source": [
        "arr = np.array([[1, 2, 3, 4], [5, 6, 7, 8]])\n",
        "print(arr.shape)"
      ],
      "execution_count": null,
      "outputs": [
        {
          "output_type": "stream",
          "text": [
            "(2, 4)\n"
          ],
          "name": "stdout"
        }
      ]
    },
    {
      "cell_type": "code",
      "metadata": {
        "colab": {
          "base_uri": "https://localhost:8080/"
        },
        "id": "poNt7v1kzgBC",
        "outputId": "6c182020-24ec-47e0-b58e-4815462043e7"
      },
      "source": [
        "arr = np.array([1, 2, 3, 4], ndmin=5)\n",
        "print(arr)\n",
        "print('Forma de la matriz :', arr.shape)"
      ],
      "execution_count": null,
      "outputs": [
        {
          "output_type": "stream",
          "text": [
            "[[[[[1 2 3 4]]]]]\n",
            "Forma de la matriz : (1, 1, 1, 1, 4)\n"
          ],
          "name": "stdout"
        }
      ]
    },
    {
      "cell_type": "code",
      "metadata": {
        "colab": {
          "base_uri": "https://localhost:8080/"
        },
        "id": "Gk9Vw5AE0bYx",
        "outputId": "38c74dbc-e974-4374-9cbc-9e3ad0228502"
      },
      "source": [
        "arr = np.array([1, 2, 3, 4, 5, 6, 7, 8, 9, 10, 11, 12])\n",
        "newarr = arr.reshape(4, 3)\n",
        "print(newarr)"
      ],
      "execution_count": null,
      "outputs": [
        {
          "output_type": "stream",
          "text": [
            "[[ 1  2  3]\n",
            " [ 4  5  6]\n",
            " [ 7  8  9]\n",
            " [10 11 12]]\n"
          ],
          "name": "stdout"
        }
      ]
    },
    {
      "cell_type": "code",
      "metadata": {
        "colab": {
          "base_uri": "https://localhost:8080/"
        },
        "id": "SvWtd3PF05cL",
        "outputId": "98f66923-4b1c-4e04-f7ed-e12e40f176e4"
      },
      "source": [
        "arr = np.array([1, 2, 3, 4, 5, 6, 7, 8, 9, 10, 11, 12])\n",
        "newarr = arr.reshape(2, 3, 2)\n",
        "print(newarr)"
      ],
      "execution_count": null,
      "outputs": [
        {
          "output_type": "stream",
          "text": [
            "[[[ 1  2]\n",
            "  [ 3  4]\n",
            "  [ 5  6]]\n",
            "\n",
            " [[ 7  8]\n",
            "  [ 9 10]\n",
            "  [11 12]]]\n"
          ],
          "name": "stdout"
        }
      ]
    },
    {
      "cell_type": "markdown",
      "metadata": {
        "id": "vd6E4IwT10SC"
      },
      "source": [
        "##**Iteración de Matrices NumPy**\n",
        "\n",
        "Iterar significa pasar por los elementos uno por uno. Como tratamos con matrices multidimensionales en NumPy, podemos hacer esto usando el ciclo `for` básico de Python.\n",
        "\n",
        "###**Iterar una Matriz 1-D**\n",
        "\n",
        "Si iteramos en una matriz 1-D, pasará por cada elemento uno por uno.\n",
        "\n",
        "```python\n",
        "arr = np.array([1, 2, 3])\n",
        "for x in arr:\n",
        "  print(x)\n",
        "```\n",
        "\n",
        "###**Iterar una Matriz 2-D**\n",
        "\n",
        "En una matriz 2-D, pasará por todas las filas.\n",
        "\n",
        "```python\n",
        "arr = np.array([[1, 2, 3], [4, 5, 6]])\n",
        "for x in arr:\n",
        "  print(x)\n",
        "```\n",
        "Si iteramos en una matriz n-D, pasará por la n-1a dimensión una por una.\n",
        "\n",
        "Para devolver los valores reales, los escalares, tenemos que iterar las matrices en cada dimensión.\n",
        "\n",
        "```python\n",
        "#Iterar cada elemento escalar de la matriz 2-D:\n",
        "arr = np.array([[1, 2, 3], [4, 5, 6]])\n",
        "for x in arr:\n",
        "  for y in x:\n",
        "    print(y)\n",
        "```\n",
        "\n",
        "###**Iterar una Matriz 3-D**\n",
        "\n",
        "En una matriz 3-D, pasará por todas las matrices 2-D.\n",
        "\n",
        "```python\n",
        "arr = np.array([[[1, 2, 3], [4, 5, 6]], [[7, 8, 9], [10, 11, 12]]])\n",
        "for x in arr:\n",
        "  print(x)\n",
        "```\n",
        "Para devolver los valores reales (escalares), tenemos que iterar las matrices en cada dimensión.\n",
        "\n",
        "```python\n",
        "#Iterar cada elemento escalar de la matriz 2-D:\n",
        "arr = np.array([[[1, 2, 3], [4, 5, 6]], [[7, 8, 9], [10, 11, 12]]])\n",
        "for x in arr:\n",
        "  for y in x:\n",
        "    for z in y:\n",
        "      print(z)\n",
        "```\n",
        "\n",
        "###**Iterando matrices usando `nditer()`**\n",
        "\n",
        "La función `nditer()` es una función de ayuda que se puede utilizar desde iteraciones muy básicas hasta muy avanzadas. Resuelve algunos problemas básicos que enfrentamos en iteración, \n",
        "\n",
        "###**Iterando en cada elemento escalar**\n",
        "\n",
        "En ciclos `for` básicos, iterando a través de cada escalar de una matriz, necesitamos usar `n` ciclos `for` que pueden ser difíciles de escribir para matrices con una dimensionalidad muy alta. `nditer()` es un objeto iterador multidimensional eficiente para iterar sobre matrices. \n",
        "Ejemplo\n",
        "Itere a través de la siguiente matriz 3-D:\n",
        "\n",
        "```python\n",
        "arr = np.array([[[1, 2], [3, 4]], [[5, 6], [7, 8]]])\n",
        "for x in np.nditer(arr):\n",
        "  print(x)\n",
        "```"
      ]
    },
    {
      "cell_type": "code",
      "metadata": {
        "colab": {
          "base_uri": "https://localhost:8080/"
        },
        "id": "yNOGFqnc6xKn",
        "outputId": "f7466cb5-75d5-41b3-bf99-f594df69e4d5"
      },
      "source": [
        "arr = np.array([1, 2, 3])\n",
        "for x in arr:\n",
        "  print(x)"
      ],
      "execution_count": null,
      "outputs": [
        {
          "output_type": "stream",
          "text": [
            "1\n",
            "2\n",
            "3\n"
          ],
          "name": "stdout"
        }
      ]
    },
    {
      "cell_type": "code",
      "metadata": {
        "colab": {
          "base_uri": "https://localhost:8080/"
        },
        "id": "dwiHJXZJ7f4f",
        "outputId": "15430e46-42be-4e72-835f-37b263e4332d"
      },
      "source": [
        "arr = np.array([[1, 2, 3], [4, 5, 6]])\n",
        "for x in arr:\n",
        "  print(x)"
      ],
      "execution_count": null,
      "outputs": [
        {
          "output_type": "stream",
          "text": [
            "[1 2 3]\n",
            "[4 5 6]\n"
          ],
          "name": "stdout"
        }
      ]
    },
    {
      "cell_type": "code",
      "metadata": {
        "colab": {
          "base_uri": "https://localhost:8080/"
        },
        "id": "nx-CKwmK73zT",
        "outputId": "b7a9603d-b30d-464d-8017-a5f34e76ca0d"
      },
      "source": [
        "#Iterar cada elemento escalar de la matriz 2-D:\n",
        "arr = np.array([[1, 2, 3], [4, 5, 6]])\n",
        "for x in arr:\n",
        "    print('Fila', x)\n",
        "    for y in x:\n",
        "        print('columna', y)"
      ],
      "execution_count": null,
      "outputs": [
        {
          "output_type": "stream",
          "text": [
            "Fila [1 2 3]\n",
            "columna 1\n",
            "columna 2\n",
            "columna 3\n",
            "Fila [4 5 6]\n",
            "columna 4\n",
            "columna 5\n",
            "columna 6\n"
          ],
          "name": "stdout"
        }
      ]
    },
    {
      "cell_type": "code",
      "metadata": {
        "colab": {
          "base_uri": "https://localhost:8080/"
        },
        "id": "gsNvg-Cd9GNr",
        "outputId": "c2ab605e-4338-48a3-aff7-43fcace287be"
      },
      "source": [
        "arr = np.array([[[1, 2, 3], [4, 5, 6]], [[7, 8, 9], [10, 11, 12]]])\n",
        "for x in arr:\n",
        "    print(x)"
      ],
      "execution_count": null,
      "outputs": [
        {
          "output_type": "stream",
          "text": [
            "[[1 2 3]\n",
            " [4 5 6]]\n",
            "[[ 7  8  9]\n",
            " [10 11 12]]\n"
          ],
          "name": "stdout"
        }
      ]
    },
    {
      "cell_type": "code",
      "metadata": {
        "colab": {
          "base_uri": "https://localhost:8080/"
        },
        "id": "Q2dC-Fzv9I-p",
        "outputId": "2fa236c2-1249-48a6-b483-d5394ae18f13"
      },
      "source": [
        "arr = np.array([[[1, 2, 3], [4, 5, 6]], [[7, 8, 9], [10, 11, 12]]])\n",
        "for x in arr:\n",
        "  for y in x:\n",
        "    for z in y:\n",
        "      print(z)"
      ],
      "execution_count": null,
      "outputs": [
        {
          "output_type": "stream",
          "text": [
            "1\n",
            "2\n",
            "3\n",
            "4\n",
            "5\n",
            "6\n",
            "7\n",
            "8\n",
            "9\n",
            "10\n",
            "11\n",
            "12\n"
          ],
          "name": "stdout"
        }
      ]
    },
    {
      "cell_type": "code",
      "metadata": {
        "colab": {
          "base_uri": "https://localhost:8080/"
        },
        "id": "t4mAniKf9KGv",
        "outputId": "7b3a6468-a749-4a26-9cfa-8e058d00cb5e"
      },
      "source": [
        "arr = np.array([[[1, 2, 3], [4, 5, 6]], [[7, 8, 9], [10, 11, 12]]])\n",
        "for x in arr:\n",
        "    print('Matriz 2D',list(x))\n",
        "    for y in x:\n",
        "        print('\\tMatriz 1D',list(y))\n",
        "        for z in y:\n",
        "            print('\\t\\tMatriz 0D',z)"
      ],
      "execution_count": null,
      "outputs": [
        {
          "output_type": "stream",
          "text": [
            "Matriz 2D [array([1, 2, 3]), array([4, 5, 6])]\n",
            "\tMatriz 1D [1, 2, 3]\n",
            "\t\tMatriz 0D 1\n",
            "\t\tMatriz 0D 2\n",
            "\t\tMatriz 0D 3\n",
            "\tMatriz 1D [4, 5, 6]\n",
            "\t\tMatriz 0D 4\n",
            "\t\tMatriz 0D 5\n",
            "\t\tMatriz 0D 6\n",
            "Matriz 2D [array([7, 8, 9]), array([10, 11, 12])]\n",
            "\tMatriz 1D [7, 8, 9]\n",
            "\t\tMatriz 0D 7\n",
            "\t\tMatriz 0D 8\n",
            "\t\tMatriz 0D 9\n",
            "\tMatriz 1D [10, 11, 12]\n",
            "\t\tMatriz 0D 10\n",
            "\t\tMatriz 0D 11\n",
            "\t\tMatriz 0D 12\n"
          ],
          "name": "stdout"
        }
      ]
    },
    {
      "cell_type": "code",
      "metadata": {
        "colab": {
          "base_uri": "https://localhost:8080/"
        },
        "id": "UngLYJJd-7mO",
        "outputId": "e533b46a-f115-4c69-8c86-4cddebd5b357"
      },
      "source": [
        "arr = np.array([[[1, 2], [3, 4]], [[5, 6], [7, 8]]])\n",
        "for x in np.nditer(arr):\n",
        "  print(x)"
      ],
      "execution_count": null,
      "outputs": [
        {
          "output_type": "stream",
          "text": [
            "1\n",
            "2\n",
            "3\n",
            "4\n",
            "5\n",
            "6\n",
            "7\n",
            "8\n"
          ],
          "name": "stdout"
        }
      ]
    },
    {
      "cell_type": "markdown",
      "metadata": {
        "id": "lSuhukb__k0y"
      },
      "source": [
        "##**Búsqueda en Matrices NumPy**\n",
        "\n",
        "Puede buscar en una matriz un valor determinado y devolver los índices que coinciden. Para buscar una matriz, use el método `where()`.\n",
        "\n",
        "```python\n",
        "arr = np.array([1, 2, 3, 4, 5, 4, 4])\n",
        "x = np.where(arr == 4)\n",
        "print(x)\n",
        "```\n",
        "El ejemplo anterior devolverá una tupla: `(array([3, 5, 6]),)`\n",
        "Lo que significa que el valor 4 está presente en los índices 3, 5 y 6.\n",
        "\n",
        "Ejemplo: Detallar los índices pares.\n",
        "```python\n",
        "arr = np.array([1, 2, 3, 4, 5, 6, 7, 8])\n",
        "x = np.where(arr%2 == 0)\n",
        "print(x)\n",
        "```\n",
        "Ejemplo: Detallar los indices impares.\n",
        "```python\n",
        "arr = np.array([1, 2, 3, 4, 5, 6, 7, 8])\n",
        "x = np.where(arr%2 == 1)\n",
        "print(x)\n",
        "```"
      ]
    },
    {
      "cell_type": "code",
      "metadata": {
        "colab": {
          "base_uri": "https://localhost:8080/"
        },
        "id": "lxMxVwc__y6l",
        "outputId": "63132459-121e-45cd-d1af-d137191b1645"
      },
      "source": [
        "arr = np.array([1, 2, 3, 4, 5, 4, 4])\n",
        "x = np.where(arr == 4)\n",
        "print(x)"
      ],
      "execution_count": null,
      "outputs": [
        {
          "output_type": "stream",
          "text": [
            "(array([3, 5, 6]),)\n"
          ],
          "name": "stdout"
        }
      ]
    },
    {
      "cell_type": "code",
      "metadata": {
        "colab": {
          "base_uri": "https://localhost:8080/"
        },
        "id": "e2HrXodOAWlw",
        "outputId": "f8c2f006-eca6-40cc-93c9-92da9a67e9c3"
      },
      "source": [
        "arr = np.array([1, 2, 3, 4, 5, 6, 7, 8])\n",
        "x = np.where(arr%2 == 0)\n",
        "print(x)"
      ],
      "execution_count": null,
      "outputs": [
        {
          "output_type": "stream",
          "text": [
            "(array([1, 3, 5, 7]),)\n"
          ],
          "name": "stdout"
        }
      ]
    },
    {
      "cell_type": "code",
      "metadata": {
        "colab": {
          "base_uri": "https://localhost:8080/"
        },
        "id": "1Z5cxJv-AYWm",
        "outputId": "a2f184a4-26fa-48d5-b2e8-ffcc63a9f014"
      },
      "source": [
        "arr = np.array([1, 2, 3, 4, 5, 6, 7, 8])\n",
        "x = np.where(arr%2 == 1)\n",
        "print(x)"
      ],
      "execution_count": null,
      "outputs": [
        {
          "output_type": "stream",
          "text": [
            "(array([0, 2, 4, 6]),)\n"
          ],
          "name": "stdout"
        }
      ]
    },
    {
      "cell_type": "markdown",
      "metadata": {
        "id": "iZPn_JqoEHQn"
      },
      "source": [
        "##**Filtros en Matrices NumPy**\n",
        "\n",
        "Obtener algunos elementos de una matriz existente y crear una nueva matriz a partir de ellos se llama filtrado. En NumPy, filtrar una matriz se hace usando una lista de índice booleano. Una lista de índices booleanos es una lista de valores booleanos correspondientes a los índices de la matriz.\n",
        "\n",
        "Si el valor de un índice es Verdadero, ese elemento está contenido en la matriz filtrada, si el valor de ese índice es Falso, ese elemento se excluye de la matriz filtrada.\n",
        "\n",
        "```python\n",
        "arr = np.array([41, 42, 43, 44])\n",
        "x = [True, False, True, False]\n",
        "newarr = arr[x]\n",
        "print(newarr)\n",
        "```\n",
        "\n",
        "###**Filtros en Matrices NumPy con condicionales**\n",
        "\n",
        "En el ejemplo anterior codificamos los valores Verdadero y Falso, pero el uso común es crear una matriz de filtros basada en condiciones.\n",
        "\n",
        "```python\n",
        "arr = np.array([41, 42, 43, 44])\n",
        "# Creamos una lista vacía\n",
        "filter_arr = []\n",
        "# Recorremos los elementos de la matriz\n",
        "for element in arr:\n",
        "  # Si el elemento es mayor a 42 se marca como verdadero de lo contrario se marca falso\n",
        "  if element > 42:\n",
        "    filter_arr.append(True)\n",
        "  else:\n",
        "    filter_arr.append(False)\n",
        "#Creamos la nueva matriz filtrada\n",
        "newarr = arr[filter_arr]\n",
        "print(filter_arr)\n",
        "print(newarr)\n",
        "```"
      ]
    },
    {
      "cell_type": "code",
      "metadata": {
        "colab": {
          "base_uri": "https://localhost:8080/"
        },
        "id": "N2E4vDHDEfIK",
        "outputId": "a9e36fc2-c3fb-43e6-e65c-a414ce192c46"
      },
      "source": [
        "arr = np.array([41, 42, 43, 44])\n",
        "x = [True, False, True, False]\n",
        "newarr = arr[x]\n",
        "print(newarr)"
      ],
      "execution_count": null,
      "outputs": [
        {
          "output_type": "stream",
          "text": [
            "[41 43]\n"
          ],
          "name": "stdout"
        }
      ]
    },
    {
      "cell_type": "code",
      "metadata": {
        "colab": {
          "base_uri": "https://localhost:8080/"
        },
        "id": "ET2lXDDvFF6U",
        "outputId": "c1ba4259-388e-4d15-c708-ba14440292d8"
      },
      "source": [
        "arr = np.array([41, 42, 43, 44])\n",
        "# Creamos una lista vacía\n",
        "filter_arr = []\n",
        "# Recorremos los elementos de la matriz\n",
        "for element in arr:\n",
        "  # Si el elemento es mayor a 42 se marca como verdadero de lo contrario se marca falso\n",
        "  if element > 42:\n",
        "    filter_arr.append(True)\n",
        "  else:\n",
        "    filter_arr.append(False)\n",
        "#Creamos la nueva matriz filtrada\n",
        "newarr = arr[filter_arr]\n",
        "print(filter_arr)\n",
        "print(newarr)"
      ],
      "execution_count": null,
      "outputs": [
        {
          "output_type": "stream",
          "text": [
            "[False, False, True, True]\n",
            "[43 44]\n"
          ],
          "name": "stdout"
        }
      ]
    },
    {
      "cell_type": "code",
      "metadata": {
        "colab": {
          "base_uri": "https://localhost:8080/"
        },
        "id": "-LSDkTGsFLAF",
        "outputId": "3c6defe2-1c87-454a-b646-c5383d33b32e"
      },
      "source": [
        "#Ejemplo\n",
        "arr = np.array([1, 2, 3, 4, 5, 6, 7])\n",
        "filter_arr = []\n",
        "for element in arr:\n",
        "    if element % 2 == 0:\n",
        "        filter_arr.append(True)\n",
        "    else:\n",
        "        filter_arr.append(False)\n",
        "newarr = arr[filter_arr]\n",
        "print(filter_arr)\n",
        "print(newarr)"
      ],
      "execution_count": null,
      "outputs": [
        {
          "output_type": "stream",
          "text": [
            "[False, True, False, True, False, True, False]\n",
            "[2 4 6]\n"
          ],
          "name": "stdout"
        }
      ]
    },
    {
      "cell_type": "markdown",
      "metadata": {
        "id": "uciMsYcnFW93"
      },
      "source": [
        "##**Otras formas de crear matrices en NumPy**\n",
        "\n",
        "Se pueden crear matrices usando funciones detalladas por NumPy de la siguiente manera:\n",
        "\n",
        "\n",
        "```python\n",
        "a = np.zeros((2,2))                        # Creación de un array de zeros\n",
        "print(\"Array de ceros\", a)                 # Imprime \"[[ 0.  0.]\n",
        "                                           #          [ 0.  0.]]\"\n",
        "\n",
        "b = np.ones((1,2))                         # Creación de un array de unos\n",
        "print(\"Arrays de unos\", b)                 # Imprime \"[[ 1.  1.]]\"\n",
        "\n",
        "c = np.full((2,2), 8)                      # Creación de un array de una costante\n",
        "print(\"Array constante\", c)                # Imprime \"[[ 8.  8.]\n",
        "                                           #          [ 8.  8.]]\"\n",
        "\n",
        "d = np.eye(2)                              # Creación de la matriz indentidad de 2x2.\n",
        "print(\"Matriz identidad 2x2\", d)           # Imprime \"[[ 1.  0.]\n",
        "                                           #          [ 0.  1.]]\"\n",
        "\n",
        "e = np.arange(0, 20, 2)                    # Creación de un vector lleno de una secuencia lineal\n",
        "print(\"Array de una secuencia lineal\" ,e)  # que comience en 0, finalice en 18, con paso 2.\n",
        "\n",
        "\n",
        "f = np.linspace(0, 1, 5)                   # Crea un vector de cinco valores espaciados \n",
        "print(\"Array de una secuencia lineal2\",f)  # uniformemente entre 0 y 1.   \n",
        "\n",
        "\n",
        "g = np.random.random((2,2))                # Creación de una matriz de 2x2 de valores aleatorios.\n",
        "print(\"Array de números aleatorios(u)\", g) # distribuidos uniformemente.\n",
        "\n",
        "\n",
        "h = np.random.normal(0, 1, (3, 3))         # Creación una matriz 3x3 de valores aleatorios normalmente \n",
        "print(\"Array de números aleatorios(n)\", h) # distribuidos con media 0 y desviación estándar 1.\n",
        "\n",
        "\n",
        "i = np.random.randint(0, 10, (3, 3))       # Creación de una matriz 3x3 de números enteros aleatorios\n",
        "print(\"Array de números aleatorios(i)\",i)  # en el intervalo [0,10)\n",
        "```\n",
        "\n"
      ]
    },
    {
      "cell_type": "code",
      "metadata": {
        "colab": {
          "base_uri": "https://localhost:8080/"
        },
        "id": "kF0JbmkPFnqB",
        "outputId": "1e353200-d1e7-4cf0-ee90-78d9383e7d50"
      },
      "source": [
        "print('---------------------++++++++++++++++++----------------------')\n",
        "a = np.zeros((2,2))                        # Creación de un array de zeros\n",
        "print(\"Array de ceros\", a)                 # Imprime \"[[ 0.  0.]\n",
        "                                           #          [ 0.  0.]]\"\n",
        "print('---------------------++++++++++++++++++----------------------')\n",
        "b = np.ones((1,2))                         # Creación de un array de unos\n",
        "print(\"Arrays de unos\", b)                 # Imprime \"[[ 1.  1.]]\"\n",
        "print('---------------------++++++++++++++++++----------------------')\n",
        "c = np.full((2,2), 8)                      # Creación de un array de una costante\n",
        "print(\"Array constante\", c)                # Imprime \"[[ 8.  8.]\n",
        "                                           #          [ 8.  8.]]\"\n",
        "print('---------------------++++++++++++++++++----------------------')\n",
        "d = np.eye(2)                              # Creación de la matriz indentidad de 2x2.\n",
        "print(\"Matriz identidad 2x2\", d)           # Imprime \"[[ 1.  0.]\n",
        "                                           #          [ 0.  1.]]\"\n",
        "print('---------------------++++++++++++++++++----------------------')\n",
        "e = np.arange(0, 20, 2)                    # Creación de un vector lleno de una secuencia lineal\n",
        "print(\"Array de una secuencia lineal\" ,e)  # que comience en 0, finalice en 18, con paso 2.\n",
        "print('---------------------++++++++++++++++++----------------------')\n",
        "f = np.linspace(0, 1, 5)                   # Crea un vector de cinco valores espaciados \n",
        "print(\"Array de una secuencia lineal2\",f)  # uniformemente entre 0 y 1.   \n",
        "print('---------------------++++++++++++++++++----------------------')\n",
        "g = np.random.random((2,2))                # Creación de una matriz de 2x2 de valores aleatorios.\n",
        "print(\"Array de números aleatorios(u)\", g) # distribuidos uniformemente.\n",
        "print('---------------------++++++++++++++++++----------------------')\n",
        "h = np.random.normal(0, 1, (3, 3))         # Creación una matriz 3x3 de valores aleatorios normalmente \n",
        "print(\"Array de números aleatorios(n)\", h) # distribuidos con media 0 y desviación estándar 1.\n",
        "print('---------------------++++++++++++++++++----------------------')\n",
        "i = np.random.randint(0, 10, (3, 3))       # Creación de una matriz 3x3 de números enteros aleatorios\n",
        "print(\"Array de números aleatorios(i)\",i)  # en el intervalo [0,10)\n",
        "print('---------------------++++++++++++++++++----------------------')"
      ],
      "execution_count": null,
      "outputs": [
        {
          "output_type": "stream",
          "text": [
            "---------------------++++++++++++++++++----------------------\n",
            "Array de ceros [[0. 0.]\n",
            " [0. 0.]]\n",
            "---------------------++++++++++++++++++----------------------\n",
            "Arrays de unos [[1. 1.]]\n",
            "---------------------++++++++++++++++++----------------------\n",
            "Array constante [[8 8]\n",
            " [8 8]]\n",
            "---------------------++++++++++++++++++----------------------\n",
            "Matriz identidad 2x2 [[1. 0.]\n",
            " [0. 1.]]\n",
            "---------------------++++++++++++++++++----------------------\n",
            "Array de una secuencia lineal [ 0  2  4  6  8 10 12 14 16 18]\n",
            "---------------------++++++++++++++++++----------------------\n",
            "Array de una secuencia lineal2 [0.   0.25 0.5  0.75 1.  ]\n",
            "---------------------++++++++++++++++++----------------------\n",
            "Array de números aleatorios(u) [[0.79267143 0.3360493 ]\n",
            " [0.13498476 0.16296222]]\n",
            "---------------------++++++++++++++++++----------------------\n",
            "Array de números aleatorios(n) [[-0.45966829 -0.21056481 -0.94843045]\n",
            " [ 0.32602114  0.42201417 -1.03845011]\n",
            " [-1.29941599  0.1087371   0.20071194]]\n",
            "---------------------++++++++++++++++++----------------------\n",
            "Array de números aleatorios(i) [[3 9 4]\n",
            " [7 8 0]\n",
            " [3 1 8]]\n",
            "---------------------++++++++++++++++++----------------------\n"
          ],
          "name": "stdout"
        }
      ]
    },
    {
      "cell_type": "markdown",
      "metadata": {
        "id": "qAlSFFFoNG6Y"
      },
      "source": [
        "##**Funciones universales (ufunc)**\n",
        "\n",
        "Una función universal (o ufunc para abreviar) es una función que opera en `ndarrays` de una manera elemento por elemento, que admite [Broadcasting](https://numpy.org/doc/stable/user/basics.broadcasting.html) sobre matrices, conversión de tipos y varias otras características estándar. Es decir, un ufunc es un contenedor \"vectorizado\" para una función que toma un número fijo de entradas específicas y produce un número fijo de salidas específicas.\n",
        "\n",
        "En NumPy, las funciones universales son instancias de la clase `numpy.ufunc`. Muchas de las funciones integradas se implementan en código `C` compilado. Las ufuncs básicas operan sobre escalares, pero también hay un tipo generalizado para el cual los elementos básicos son submatrices (vectores, matrices, etc.), y el [Broadcasting](https://numpy.org/doc/stable/user/basics.broadcasting.html) se realiza sobre otras dimensiones. También se pueden producir instancias de ufunc personalizadas utilizando la función de fábrica frompyfunc.\n",
        "\n",
        "Las ufuncs más comunes de NumPy se describen a continuación:\n",
        "\n",
        "```python\n",
        "x = np.arange(1,5)\n",
        "print(x)\n",
        "# Operadores aritméticos\n",
        "print('x+2 ',np.add(x,2))\n",
        "print('x-2 ',np.subtract(x,2))\n",
        "print('-x ',np.negative(x))\n",
        "print('x*2 ',np.multiply(x,2))\n",
        "print('x/2 ',np.divide(x,2))\n",
        "print('x^2 ',np.power(x,2))\n",
        "# Funciones trigonométricas\n",
        "theta = np.linspace(0,np.pi,3)\n",
        "print('sin(theta)',np.sin(theta))\n",
        "print('cos(theta)',np.cos(theta))\n",
        "# Exponenciales y logaritmos\n",
        "print(\"e^x =\", np.exp(x))\n",
        "print(\"2^x =\", np.exp2(x))\n",
        "print(\"3^x =\", np.power(3, x))\n",
        "print(\"ln(x) =\", np.log(x))\n",
        "print(\"log2(x) =\", np.log2(x))\n",
        "print(\"log10(x) =\", np.log10(x))\n",
        "```\n",
        "\n"
      ]
    },
    {
      "cell_type": "code",
      "metadata": {
        "colab": {
          "base_uri": "https://localhost:8080/"
        },
        "id": "X5V59y2_OlyO",
        "outputId": "dc7c6389-41fe-419a-f03d-42a4f3123a39"
      },
      "source": [
        "x = np.arange(1,5)\n",
        "print(x)\n",
        "# Operadores aritméticos\n",
        "print('x+2 ',np.add(x,2))\n",
        "print('x-2 ',np.subtract(x,2))\n",
        "print('-x ',np.negative(x))\n",
        "print('x*2 ',np.multiply(x,2))\n",
        "print('x/2 ',np.divide(x,2))\n",
        "print('x^2 ',np.power(x,2))\n",
        "# Funciones trigonométricas\n",
        "theta = np.linspace(0,np.pi,3)\n",
        "print('sin(theta)',np.sin(theta))\n",
        "print('cos(theta)',np.cos(theta))\n",
        "# Exponenciales y logaritmos\n",
        "print(\"e^x =\", np.exp(x))\n",
        "print(\"2^x =\", np.exp2(x))\n",
        "print(\"3^x =\", np.power(3, x))\n",
        "print(\"ln(x) =\", np.log(x))\n",
        "print(\"log2(x) =\", np.log2(x))\n",
        "print(\"log10(x) =\", np.log10(x))"
      ],
      "execution_count": null,
      "outputs": [
        {
          "output_type": "stream",
          "text": [
            "[1 2 3 4]\n",
            "x+2  [3 4 5 6]\n",
            "x-2  [-1  0  1  2]\n",
            "-x  [-1 -2 -3 -4]\n",
            "x*2  [2 4 6 8]\n",
            "x/2  [0.5 1.  1.5 2. ]\n",
            "x^2  [ 1  4  9 16]\n",
            "sin(theta) [0.0000000e+00 1.0000000e+00 1.2246468e-16]\n",
            "cos(theta) [ 1.000000e+00  6.123234e-17 -1.000000e+00]\n",
            "e^x = [ 2.71828183  7.3890561  20.08553692 54.59815003]\n",
            "2^x = [ 2.  4.  8. 16.]\n",
            "3^x = [ 3  9 27 81]\n",
            "ln(x) = [0.         0.69314718 1.09861229 1.38629436]\n",
            "log2(x) = [0.        1.        1.5849625 2.       ]\n",
            "log10(x) = [0.         0.30103    0.47712125 0.60205999]\n"
          ],
          "name": "stdout"
        }
      ]
    },
    {
      "cell_type": "code",
      "metadata": {
        "id": "yhwTavfROvqj"
      },
      "source": [
        ""
      ],
      "execution_count": null,
      "outputs": []
    },
    {
      "cell_type": "markdown",
      "metadata": {
        "id": "s0yn8hzNF7Ok"
      },
      "source": [
        "##**Operaciones Básicas**\n",
        "\n",
        "Las operaciones matemáticas básicas entre matrices, son operaciones elemento a elemento, y están disponibles, tanto como sobrecarga de operadores como en funciones en NumPy.\n",
        "\n",
        "\n",
        "\n",
        "```python\n",
        "x = np.array([[1,2],[3,4]], dtype=np.float64)\n",
        "y = np.array([[5,6],[7,8]], dtype=np.float64)\n",
        "# Suma elemento a elemento\n",
        "print(x + y)\n",
        "print(np.add(x, y))\n",
        "# Resta elemento a elemento.\n",
        "print(x - y)\n",
        "print(np.subtract(x, y))\n",
        "# Multiplicación elemento a elemento.\n",
        "print(x * y)\n",
        "print(np.multiply(x, y))\n",
        "# División elemento a elemento.\n",
        "print(x / y)\n",
        "print(np.divide(x, y))\n",
        "# Raiz cuadrada a cada elmento.\n",
        "print(np.sqrt(x))\n",
        "```\n",
        "Nótese que la multiplicación mediante el operador `*` corresponde a una multiplicación elemento a elemento entre dos matrices. En Python, la multiplicación matricial entre dos matrices se realiza mediante la función punto (`dot`).\n",
        "\n",
        "```python\n",
        "x = np.array([[1,2],[3,4]])\n",
        "y = np.array([[5,6],[7,8]])\n",
        "v = np.array([9,10])\n",
        "w = np.array([11, 12])\n",
        "# Producto entre vectores\n",
        "print(\"Producto vector-vector\",v.dot(w))\n",
        "print(\"Producto vector-vector\", np.dot(v, w),\"\\n\")\n",
        "# Producto matriz/vector;\n",
        "print(\"Producto matriz/vector \\n\",x.dot(v))\n",
        "print(\"Producto matriz/vector \\n\", np.dot(x, v),\"\\n\")\n",
        "# Producto matrix/matrix ; \n",
        "print(\"Producto matriz/matriz \\n\",x.dot(y),\"\\n\")\n",
        "print(\"Producto matriz/matriz \\n\",np.dot(x, y))\n",
        "```\n",
        "\n"
      ]
    },
    {
      "cell_type": "code",
      "metadata": {
        "colab": {
          "base_uri": "https://localhost:8080/"
        },
        "id": "baCLFN1KMB1j",
        "outputId": "93c1b701-2ac1-4fa0-982b-dd961893f08d"
      },
      "source": [
        "x = np.array([[1,2],[3,4]], dtype=np.float64)\n",
        "y = np.array([[5,6],[7,8]], dtype=np.float64)\n",
        "# Suma elemento a elemento\n",
        "print('---------------------++++++++++++++++++----------------------')\n",
        "print('Suma elemento a elemento')\n",
        "print(x + y)\n",
        "print(np.add(x, y))\n",
        "print('---------------------++++++++++++++++++----------------------')\n",
        "# Resta elemento a elemento.\n",
        "print('Resta elemento a elemento')\n",
        "print(x - y)\n",
        "print(np.subtract(x, y))\n",
        "print('---------------------++++++++++++++++++----------------------')\n",
        "# Multiplicación elemento a elemento.\n",
        "print('Multiplicación elemento a elemento')\n",
        "print(x * y)\n",
        "print(np.multiply(x, y))\n",
        "print('---------------------++++++++++++++++++----------------------')\n",
        "# División elemento a elemento.\n",
        "print('División elemento a elemento')\n",
        "print(x / y)\n",
        "print(np.divide(x, y))\n",
        "print('---------------------++++++++++++++++++----------------------')\n",
        "# Raiz cuadrada a cada elmento.\n",
        "print('Raiz cuadrada a cada elmento')\n",
        "print(np.sqrt(x))\n",
        "print('---------------------++++++++++++++++++----------------------')"
      ],
      "execution_count": null,
      "outputs": [
        {
          "output_type": "stream",
          "text": [
            "---------------------++++++++++++++++++----------------------\n",
            "Suma elemento a elemento\n",
            "[[ 6.  8.]\n",
            " [10. 12.]]\n",
            "[[ 6.  8.]\n",
            " [10. 12.]]\n",
            "---------------------++++++++++++++++++----------------------\n",
            "Resta elemento a elemento\n",
            "[[-4. -4.]\n",
            " [-4. -4.]]\n",
            "[[-4. -4.]\n",
            " [-4. -4.]]\n",
            "---------------------++++++++++++++++++----------------------\n",
            "Multiplicación elemento a elemento\n",
            "[[ 5. 12.]\n",
            " [21. 32.]]\n",
            "[[ 5. 12.]\n",
            " [21. 32.]]\n",
            "---------------------++++++++++++++++++----------------------\n",
            "División elemento a elemento\n",
            "[[0.2        0.33333333]\n",
            " [0.42857143 0.5       ]]\n",
            "[[0.2        0.33333333]\n",
            " [0.42857143 0.5       ]]\n",
            "---------------------++++++++++++++++++----------------------\n",
            "Raiz cuadrada a cada elmento\n",
            "[[1.         1.41421356]\n",
            " [1.73205081 2.        ]]\n",
            "---------------------++++++++++++++++++----------------------\n"
          ],
          "name": "stdout"
        }
      ]
    },
    {
      "cell_type": "code",
      "metadata": {
        "colab": {
          "base_uri": "https://localhost:8080/"
        },
        "id": "KB0x8niNMxJ8",
        "outputId": "6f787506-00de-4d02-b4a3-1e5a56930577"
      },
      "source": [
        "x = np.array([[1,2],[3,4]])\n",
        "y = np.array([[5,6],[7,8]])\n",
        "\n",
        "v = np.array([9,10])\n",
        "w = np.array([11, 12])\n",
        "\n",
        "# Producto entre vectores\n",
        "print(\"Producto vector-vector\",v.dot(w))\n",
        "print(\"Producto vector-vector\", np.dot(v, w),\"\\n\")\n",
        "\n",
        "# Producto matriz/vector;\n",
        "print(\"Producto matriz/vector \\n\",x.dot(v))\n",
        "print(\"Producto matriz/vector \\n\", np.dot(x, v),\"\\n\")\n",
        "\n",
        "# Producto matrix/matrix ; \n",
        "print(\"Producto matriz/matriz \\n\",x.dot(y),\"\\n\")\n",
        "print(\"Producto matriz/matriz \\n\",np.dot(x, y))"
      ],
      "execution_count": null,
      "outputs": [
        {
          "output_type": "stream",
          "text": [
            "Producto vector-vector 219\n",
            "Producto vector-vector 219 \n",
            "\n",
            "Producto matriz/vector \n",
            " [29 67]\n",
            "Producto matriz/vector \n",
            " [29 67] \n",
            "\n",
            "Producto matriz/matriz \n",
            " [[19 22]\n",
            " [43 50]] \n",
            "\n",
            "Producto matriz/matriz \n",
            " [[19 22]\n",
            " [43 50]]\n"
          ],
          "name": "stdout"
        }
      ]
    },
    {
      "cell_type": "markdown",
      "metadata": {
        "id": "TBP_yrGfZZKn"
      },
      "source": [
        "<p><a name=\"s3\"></a></p>\n",
        "\n",
        "# **03. Pandas**\n",
        "[[Contenidos]](#contents)\n",
        "\n",
        "<p><img alt=\"Pandas\" height=\"200px\" src=\"https://raw.githubusercontent.com/juliancastillo-iudigital/FundamentosProgramacionPosgrados2021-1/feee1baad810e4671256f00d1231bd0b94fffdd1/pandas.svg\" align=\"left\" hspace=\"10px\" vspace=\"0px\"></p></div>"
      ]
    },
    {
      "cell_type": "markdown",
      "metadata": {
        "id": "SNfdns2zR6Ub"
      },
      "source": [
        "##**¿Qué es [Pandas](https://pandas.pydata.org/)?**\n",
        "\n",
        "En Computación y Ciencia de datos, pandas es una biblioteca de software escrita como extensión de NumPy para manipulación y análisis de datos para el lenguaje de programación Python. En particular, ofrece estructuras de datos y operaciones para manipular tablas numéricas y series temporales. Es un software libre distribuido bajo la licencia [BSD](https://es.wikipedia.org/wiki/Licencia_BSD) versión tres cláusulas.​ El nombre deriva del término \"datos de panel\", término de econometría que designa datos que combinan una dimensión temporal con otra dimensión transversal.\n",
        "\n",
        "###**Características de la biblioteca**\n",
        "\n",
        "*   Tipo de datos DataFrame para manipulación de datos con indexación integrada.\n",
        "*   Herramientas para leer y escribir datos entre estructuras de dato en-memoria y formatos de archivo variados.\n",
        "*   Alineación de dato y manejo integrado de datos faltantes.\n",
        "*   Reestructuración y segmentación de conjuntos de datos.\n",
        "*   Segmentación vertical basada en etiquetas, indexación elegante, y segmentación horizontal de grandes conjuntos de datos.\n",
        "*   Inserción y eliminación de columnas en estructuras de datos.\n",
        "*   Agrupación predefinida en la biblioteca lo que permite realizar cadenas de operaciones dividir-aplicar-combinar sobre conjuntos de datos.\n",
        "*   Mezcla y unión de datos.\n",
        "*   Indexación jerárquica de ejes para trabajar con datos de altas dimensiones en estructuras de datos de menor dimensión.\n",
        "*   Funcionalidad de series de tiempo: generación de rangos de fechas y conversión de frecuencias, desplazamiento de ventanas estadísticas y de regresiones lineales, desplazamiento de fechas y retrasos.\n",
        "\n",
        "La biblioteca ha sido altamente optimizada en cuanto a rendimiento, con caminos de código crítico escritos en Cython o en C.\n",
        "\n",
        "\n",
        "\n",
        "*   Pandas nos permite analizar big data y sacar conclusiones basadas en teorías estadísticas.\n",
        "*   Los pandas pueden limpiar conjuntos de datos desordenados y hacerlos legibles y relevantes.\n",
        "*   Los datos relevantes son muy importantes en la ciencia de datos.\n",
        "\n",
        "###**¿Qué pueden hacer Pandas?**\n",
        "\n",
        "Pandas te da respuestas sobre los datos. Como:\n",
        "\n",
        "*   ¿Existe una correlación entre dos o más columnas?\n",
        "*   ¿Qué es el valor medio?\n",
        "*   ¿Valor máximo?\n",
        "*   ¿Valor mínimo?\n",
        "\n",
        "Pandas también pueden eliminar filas que no son relevantes o que contienen valores incorrectos, como valores vacíos o NULL. A esto se le llama limpiar los datos.\n",
        "\n",
        "###**¿Dónde está el código fuente de Pandas?**\n",
        "\n",
        "El código fuente de Pandas se encuentra en este repositorio de github \n",
        "*   [https://github.com/pandas-dev/pandas](https://github.com/pandas-dev/pandas)\n"
      ]
    },
    {
      "cell_type": "markdown",
      "metadata": {
        "id": "wuU6KxSRPcbD"
      },
      "source": [
        "##**Instalación de Pandas**\n",
        "\n",
        "Instalar Pandas en Google Colab no es necesario, dicho módulo se encuentra instalado, en caso de necesitar la instalación relacionamos un `pip install` con la llamada al módulo Pandas.\n",
        "\n",
        "\n",
        "```python\n",
        "!pip install Pandas\n",
        "```\n",
        "Importar el módulo Pandas se realiza con la palabra clave `import` y nótese el alias asignado al módulo es `pd` el cual es de uso generalizado en la comunidad de Pandas.\n",
        "\n",
        "```python\n",
        "import pandas as pd\n",
        "```\n",
        "\n",
        "Para verficar la versión de Pandas se puede realizar con `!pip list` o con la llamada especifica usando `!pip show pandas` o `!pip show --verbose pandas`\n",
        "\n",
        "\n"
      ]
    },
    {
      "cell_type": "code",
      "metadata": {
        "id": "H_UKkRiGY9C4"
      },
      "source": [
        "import pandas as pd"
      ],
      "execution_count": null,
      "outputs": []
    },
    {
      "cell_type": "code",
      "metadata": {
        "colab": {
          "base_uri": "https://localhost:8080/"
        },
        "id": "3-8b5oteY_jA",
        "outputId": "f8dea274-34f0-4d12-9812-adf037b39b69"
      },
      "source": [
        "!pip show pandas"
      ],
      "execution_count": null,
      "outputs": [
        {
          "output_type": "stream",
          "text": [
            "Name: pandas\n",
            "Version: 1.1.5\n",
            "Summary: Powerful data structures for data analysis, time series, and statistics\n",
            "Home-page: https://pandas.pydata.org\n",
            "Author: None\n",
            "Author-email: None\n",
            "License: BSD\n",
            "Location: /usr/local/lib/python3.7/dist-packages\n",
            "Requires: python-dateutil, pytz, numpy\n",
            "Required-by: xarray, vega-datasets, statsmodels, sklearn-pandas, seaborn, pymc3, plotnine, pandas-profiling, pandas-gbq, pandas-datareader, mlxtend, mizani, holoviews, gspread-dataframe, google-colab, fix-yahoo-finance, fbprophet, fastai, cufflinks, cmdstanpy, arviz, altair\n"
          ],
          "name": "stdout"
        }
      ]
    },
    {
      "cell_type": "code",
      "metadata": {
        "colab": {
          "base_uri": "https://localhost:8080/"
        },
        "id": "zvxBLDKaP4gV",
        "outputId": "b3b7d525-b85d-4ab3-b5a2-c276d1127b47"
      },
      "source": [
        "!pip show --verbose pandas"
      ],
      "execution_count": null,
      "outputs": [
        {
          "output_type": "stream",
          "text": [
            "Name: pandas\n",
            "Version: 1.1.5\n",
            "Summary: Powerful data structures for data analysis, time series, and statistics\n",
            "Home-page: https://pandas.pydata.org\n",
            "Author: None\n",
            "Author-email: None\n",
            "License: BSD\n",
            "Location: /usr/local/lib/python3.7/dist-packages\n",
            "Requires: numpy, python-dateutil, pytz\n",
            "Required-by: xarray, vega-datasets, statsmodels, sklearn-pandas, seaborn, pymc3, plotnine, pandas-profiling, pandas-gbq, pandas-datareader, mlxtend, mizani, holoviews, gspread-dataframe, google-colab, fix-yahoo-finance, fbprophet, fastai, cufflinks, cmdstanpy, arviz, altair\n",
            "Metadata-Version: 2.1\n",
            "Installer: pip\n",
            "Classifiers:\n",
            "  Development Status :: 5 - Production/Stable\n",
            "  Environment :: Console\n",
            "  Operating System :: OS Independent\n",
            "  Intended Audience :: Science/Research\n",
            "  Programming Language :: Python\n",
            "  Programming Language :: Python :: 3\n",
            "  Programming Language :: Python :: 3.6\n",
            "  Programming Language :: Python :: 3.7\n",
            "  Programming Language :: Python :: 3.8\n",
            "  Programming Language :: Python :: 3.9\n",
            "  Programming Language :: Cython\n",
            "  Topic :: Scientific/Engineering\n",
            "Entry-points:\n",
            "  [pandas_plotting_backends]\n",
            "  matplotlib = pandas:plotting._matplotlib\n"
          ],
          "name": "stdout"
        }
      ]
    },
    {
      "cell_type": "markdown",
      "metadata": {
        "id": "oGCSS9B2X6Jg"
      },
      "source": [
        "##**¿Qué es una serie de Pandas?**\n",
        "\n",
        "Una serie Pandas es como una columna en una tabla. Es una matriz unidimensional que contiene datos de cualquier tipo.\n",
        "\n",
        "```python\n",
        "a = [1, 7, 2]\n",
        "myvar = pd.Series(a)\n",
        "print(myvar)\n",
        "```\n",
        "\n"
      ]
    },
    {
      "cell_type": "code",
      "metadata": {
        "colab": {
          "base_uri": "https://localhost:8080/"
        },
        "id": "SqGU9O8oZNDm",
        "outputId": "1a885396-9c83-4788-ddcb-e1fcb1b887e4"
      },
      "source": [
        "a = [1, 7, 2]\n",
        "myvar = pd.Series(a)\n",
        "print(myvar)"
      ],
      "execution_count": null,
      "outputs": [
        {
          "output_type": "stream",
          "text": [
            "0    1\n",
            "1    7\n",
            "2    2\n",
            "dtype: int64\n"
          ],
          "name": "stdout"
        }
      ]
    },
    {
      "cell_type": "markdown",
      "metadata": {
        "id": "dKudNhhCZdnC"
      },
      "source": [
        "##**Etiquetas-Labels**\n",
        "\n",
        "Si no se especifica nada más, los valores se etiquetan con su número de índice. El primer valor tiene índice 0, el segundo valor tiene índice 1, etc.\n",
        "\n",
        "Esta etiqueta se puede utilizar para acceder a un valor especificado.\n",
        "\n",
        "Ejemplo\n",
        "Devuelve el primer valor de la serie:\n",
        "\n",
        "```python\n",
        "print(myvar[0])\n",
        "```\n",
        "\n",
        "###**Crear etiquetas**\n",
        "\n",
        "Con el argumento de índice, puede nombrar sus propias etiquetas.\n",
        "Ejemplo\n",
        "Crea tus propias etiquetas:\n",
        "```python\n",
        "a = [1, 7, 2]\n",
        "myvar = pd.Series(a, index = [\"x\", \"y\", \"z\"])\n",
        "print(myvar)\n",
        "```\n",
        "\n",
        "Cuando haya creado etiquetas, puede acceder a un elemento consultando la etiqueta.\n",
        "\n",
        "Ejemplo\n",
        "Devuelve el valor de \"y\":\n",
        "\n",
        "```python\n",
        "print(myvar[\"y\"])\n",
        "```\n",
        "\n",
        "###**Objetos `clave/valor` como serie**\n",
        "\n",
        "También puede utilizar un objeto `clave/valor`, como un diccionario, al crear una serie.\n",
        "\n",
        "Ejemplo\n",
        "Cree una serie Pandas simple a partir de un diccionario:\n",
        "```python\n",
        "calories = {\"day1\": 420, \"day2\": 380, \"day3\": 390}\n",
        "myvar = pd.Series(calories)\n",
        "print(myvar)\n",
        "```\n",
        "Nota: Las claves del diccionario se convierten en etiquetas.\n",
        "\n",
        "Para seleccionar solo algunos de los elementos del diccionario, use el argumento del índice y especifique solo los elementos que desea incluir en la Serie.\n",
        "\n",
        "Ejemplo\n",
        "Cree una serie utilizando solo datos de \"día1\" y \"día2\":\n",
        "```python\n",
        "calories = {\"day1\": 420, \"day2\": 380, \"day3\": 390}\n",
        "myvar = pd.Series(calories, index = [\"day1\", \"day2\"])\n",
        "print(myvar)\n",
        "```\n"
      ]
    },
    {
      "cell_type": "code",
      "metadata": {
        "colab": {
          "base_uri": "https://localhost:8080/"
        },
        "id": "6icFJDx6bmI3",
        "outputId": "86b1a833-f7f8-4dad-c9a6-aa216c68d223"
      },
      "source": [
        "print(myvar[0])"
      ],
      "execution_count": null,
      "outputs": [
        {
          "output_type": "stream",
          "text": [
            "1\n"
          ],
          "name": "stdout"
        }
      ]
    },
    {
      "cell_type": "code",
      "metadata": {
        "colab": {
          "base_uri": "https://localhost:8080/"
        },
        "id": "rao5GcnfcIzi",
        "outputId": "1681cf0b-6d62-4d5c-d5cb-a588c4bd3b1f"
      },
      "source": [
        "a = [1, 7, 2]\n",
        "myvar = pd.Series(a, index = [\"x\", \"y\", \"z\"])\n",
        "print(myvar)"
      ],
      "execution_count": null,
      "outputs": [
        {
          "output_type": "stream",
          "text": [
            "x    1\n",
            "y    7\n",
            "z    2\n",
            "dtype: int64\n"
          ],
          "name": "stdout"
        }
      ]
    },
    {
      "cell_type": "code",
      "metadata": {
        "colab": {
          "base_uri": "https://localhost:8080/"
        },
        "id": "8474bnmMcSj8",
        "outputId": "8db63339-dac5-4d30-e72b-88b002ecbf83"
      },
      "source": [
        "print(myvar[\"y\"])"
      ],
      "execution_count": null,
      "outputs": [
        {
          "output_type": "stream",
          "text": [
            "7\n"
          ],
          "name": "stdout"
        }
      ]
    },
    {
      "cell_type": "code",
      "metadata": {
        "colab": {
          "base_uri": "https://localhost:8080/"
        },
        "id": "jdIeQIyccuT3",
        "outputId": "b53bbbbb-12c9-444d-ab10-1cf0c9c2765a"
      },
      "source": [
        "calories = {\"day1\": 420, \"day2\": 380, \"day3\": 390}\n",
        "myvar = pd.Series(calories)\n",
        "print(myvar)"
      ],
      "execution_count": null,
      "outputs": [
        {
          "output_type": "stream",
          "text": [
            "day1    420\n",
            "day2    380\n",
            "day3    390\n",
            "dtype: int64\n"
          ],
          "name": "stdout"
        }
      ]
    },
    {
      "cell_type": "code",
      "metadata": {
        "colab": {
          "base_uri": "https://localhost:8080/"
        },
        "id": "wmc6AOiwdAFl",
        "outputId": "ee74b284-e31e-45b4-fc87-bca7c607ce51"
      },
      "source": [
        "calories = {\"day1\": 420, \"day2\": 380, \"day3\": 390}\n",
        "myvar = pd.Series(calories, index = [\"day1\", \"day2\"])\n",
        "print(myvar)"
      ],
      "execution_count": null,
      "outputs": [
        {
          "output_type": "stream",
          "text": [
            "day1    420\n",
            "day2    380\n",
            "dtype: int64\n"
          ],
          "name": "stdout"
        }
      ]
    },
    {
      "cell_type": "markdown",
      "metadata": {
        "id": "yEMdn5D6g2Ir"
      },
      "source": [
        "##**DataFrames**\n",
        "\n",
        "![](https://pandas.pydata.org/docs/_images/01_table_dataframe.svg)\n",
        "\n",
        "Los conjuntos de datos en Pandas suelen ser tablas multidimensionales, llamadas DataFrames. La serie es como una columna, un DataFrame es la tabla completa.\n",
        "\n",
        "Ejemplo\n",
        "Cree un DataFrame a partir de dos series:\n",
        "\n",
        "```python\n",
        "data = {\n",
        "  \"calories\": [420, 380, 390],\n",
        "  \"duration\": [50, 40, 45]\n",
        "}\n",
        "df = pd.DataFrame(data)\n",
        "print(df) \n",
        "```\n",
        "\n",
        "###**Localizar fila**\n",
        "\n",
        "Pandas utiliza el atributo loc para devolver una o más filas especificadas\n",
        "\n",
        "```python\n",
        "print(df.loc[0])\n",
        "```\n",
        "Nota: Este ejemplo devuelve una serie Pandas.\n",
        "\n",
        "Ahora retornaremos la fila 0 y 1\n",
        "```python\n",
        "print(df.loc[[0, 1]])\n",
        "```\n",
        "Nota: Al usar `[]`, el resultado es un DataFrame de Pandas.\n",
        "\n",
        "###**Índices nombrados**\n",
        "\n",
        "Con el argumento de `index`, puede nombrar sus propios índices.\n",
        "\n",
        "Ejemplo\n",
        "Agregue una lista de nombres para darle un nombre a cada fila:\n",
        "\n",
        "```python\n",
        "data = {\n",
        "  \"calories\": [420, 380, 390],\n",
        "  \"duration\": [50, 40, 45]\n",
        "}\n",
        "df = pd.DataFrame(data, index = [\"day1\", \"day2\", \"day3\"])\n",
        "print(df) \n",
        "```\n",
        "\n",
        "###**Localizar Índices nombrados**\n",
        "\n",
        "Utilice el índice nombrado en el atributo `loc` para devolver las filas especificadas:\n",
        "\n",
        "```python\n",
        "print(df.loc[\"day2\"])\n",
        "```"
      ]
    },
    {
      "cell_type": "code",
      "metadata": {
        "colab": {
          "base_uri": "https://localhost:8080/"
        },
        "id": "Z8K9e39ghB6Z",
        "outputId": "fc0c95d9-2750-4fd0-8aed-2a585607977e"
      },
      "source": [
        "data = {\n",
        "  \"calories\": [420, 380, 390],\n",
        "  \"duration\": [50, 40, 45]\n",
        "}\n",
        "df = pd.DataFrame(data)\n",
        "print(df) "
      ],
      "execution_count": null,
      "outputs": [
        {
          "output_type": "stream",
          "text": [
            "   calories  duration\n",
            "0       420        50\n",
            "1       380        40\n",
            "2       390        45\n"
          ],
          "name": "stdout"
        }
      ]
    },
    {
      "cell_type": "code",
      "metadata": {
        "colab": {
          "base_uri": "https://localhost:8080/"
        },
        "id": "S8U5d5fIi-xk",
        "outputId": "2d649988-677b-455d-dd36-443362072cc9"
      },
      "source": [
        "print(df.loc[0])"
      ],
      "execution_count": null,
      "outputs": [
        {
          "output_type": "stream",
          "text": [
            "calories    420\n",
            "duration     50\n",
            "Name: 0, dtype: int64\n"
          ],
          "name": "stdout"
        }
      ]
    },
    {
      "cell_type": "code",
      "metadata": {
        "colab": {
          "base_uri": "https://localhost:8080/"
        },
        "id": "PUQQYMBxjt6J",
        "outputId": "ec059f94-9220-4d36-bbe4-56ceda361930"
      },
      "source": [
        "print(df.loc[[0, 1]])"
      ],
      "execution_count": null,
      "outputs": [
        {
          "output_type": "stream",
          "text": [
            "   calories  duration\n",
            "0       420        50\n",
            "1       380        40\n"
          ],
          "name": "stdout"
        }
      ]
    },
    {
      "cell_type": "code",
      "metadata": {
        "colab": {
          "base_uri": "https://localhost:8080/"
        },
        "id": "vyYrLw0rkU22",
        "outputId": "600088f8-2482-436b-d77f-c44af360698c"
      },
      "source": [
        "data = {\n",
        "  \"calories\": [420, 380, 390],\n",
        "  \"duration\": [50, 40, 45]\n",
        "}\n",
        "df = pd.DataFrame(data, index = [\"day1\", \"day2\", \"day3\"])\n",
        "print(df) "
      ],
      "execution_count": null,
      "outputs": [
        {
          "output_type": "stream",
          "text": [
            "      calories  duration\n",
            "day1       420        50\n",
            "day2       380        40\n",
            "day3       390        45\n"
          ],
          "name": "stdout"
        }
      ]
    },
    {
      "cell_type": "code",
      "metadata": {
        "colab": {
          "base_uri": "https://localhost:8080/"
        },
        "id": "Z0-w7ABElNGn",
        "outputId": "5b453dc3-ec70-440b-9396-4a36f9b28a95"
      },
      "source": [
        "print(df.loc[\"day2\"])"
      ],
      "execution_count": null,
      "outputs": [
        {
          "output_type": "stream",
          "text": [
            "calories    380\n",
            "duration     40\n",
            "Name: day2, dtype: int64\n"
          ],
          "name": "stdout"
        }
      ]
    },
    {
      "cell_type": "markdown",
      "metadata": {
        "id": "zHxTKj26mKrQ"
      },
      "source": [
        "##**Cargar archivos en un DataFrame**\n",
        "\n",
        "\n",
        "Si sus conjuntos de datos están almacenados en un archivo, Pandas puede cargarlos en un DataFrame. A continuación, mostraremos los ejemplos básicos de carga de datos y los archivos genéricos para ello.\n",
        "\n",
        "###**Pandas - Leer CSV**\n",
        "\n",
        "Una forma sencilla de almacenar grandes conjuntos de datos es utilizar archivos CSV (archivos separados por comas). Los archivos CSV contienen texto plano y es un formato bien conocido que puede ser leído por muchos programas, incluido Pandas.\n",
        "\n",
        "En nuestros ejemplos usaremos un archivo CSV llamado `'california_housing_test.csv'`\n",
        "\n",
        "`'california_housing_test.csv'` se encuentra por defecto en la ruta '/content/sample_data/california_housing_test.csv'\n",
        "\n",
        "```python\n",
        "df = pd.read_csv('/content/sample_data/california_housing_test.csv')\n",
        "print(df.to_string()) \n",
        "```\n",
        "De forma predeterminada, cuando imprime un DataFrame, solo obtendrá las primeras 5 filas y las últimas 5 filas.\n",
        "\n",
        "Nota: Usamos la función `to_string()` para imprimir todo el conjunto de datos.\n",
        "\n",
        "---\n",
        "\n",
        "<p><img alt=\"Pandas\" height=\"150px\" src=\"https://upload.wikimedia.org/wikipedia/commons/thumb/3/38/CsvDelimited001.svg/800px-CsvDelimited001.svg.png\" align=\"left\" hspace=\"10px\" vspace=\"0px\"></p></div>\n",
        "\n",
        "\n",
        "Los archivos CSV (del inglés comma-separated values) son un tipo de documento en formato abierto sencillo para representar datos en forma de tabla, en las que las columnas se separan por comas (o punto y coma en donde la coma es el separador decimal como en Chile, Perú, Argentina, España, Brasil, entre otros) y las filas por saltos de línea.\n",
        "El formato CSV es muy sencillo y no indica un juego de caracteres concreto, ni cómo van situados los bytes, ni el formato para el salto de línea. Estos puntos deben indicarse muchas veces al abrir el archivo, por ejemplo, con una hoja de cálculo.\n",
        "\n",
        "---\n",
        "\n",
        "###**Pandas - Leer JSON**\n",
        "\n",
        "Los grandes conjuntos de datos a menudo se almacenan o extraen como JSON. JSON es texto sin formato, pero tiene el formato de un objeto y es muy conocido en el mundo de la programación, incluido Pandas.\n",
        "\n",
        "En nuestros ejemplos usaremos un archivo JSON llamado `'anscombe.json'`\n",
        "\n",
        "`'anscombe.json'` se encuentra por defecto en la ruta '/content/sample_data/anscombe.json'\n",
        "\n",
        "```python\n",
        "df = pd.read_json('/content/sample_data/anscombe.json')\n",
        "print(df.to_string()) \n",
        "```\n",
        "De forma predeterminada, cuando imprime un DataFrame, solo obtendrá las primeras 5 filas y las últimas 5 filas.\n",
        "\n",
        "Nota: Usamos la función `head()` para imprimir los primeros cinco datos.\n",
        "Nota: Usamos la función `tail()` para imprimir los últimos cinco datos incluyendo los encabezados.\n",
        "\n",
        "---\n",
        "\n",
        "<p><img alt=\"Pandas\" height=\"180px\" src=\"https://upload.wikimedia.org/wikipedia/commons/thumb/c/c9/JSON_vector_logo.svg/1200px-JSON_vector_logo.svg.png\" align=\"left\" hspace=\"10px\" vspace=\"0px\"></p></div>\n",
        "\n",
        "\n",
        "JSON (acrónimo de JavaScript Object Notation, «notación de objeto de JavaScript») es un formato de texto sencillo para el intercambio de datos. Se trata de un subconjunto de la notación literal de objetos de JavaScript, aunque, debido a su amplia adopción como alternativa a XML, se considera (año 2019) un formato independiente del lenguaje. Una de las supuestas ventajas de JSON sobre XML como formato de intercambio de datos es que resulta mucho más sencillo escribir un analizador sintáctico (parser) para él. En JavaScript, un texto JSON se puede analizar fácilmente usando la función eval(), algo que (debido a la ubicuidad de JavaScript en casi cualquier navegador web) ha sido fundamental para que haya sido aceptado por parte de la comunidad de desarrolladores AJAX.\n",
        "\n",
        "---\n",
        "###**Información sobre los datos**\n",
        "\n",
        "El objeto DataFrames tiene un método llamado `info()`, que le brinda más información sobre el conjunto de datos.\n",
        "```python\n",
        "df = pd.read_json('/content/sample_data/anscombe.json')\n",
        "print(df.info()) \n",
        "```\n",
        "```python\n",
        "<class 'pandas.core.frame.DataFrame'>\n",
        "RangeIndex: 44 entries, 0 to 43\n",
        "Data columns (total 3 columns):\n",
        " #   Column  Non-Null Count  Dtype  \n",
        "---  ------  --------------  -----  \n",
        " 0   Series  44 non-null     object \n",
        " 1   X       44 non-null     int64  \n",
        " 2   Y       44 non-null     float64\n",
        "dtypes: float64(1), int64(1), object(1)\n",
        "memory usage: 1.2+ KB\n",
        "None\n",
        "```\n",
        "\n"
      ]
    },
    {
      "cell_type": "code",
      "metadata": {
        "colab": {
          "base_uri": "https://localhost:8080/"
        },
        "id": "EaKe9hU8qe1K",
        "outputId": "927f931e-3725-4ee5-9a1c-ae56668a3be9"
      },
      "source": [
        "df = pd.read_csv('/content/sample_data/california_housing_test.csv')\n",
        "print(df) "
      ],
      "execution_count": null,
      "outputs": [
        {
          "output_type": "stream",
          "text": [
            "      longitude  latitude  ...  median_income  median_house_value\n",
            "0       -122.05     37.37  ...         6.6085            344700.0\n",
            "1       -118.30     34.26  ...         3.5990            176500.0\n",
            "2       -117.81     33.78  ...         5.7934            270500.0\n",
            "3       -118.36     33.82  ...         6.1359            330000.0\n",
            "4       -119.67     36.33  ...         2.9375             81700.0\n",
            "...         ...       ...  ...            ...                 ...\n",
            "2995    -119.86     34.42  ...         1.1790            225000.0\n",
            "2996    -118.14     34.06  ...         3.3906            237200.0\n",
            "2997    -119.70     36.30  ...         2.2895             62000.0\n",
            "2998    -117.12     34.10  ...         3.2708            162500.0\n",
            "2999    -119.63     34.42  ...         8.5608            500001.0\n",
            "\n",
            "[3000 rows x 9 columns]\n"
          ],
          "name": "stdout"
        }
      ]
    },
    {
      "cell_type": "code",
      "metadata": {
        "id": "tnlyUuO0rPHc"
      },
      "source": [
        "#df = pd.read_csv('/content/sample_data/california_housing_test.csv')\n",
        "#print(df.to_string()) "
      ],
      "execution_count": null,
      "outputs": []
    },
    {
      "cell_type": "code",
      "metadata": {
        "colab": {
          "base_uri": "https://localhost:8080/"
        },
        "id": "fATeCuMqtnSc",
        "outputId": "e051442f-7eb0-4bf0-a352-342a6ea79f80"
      },
      "source": [
        "df = pd.read_json('/content/sample_data/anscombe.json')\n",
        "print(df.head()) "
      ],
      "execution_count": null,
      "outputs": [
        {
          "output_type": "stream",
          "text": [
            "  Series   X     Y\n",
            "0      I  10  8.04\n",
            "1      I   8  6.95\n",
            "2      I  13  7.58\n",
            "3      I   9  8.81\n",
            "4      I  11  8.33\n"
          ],
          "name": "stdout"
        }
      ]
    },
    {
      "cell_type": "code",
      "metadata": {
        "colab": {
          "base_uri": "https://localhost:8080/"
        },
        "id": "V6WQzrlStihq",
        "outputId": "b234da8c-32ca-497a-f78e-e08f871a781b"
      },
      "source": [
        "print(df.tail()) "
      ],
      "execution_count": null,
      "outputs": [
        {
          "output_type": "stream",
          "text": [
            "   Series   X      Y\n",
            "39     IV   8   5.25\n",
            "40     IV  19  12.50\n",
            "41     IV   8   5.56\n",
            "42     IV   8   7.91\n",
            "43     IV   8   6.89\n"
          ],
          "name": "stdout"
        }
      ]
    },
    {
      "cell_type": "code",
      "metadata": {
        "colab": {
          "base_uri": "https://localhost:8080/"
        },
        "id": "MIZn6aNCzbhv",
        "outputId": "daa54b0f-193f-4efc-d37f-8296e87f0eb6"
      },
      "source": [
        "print(df.info()) "
      ],
      "execution_count": null,
      "outputs": [
        {
          "output_type": "stream",
          "text": [
            "<class 'pandas.core.frame.DataFrame'>\n",
            "RangeIndex: 44 entries, 0 to 43\n",
            "Data columns (total 3 columns):\n",
            " #   Column  Non-Null Count  Dtype  \n",
            "---  ------  --------------  -----  \n",
            " 0   Series  44 non-null     object \n",
            " 1   X       44 non-null     int64  \n",
            " 2   Y       44 non-null     float64\n",
            "dtypes: float64(1), int64(1), object(1)\n",
            "memory usage: 1.2+ KB\n",
            "None\n"
          ],
          "name": "stdout"
        }
      ]
    },
    {
      "cell_type": "markdown",
      "metadata": {
        "id": "LPOr4JDc8WkQ"
      },
      "source": [
        "<p><a name=\"s4\"></a></p>\n",
        "\n",
        "# **04. Matplotlib**\n",
        "[[Contenidos]](#contents)\n",
        "\n",
        "<p><img alt=\"matplotlib\" height=\"200px\" src=\"https://matplotlib.org/_static/logo2_compressed.svg\" align=\"left\" hspace=\"10px\" vspace=\"0px\"></p></div>"
      ]
    },
    {
      "cell_type": "markdown",
      "metadata": {
        "id": "elhxRXZx3trq"
      },
      "source": [
        "##**¿Qué es [Matplotlib](https://matplotlib.org/)?**\n",
        "\n",
        "Matplotlib es una biblioteca de trazado para el lenguaje de programación Python y su extensión matemática numérica NumPy. Proporciona una API orientada a objetos para incrustar gráficos en aplicaciones que utilizan kits de herramientas de GUI de uso general como Tkinter, wxPython, Qt o GTK. También hay una interfaz de procedimiento \"pylab\" basada en una máquina de estado (como OpenGL), diseñada para parecerse mucho a la de MATLAB, aunque se desaconseja su uso. SciPy hace uso de Matplotlib. Matplotlib fue escrito originalmente por John D. Hunter. Desde entonces tiene una comunidad de desarrollo activa y se distribuye bajo una licencia estilo BSD. Michael Droettboom fue nominado como desarrollador principal de matplotlib poco antes de la muerte de John Hunter en agosto de 2012 y se le unió Thomas Caswell.\n",
        "\n",
        "![](https://matplotlib.org/stable/_images/sphx_glr_anatomy_001.png)"
      ]
    },
    {
      "cell_type": "markdown",
      "metadata": {
        "id": "QB0C8BrH3trs"
      },
      "source": [
        "##**Instalación de Matplotlib**\n",
        "\n",
        "Instalar Matplotlib en Google Colab no es necesario, dicho módulo se encuentra instalado, en caso de necesitar la instalación relacionamos un `pip install` con la llamada al módulo Matplotlib.\n",
        "\n",
        "\n",
        "```python\n",
        "!pip install matplotlib\n",
        "```\n",
        "Importar el módulo Matplotlib se realiza con la palabra clave `import` y nótese el alias asignado al módulo es `pd` el cual es de uso generalizado en la comunidad de Matplotlib.\n",
        "\n",
        "```python\n",
        "import matplotlib as pd\n",
        "```\n",
        "\n",
        "Para verficar la versión de Matplotlib se puede realizar con `!pip list` o con la llamada especifica usando `!pip show matplotlib` o `!pip show --verbose matplotlib`\n",
        "\n",
        "\n"
      ]
    },
    {
      "cell_type": "code",
      "metadata": {
        "id": "jZ0cmMJb3trt"
      },
      "source": [
        "import matplotlib as pd"
      ],
      "execution_count": null,
      "outputs": []
    },
    {
      "cell_type": "code",
      "metadata": {
        "colab": {
          "base_uri": "https://localhost:8080/"
        },
        "id": "Em0QwsO83tru",
        "outputId": "5f0646c9-5896-4e47-8a42-a159b95cc574"
      },
      "source": [
        "!pip show matplotlib"
      ],
      "execution_count": null,
      "outputs": [
        {
          "output_type": "stream",
          "text": [
            "Name: matplotlib\n",
            "Version: 3.2.2\n",
            "Summary: Python plotting package\n",
            "Home-page: https://matplotlib.org\n",
            "Author: John D. Hunter, Michael Droettboom\n",
            "Author-email: matplotlib-users@python.org\n",
            "License: PSF\n",
            "Location: /usr/local/lib/python3.7/dist-packages\n",
            "Requires: pyparsing, cycler, numpy, kiwisolver, python-dateutil\n",
            "Required-by: yellowbrick, seaborn, scikit-image, pycocotools, plotnine, pandas-profiling, mlxtend, mizani, missingno, matplotlib-venn, keras-vis, imgaug, fbprophet, fastai, descartes, daft, arviz\n"
          ],
          "name": "stdout"
        }
      ]
    },
    {
      "cell_type": "code",
      "metadata": {
        "colab": {
          "base_uri": "https://localhost:8080/"
        },
        "id": "OH9CkcvX3trv",
        "outputId": "f246853c-b04f-4f8a-9113-1384ed97799a"
      },
      "source": [
        "!pip show --verbose matplotlib"
      ],
      "execution_count": null,
      "outputs": [
        {
          "output_type": "stream",
          "text": [
            "Name: matplotlib\n",
            "Version: 3.2.2\n",
            "Summary: Python plotting package\n",
            "Home-page: https://matplotlib.org\n",
            "Author: John D. Hunter, Michael Droettboom\n",
            "Author-email: matplotlib-users@python.org\n",
            "License: PSF\n",
            "Location: /usr/local/lib/python3.7/dist-packages\n",
            "Requires: cycler, numpy, pyparsing, kiwisolver, python-dateutil\n",
            "Required-by: yellowbrick, seaborn, scikit-image, pycocotools, plotnine, pandas-profiling, mlxtend, mizani, missingno, matplotlib-venn, keras-vis, imgaug, fbprophet, fastai, descartes, daft, arviz\n",
            "Metadata-Version: 2.1\n",
            "Installer: pip\n",
            "Classifiers:\n",
            "  Development Status :: 5 - Production/Stable\n",
            "  Framework :: Matplotlib\n",
            "  Intended Audience :: Science/Research\n",
            "  Intended Audience :: Education\n",
            "  License :: OSI Approved :: Python Software Foundation License\n",
            "  Programming Language :: Python\n",
            "  Programming Language :: Python :: 3\n",
            "  Programming Language :: Python :: 3.6\n",
            "  Programming Language :: Python :: 3.7\n",
            "  Programming Language :: Python :: 3.8\n",
            "  Topic :: Scientific/Engineering :: Visualization\n",
            "Entry-points:\n"
          ],
          "name": "stdout"
        }
      ]
    },
    {
      "cell_type": "markdown",
      "metadata": {
        "id": "xvZpQhkR6RDY"
      },
      "source": [
        "##**Matplotlib - Pyplot**\n",
        "\n",
        "La mayoría de las utilidades de Matplotlib se encuentran en el submódulo pyplot y, por lo general, se importan con el alias plt:\n",
        "\n",
        "```python\n",
        "import matplotlib.pyplot as plt\n",
        "```\n",
        "\n",
        "Ahora se puede hacer referencia al paquete Pyplot como `plt`.\n",
        "\n",
        "Ejemplo: Dibuje una línea en una gráfica desde la posición (0,0) hasta la posición (6,250):\n",
        "\n",
        "```python\n",
        "import matplotlib.pyplot as plt\n",
        "import numpy as np\n",
        "xpoints = np.array([0, 6])\n",
        "ypoints = np.array([0, 250])\n",
        "plt.plot(xpoints, ypoints)\n",
        "plt.show()\n",
        "```\n",
        "\n",
        "![](https://raw.githubusercontent.com/juliancastillo-iudigital/FundamentosProgramacionPosgrados2021-1/main/matplotlib1.png)\n",
        "\n",
        "###**Graficar puntos $x$ e $y$**\n",
        "\n",
        "La función `plot()` se usa para dibujar puntos (marcadores) en una gráfica. \n",
        "De forma predeterminada, la función `plot()` dibuja una línea de un punto a otro. La función toma parámetros para especificar puntos en el gráfico.\n",
        "\n",
        "*   El parámetro 1 es una matriz que contiene los puntos en el eje $x$.\n",
        "*   El parámetro 2 es una matriz que contiene los puntos en el eje $y$.\n",
        "\n",
        "Si necesitamos trazar una línea de `(1, 3)` a `(8, 10)`, tenemos que pasar dos matrices `[1, 8]` y `[3, 10]` a la función de trazado.\n",
        "\n",
        "Ejemplo\n",
        "Dibuje una línea en un diagrama desde la posición `(1, 3)` a la posición `(8, 10)`:\n",
        "\n",
        "```python\n",
        "xpoints = np.array([1, 8])\n",
        "ypoints = np.array([3, 10])\n",
        "plt.plot(xpoints, ypoints)\n",
        "plt.show()\n",
        "```\n",
        "![](https://raw.githubusercontent.com/juliancastillo-iudigital/FundamentosProgramacionPosgrados2021-1/main/matplotlib2.png)\n",
        "\n",
        "***x-axis es el eje horizontal.***\n",
        "\n",
        "***y-axis es el eje vertical.***\n",
        "\n",
        "###**Trazado sin línea**\n",
        "\n",
        "Para trazar solo los marcadores, podemos utilizar el atajo tipo texto `'o'` como argumento que simboliza a anillos en el contexto de Pyplot.\n",
        "\n",
        "Ejemplo\n",
        "Dibuje dos puntos en el diagrama, uno en la posición `(1, 3)` y otro en la posición `(8, 10)`:\n",
        "\n",
        "```python\n",
        "xpoints = np.array([1, 8])\n",
        "ypoints = np.array([3, 10])\n",
        "plt.plot(xpoints, ypoints, 'o')\n",
        "plt.show()\n",
        "```\n",
        "![](https://raw.githubusercontent.com/juliancastillo-iudigital/FundamentosProgramacionPosgrados2021-1/main/matplotlib3.png)\n",
        "\n",
        "###**Múltiples puntos**\n",
        "\n",
        "Se pueden trazar múltiples puntos siempre y cuando existan los mismos puntos en ambos ejes.\n",
        "\n",
        "Ejemplo\n",
        "Dibuje una línea en un diagrama desde la posición `(1, 3)` a `(2, 8)` luego a `(6, 1)` y finalmente a la posición `(8, 10)`:\n",
        "\n",
        "```python\n",
        "xpoints = np.array([1, 2, 6, 8])\n",
        "ypoints = np.array([3, 8, 1, 10])\n",
        "plt.plot(xpoints, ypoints)\n",
        "plt.show()\n",
        "```\n",
        "![](https://raw.githubusercontent.com/juliancastillo-iudigital/FundamentosProgramacionPosgrados2021-1/main/matplotlib4.png)"
      ]
    },
    {
      "cell_type": "code",
      "metadata": {
        "id": "Q2s315fw63Td"
      },
      "source": [
        "import matplotlib.pyplot as plt"
      ],
      "execution_count": null,
      "outputs": []
    },
    {
      "cell_type": "code",
      "metadata": {
        "colab": {
          "base_uri": "https://localhost:8080/",
          "height": 282
        },
        "id": "nuky2yjn6-Ta",
        "outputId": "7ebac2ae-afe0-4d15-a413-1a46c82b03c6"
      },
      "source": [
        "import numpy as np\n",
        "xpoints = np.array([0, 6])\n",
        "ypoints = np.array([0, 250])\n",
        "plt.plot(xpoints, ypoints)\n",
        "plt.show()\n",
        "print(xpoints, ypoints)"
      ],
      "execution_count": null,
      "outputs": [
        {
          "output_type": "display_data",
          "data": {
            "image/png": "[encoded data removed]",
            "text/plain": [
              "<Figure size 432x288 with 1 Axes>"
            ]
          },
          "metadata": {
            "tags": [],
            "needs_background": "light"
          }
        },
        {
          "output_type": "stream",
          "text": [
            "[0 6] [  0 250]\n"
          ],
          "name": "stdout"
        }
      ]
    },
    {
      "cell_type": "code",
      "metadata": {
        "colab": {
          "base_uri": "https://localhost:8080/",
          "height": 265
        },
        "id": "VIMiBncaFrXL",
        "outputId": "59698a19-21fe-4762-9e5a-84df5c39ee7b"
      },
      "source": [
        "xpoints = np.array([1, 8])\n",
        "ypoints = np.array([3, 10])\n",
        "plt.plot(xpoints, ypoints)\n",
        "plt.show()"
      ],
      "execution_count": null,
      "outputs": [
        {
          "output_type": "display_data",
          "data": {
            "image/png": "[encoded data removed]",
            "text/plain": [
              "<Figure size 432x288 with 1 Axes>"
            ]
          },
          "metadata": {
            "tags": [],
            "needs_background": "light"
          }
        }
      ]
    },
    {
      "cell_type": "code",
      "metadata": {
        "colab": {
          "base_uri": "https://localhost:8080/",
          "height": 265
        },
        "id": "5dKzzpnjHkQ8",
        "outputId": "b93277f8-3768-4475-e987-8e8b5058faf6"
      },
      "source": [
        "xpoints = np.array([1, 8])\n",
        "ypoints = np.array([3, 10])\n",
        "plt.plot(xpoints, ypoints, 'o')\n",
        "plt.show()"
      ],
      "execution_count": null,
      "outputs": [
        {
          "output_type": "display_data",
          "data": {
            "image/png": "[encoded data removed]",
            "text/plain": [
              "<Figure size 432x288 with 1 Axes>"
            ]
          },
          "metadata": {
            "tags": [],
            "needs_background": "light"
          }
        }
      ]
    },
    {
      "cell_type": "code",
      "metadata": {
        "colab": {
          "base_uri": "https://localhost:8080/",
          "height": 265
        },
        "id": "oBSMXmo1I-n1",
        "outputId": "7bbc0041-78a4-40bd-937f-9729cf4f80aa"
      },
      "source": [
        "xpoints = np.array([1, 2, 6, 8])\n",
        "ypoints = np.array([3, 8, 1, 10])\n",
        "plt.plot(xpoints, ypoints)\n",
        "plt.show()"
      ],
      "execution_count": null,
      "outputs": [
        {
          "output_type": "display_data",
          "data": {
            "image/png": "[encoded data removed]",
            "text/plain": [
              "<Figure size 432x288 with 1 Axes>"
            ]
          },
          "metadata": {
            "tags": [],
            "needs_background": "light"
          }
        }
      ]
    },
    {
      "cell_type": "markdown",
      "metadata": {
        "id": "Lm8G-IGAJSFz"
      },
      "source": [
        "###**Puntos $x$ predeterminados**\n",
        "\n",
        "Si no especificamos los puntos en el eje $x$, obtendrán los valores predeterminados 0, 1, 2, 3, (etc., dependiendo de la longitud de $y$).\n",
        "\n",
        "Entonces, si tomamos el mismo ejemplo anterior y omitimos los puntos $x$, el diagrama se verá así:\n",
        "\n",
        "Ejemplo: Trazado sin puntos $x$:\n",
        "\n",
        "**Los x-points en el ejemplo son [0, 1, 2, 3, 4, 5].**"
      ]
    },
    {
      "cell_type": "code",
      "metadata": {
        "colab": {
          "base_uri": "https://localhost:8080/",
          "height": 265
        },
        "id": "oeI4NXFvJm6i",
        "outputId": "0d5c7ccc-a9e7-48a9-c5a3-f7b1bd35c524"
      },
      "source": [
        "ypoints = np.array([3, 8, 1, 10, 5, 7])\n",
        "plt.plot(ypoints)\n",
        "plt.show()"
      ],
      "execution_count": null,
      "outputs": [
        {
          "output_type": "display_data",
          "data": {
            "image/png": "[encoded data removed]",
            "text/plain": [
              "<Figure size 432x288 with 1 Axes>"
            ]
          },
          "metadata": {
            "tags": [],
            "needs_background": "light"
          }
        }
      ]
    },
    {
      "cell_type": "markdown",
      "metadata": {
        "id": "mMWt8lzKKY5D"
      },
      "source": [
        "###**Matplotlib Markers - Marcadores**\n",
        "\n",
        "###**Markers - Marcadores**\n",
        "\n",
        "Puede utilizar el argumento tipo `keyword` para enfatizar cada punto de un gráfico con un marcador especifico.\n",
        "\n",
        "Ejemplo: Marque cada punto con un círculo y una estrella:\n"
      ]
    },
    {
      "cell_type": "code",
      "metadata": {
        "colab": {
          "base_uri": "https://localhost:8080/",
          "height": 513
        },
        "id": "MPAEC5TxLITW",
        "outputId": "f737a92e-7f4d-4db4-b614-9d4b5297039f"
      },
      "source": [
        "ypoints = np.array([3, 8, 1, 10])\n",
        "plt.plot(ypoints, marker = 'o')\n",
        "plt.show()\n",
        "plt.plot(ypoints, marker = '*')\n",
        "plt.show()"
      ],
      "execution_count": null,
      "outputs": [
        {
          "output_type": "display_data",
          "data": {
            "image/png": "[encoded data removed]",
            "text/plain": [
              "<Figure size 432x288 with 1 Axes>"
            ]
          },
          "metadata": {
            "tags": [],
            "needs_background": "light"
          }
        },
        {
          "output_type": "display_data",
          "data": {
            "image/png": "[encoded data removed]",
            "text/plain": [
              "<Figure size 432x288 with 1 Axes>"
            ]
          },
          "metadata": {
            "tags": [],
            "needs_background": "light"
          }
        }
      ]
    },
    {
      "cell_type": "markdown",
      "metadata": {
        "id": "x15Eu7SlLZ4C"
      },
      "source": [
        "###**Markers - Referencias**\n",
        "\n",
        "Se pueden utilizar los siguientes marcadores.\n",
        "\n",
        "Marcador|Descripción\n",
        "---|---\n",
        "<center>`'*'`</center>|<center>Estrella</center>\n",
        "<center>`'.'`</center>|<center>Punto</center>\n",
        "<center>`','`</center>|<center>Pixel</center>\n",
        "<center>`'x'`</center>|<center>x</center>\n",
        "<center>`'X'`</center>|<center>X (Negrita)</center>\n",
        "<center>`'+'`</center>|<center>+</center>\n",
        "<center>`'P'`</center>|<center>+ (Negrita)</center>\n",
        "<center>`'s'`</center>|<center>Cuadro</center>\n",
        "<center>`'D'`</center>|<center>Diamante</center>\n",
        "<center>`'d'`</center>|<center>Diamante delgado</center>\n",
        "<center>`'p'`</center>|<center>Pentágono</center>\n",
        "<center>`'H'`</center>|<center>Hexágono</center>\n",
        "<center>`'h'`</center>|<center>Hexágono</center>\n",
        "<center>`'v'`</center>|<center>Triangulo Abajo</center>\n",
        "<center>`'^'`</center>|<center>Triangulo Arriba</center>\n",
        "<center>`'<'`</center>|<center>Triangulo Izquierda</center>\n",
        "<center>`'>'`</center>|<center>Triangulo Derecha</center>\n",
        "<center>`'1'`</center>|<center>Tri Abajo</center>\n",
        "<center>`'2'`</center>|<center>Tri Arriba</center>\n",
        "<center>`'3'`</center>|<center>Tri Izquierda</center>\n",
        "<center>`'4'`</center>|<center>Tri Derecha</center>\n",
        "<center>\\|</center>|<center>Vline(Pipe)</center>\n",
        "<center>`'_'`</center>|<center>Hline(Underscore)</center>\n"
      ]
    },
    {
      "cell_type": "markdown",
      "metadata": {
        "id": "SQuhaTEaQJhH"
      },
      "source": [
        "###**Format Strings `fmt`**\n",
        "\n",
        "También se puede usar el atajo `shortcut string notation` para especificar el marcador, este parámetro es también llamado `fmt` y su sintaxis se detalla de la siguiente manera:\n",
        "\n",
        "`marker|line|color`\n",
        "\n",
        "El marcador puede ser cualquiera de los detallados previamente y la línea puede ser cualquiera de las detalladas a continuación:\n",
        "\n",
        "Línea Sintaxis|Descripción\n",
        "---|---\n",
        "`'-'`|Línea solida\n",
        "`':'`|Línea de puntos\n",
        "`'--'`|Línea de guiones\n",
        "`'-.'`|Línea de puntos y guiones\n",
        "\n",
        "Nota: Si omite el valor de la línea en el parámetro `fmt`, no se trazará ninguna línea."
      ]
    },
    {
      "cell_type": "code",
      "metadata": {
        "colab": {
          "base_uri": "https://localhost:8080/",
          "height": 513
        },
        "id": "4kIwtu32RuJp",
        "outputId": "2b23ec89-8737-42c7-8615-a6504422dcde"
      },
      "source": [
        "ypoints = np.array([3, 8, 1, 10])\n",
        "plt.plot(ypoints, 'o:r')\n",
        "plt.show()"
      ],
      "execution_count": null,
      "outputs": [
        {
          "output_type": "display_data",
          "data": {
            "image/png": "[encoded data removed]",
            "text/plain": [
              "<Figure size 432x288 with 1 Axes>"
            ]
          },
          "metadata": {
            "tags": [],
            "needs_background": "light"
          }
        },
        {
          "output_type": "display_data",
          "data": {
            "image/png": "[encoded data removed]",
            "text/plain": [
              "<Figure size 432x288 with 1 Axes>"
            ]
          },
          "metadata": {
            "tags": [],
            "needs_background": "light"
          }
        }
      ]
    },
    {
      "cell_type": "markdown",
      "metadata": {
        "id": "UIEzVaj8S_co"
      },
      "source": [
        "###**Colores**\n",
        "\n",
        "El color puede ser uno de los siguientes:\n",
        "\n",
        "Color Syntaxis|Descripción\n",
        "---|---\n",
        "`'r'`|Rojo\n",
        "`'g'`|Verde\n",
        "`'b'`|Azul\n",
        "`'c'`|Cyan\n",
        "`'m'`|Magenta\n",
        "`'y'`|Amarillo\n",
        "`'k'`|Negro\n",
        "`'w'`|Blanco"
      ]
    },
    {
      "cell_type": "code",
      "metadata": {
        "colab": {
          "base_uri": "https://localhost:8080/",
          "height": 265
        },
        "id": "wFpJkyP0T7DQ",
        "outputId": "99051bf0-42f5-4b24-e966-ab4ff3e20020"
      },
      "source": [
        "plt.plot(ypoints, 'o:g')\n",
        "plt.show()"
      ],
      "execution_count": null,
      "outputs": [
        {
          "output_type": "display_data",
          "data": {
            "image/png": "[encoded data removed]",
            "text/plain": [
              "<Figure size 432x288 with 1 Axes>"
            ]
          },
          "metadata": {
            "tags": [],
            "needs_background": "light"
          }
        }
      ]
    },
    {
      "cell_type": "markdown",
      "metadata": {
        "id": "-BtxofetT-Ua"
      },
      "source": [
        "###**Etiquetas**\n",
        "\n",
        "Con Pyplot, se pueden usar los parámetros `xlabel()` y `ylabel()` para detallar el texto de `x-axis y-axis`"
      ]
    },
    {
      "cell_type": "code",
      "metadata": {
        "colab": {
          "base_uri": "https://localhost:8080/",
          "height": 279
        },
        "id": "shnEoxMtUefB",
        "outputId": "32fad2eb-246a-46cc-f123-71396e6e75bc"
      },
      "source": [
        "x = np.array([80, 85, 90, 95, 100, 105, 110, 115, 120, 125])\n",
        "y = np.array([240, 250, 260, 270, 280, 290, 300, 310, 320, 330])\n",
        "plt.plot(x, y)\n",
        "plt.xlabel(\"Pulso Promedio\")\n",
        "plt.ylabel(\"Quema de calorías\")\n",
        "plt.show()"
      ],
      "execution_count": null,
      "outputs": [
        {
          "output_type": "display_data",
          "data": {
            "image/png": "[encoded data removed]",
            "text/plain": [
              "<Figure size 432x288 with 1 Axes>"
            ]
          },
          "metadata": {
            "tags": [],
            "needs_background": "light"
          }
        }
      ]
    },
    {
      "cell_type": "markdown",
      "metadata": {
        "id": "_8Ln3HyGUpTw"
      },
      "source": [
        "###**Crear un título**\n",
        "\n",
        "Con Pyplot, puede usar la función `title()` para establecer el título de un gráfico."
      ]
    },
    {
      "cell_type": "code",
      "metadata": {
        "colab": {
          "base_uri": "https://localhost:8080/",
          "height": 295
        },
        "id": "tmPgf6-1U2Cr",
        "outputId": "93ad9d7e-6cf2-47ba-8102-f1f84f447932"
      },
      "source": [
        "x = np.array([80, 85, 90, 95, 100, 105, 110, 115, 120, 125])\n",
        "y = np.array([240, 250, 260, 270, 280, 290, 300, 310, 320, 330])\n",
        "plt.plot(x, y)\n",
        "plt.title(\"Datos del reloj deportivo\")\n",
        "plt.xlabel(\"Pulso Promedio\")\n",
        "plt.ylabel(\"Quema de calorías\")\n",
        "plt.show()"
      ],
      "execution_count": null,
      "outputs": [
        {
          "output_type": "display_data",
          "data": {
            "image/png": "[encoded data removed]",
            "text/plain": [
              "<Figure size 432x288 with 1 Axes>"
            ]
          },
          "metadata": {
            "tags": [],
            "needs_background": "light"
          }
        }
      ]
    },
    {
      "cell_type": "markdown",
      "metadata": {
        "id": "En4zBbCQVEix"
      },
      "source": [
        "###**Agregar líneas de cuadrícula a una gráfica**\n",
        "\n",
        "Con Pyplot, puede usar la función `grid()` para agregar líneas de cuadrícula a una gráfica."
      ]
    },
    {
      "cell_type": "code",
      "metadata": {
        "colab": {
          "base_uri": "https://localhost:8080/",
          "height": 295
        },
        "id": "rdhzHRQZVTS8",
        "outputId": "74644c70-72bd-45c0-cbea-0021ee612135"
      },
      "source": [
        "x = np.array([80, 85, 90, 95, 100, 105, 110, 115, 120, 125])\n",
        "y = np.array([240, 250, 260, 270, 280, 290, 300, 310, 320, 330])\n",
        "plt.title(\"Datos del reloj deportivo\")\n",
        "plt.xlabel(\"Pulso Promedio\")\n",
        "plt.ylabel(\"Quema de calorías\")\n",
        "plt.plot(x, y)\n",
        "plt.grid()\n",
        "plt.show()"
      ],
      "execution_count": null,
      "outputs": [
        {
          "output_type": "display_data",
          "data": {
            "image/png": "[encoded data removed]",
            "text/plain": [
              "<Figure size 432x288 with 1 Axes>"
            ]
          },
          "metadata": {
            "tags": [],
            "needs_background": "light"
          }
        }
      ]
    },
    {
      "cell_type": "markdown",
      "metadata": {
        "id": "e74PQL59VcSX"
      },
      "source": [
        "###**Especificar las líneas de cuadrícula a mostrar**\n",
        "\n",
        "Se puede usar el parámetro `axis` en la función `grid()` para especificar que líneas de cuadricula mostrar.\n",
        "\n",
        "Valores permitidos: `'x'`, `'y'` y `'both'`, si no se especifica el valor por defecto es `'both'`"
      ]
    },
    {
      "cell_type": "code",
      "metadata": {
        "colab": {
          "base_uri": "https://localhost:8080/",
          "height": 295
        },
        "id": "vfdIi-5jYFSF",
        "outputId": "b0dbc420-9925-4710-cf30-0501c8bcf80b"
      },
      "source": [
        "x = np.array([80, 85, 90, 95, 100, 105, 110, 115, 120, 125])\n",
        "y = np.array([240, 250, 260, 270, 280, 290, 300, 310, 320, 330])\n",
        "plt.title(\"Datos del reloj deportivo\")\n",
        "plt.xlabel(\"Pulso Promedio\")\n",
        "plt.ylabel(\"Quema de calorías\")\n",
        "plt.plot(x, y)\n",
        "plt.grid(axis = 'x')\n",
        "plt.show()"
      ],
      "execution_count": null,
      "outputs": [
        {
          "output_type": "display_data",
          "data": {
            "image/png": "[encoded data removed]",
            "text/plain": [
              "<Figure size 432x288 with 1 Axes>"
            ]
          },
          "metadata": {
            "tags": [],
            "needs_background": "light"
          }
        }
      ]
    },
    {
      "cell_type": "markdown",
      "metadata": {
        "id": "EWXx_UOFbFkZ"
      },
      "source": [
        "###**Multiples Gráficas**\n",
        "\n",
        "Con la función `subplots()` se crea una figura y una cuadrícula de subfiguras.\n",
        "\n",
        "El siguiente ejemplo gráfica dos figuras.\n"
      ]
    },
    {
      "cell_type": "code",
      "metadata": {
        "colab": {
          "base_uri": "https://localhost:8080/",
          "height": 265
        },
        "id": "yuRJUsTnbFCs",
        "outputId": "33cbdbe2-eb0d-4cb6-c4d3-eef6ea29eeff"
      },
      "source": [
        "#plot 1:\n",
        "x = np.array([0, 1, 2, 3])\n",
        "y = np.array([3, 8, 1, 10])\n",
        "plt.subplot(1, 2, 1)\n",
        "plt.plot(x,y)\n",
        "\n",
        "#plot 2:\n",
        "x = np.array([0, 1, 2, 3])\n",
        "y = np.array([10, 20, 30, 40])\n",
        "plt.subplot(1, 2, 2)\n",
        "plt.plot(x,y)\n",
        "\n",
        "plt.show()"
      ],
      "execution_count": null,
      "outputs": [
        {
          "output_type": "display_data",
          "data": {
            "image/png": "[encoded data removed]",
            "text/plain": [
              "<Figure size 432x288 with 2 Axes>"
            ]
          },
          "metadata": {
            "tags": [],
            "needs_background": "light"
          }
        }
      ]
    },
    {
      "cell_type": "markdown",
      "metadata": {
        "id": "OtaSov-YeTNd"
      },
      "source": [
        "###**La Función `subplots()`**\n",
        "\n",
        "La función `subplots()` toma tres argumentos que describen el diseño de la figura. El diseño está organizado en filas y columnas, que están representadas por el primer y segundo argumento. El tercer argumento representa el índice de la gráfica actual.\n",
        "\n",
        "```python\n",
        "plt.subplot(1, 2, 1)\n",
        "#la figura tiene 1 fila, 2 columnas y estamos en el primer gráfico\n",
        "plt.subplot(1, 2, 2)\n",
        "#la figura tiene 1 fila, 2 columnas y estamos en el segundo gráfico\n",
        "```\n",
        "A continuación detallaremos un ejemplo en donde un subplot tenga dos filas y una columna.\n",
        "\n",
        "Puede dibujar tantas gráficas como desee en una figura, simplemente describa el número de filas, columnas y el índice de la gráfica.\n",
        "\n",
        "A continuación detallaremos 6 gráficas.\n",
        "\n",
        "Para agregar un título a las gráficas con la función `title()`.\n",
        "\n",
        "Para agregar un título para todas las gráficas se utiliza la función `suptitle()`\n"
      ]
    },
    {
      "cell_type": "code",
      "metadata": {
        "colab": {
          "base_uri": "https://localhost:8080/",
          "height": 265
        },
        "id": "pWyy4NEKfSz4",
        "outputId": "92708b07-d822-40b6-c6e5-4d927aab8efc"
      },
      "source": [
        "#plot 1:\n",
        "x = np.array([0, 1, 2, 3])\n",
        "y = np.array([3, 8, 1, 10])\n",
        "\n",
        "plt.subplot(2, 1, 1)\n",
        "plt.plot(x,y)\n",
        "\n",
        "#plot 2:\n",
        "x = np.array([0, 1, 2, 3])\n",
        "y = np.array([10, 20, 30, 40])\n",
        "\n",
        "plt.subplot(2, 1, 2)\n",
        "plt.plot(x,y)\n",
        "\n",
        "plt.show()"
      ],
      "execution_count": null,
      "outputs": [
        {
          "output_type": "display_data",
          "data": {
            "image/png": "[encoded data removed]",
            "text/plain": [
              "<Figure size 432x288 with 2 Axes>"
            ]
          },
          "metadata": {
            "tags": [],
            "needs_background": "light"
          }
        }
      ]
    },
    {
      "cell_type": "code",
      "metadata": {
        "colab": {
          "base_uri": "https://localhost:8080/",
          "height": 265
        },
        "id": "NKiveLgjfj9c",
        "outputId": "b9c8ab0a-3d8a-4a24-af7e-4354f583bcbe"
      },
      "source": [
        "x = np.array([0, 1, 2, 3])\n",
        "y = np.array([3, 8, 1, 10])\n",
        "\n",
        "plt.subplot(2, 3, 1)\n",
        "plt.plot(x,y)\n",
        "\n",
        "x = np.array([0, 1, 2, 3])\n",
        "y = np.array([10, 20, 30, 40])\n",
        "\n",
        "plt.subplot(2, 3, 2)\n",
        "plt.plot(x,y)\n",
        "\n",
        "x = np.array([0, 1, 2, 3])\n",
        "y = np.array([3, 8, 1, 10])\n",
        "\n",
        "plt.subplot(2, 3, 3)\n",
        "plt.plot(x,y)\n",
        "\n",
        "x = np.array([0, 1, 2, 3])\n",
        "y = np.array([10, 20, 30, 40])\n",
        "\n",
        "plt.subplot(2, 3, 4)\n",
        "plt.plot(x,y)\n",
        "\n",
        "x = np.array([0, 1, 2, 3])\n",
        "y = np.array([3, 8, 1, 10])\n",
        "\n",
        "plt.subplot(2, 3, 5)\n",
        "plt.plot(x,y)\n",
        "\n",
        "x = np.array([0, 1, 2, 3])\n",
        "y = np.array([10, 20, 30, 40])\n",
        "\n",
        "plt.subplot(2, 3, 6)\n",
        "plt.plot(x,y)\n",
        "\n",
        "plt.show()"
      ],
      "execution_count": null,
      "outputs": [
        {
          "output_type": "display_data",
          "data": {
            "image/png": "[encoded data removed]",
            "text/plain": [
              "<Figure size 432x288 with 6 Axes>"
            ]
          },
          "metadata": {
            "tags": [],
            "needs_background": "light"
          }
        }
      ]
    },
    {
      "cell_type": "code",
      "metadata": {
        "colab": {
          "base_uri": "https://localhost:8080/",
          "height": 281
        },
        "id": "WPnucX-mf2FT",
        "outputId": "72dbc2cc-214e-47b8-fe92-2bd1d5f79ed3"
      },
      "source": [
        "#plot 1:\n",
        "x = np.array([0, 1, 2, 3])\n",
        "y = np.array([3, 8, 1, 10])\n",
        "\n",
        "plt.subplot(1, 2, 1)\n",
        "plt.plot(x,y)\n",
        "plt.title(\"Ventas\")\n",
        "\n",
        "#plot 2:\n",
        "x = np.array([0, 1, 2, 3])\n",
        "y = np.array([10, 20, 30, 40])\n",
        "\n",
        "plt.subplot(1, 2, 2)\n",
        "plt.plot(x,y)\n",
        "plt.title(\"Ganancias\")\n",
        "\n",
        "plt.show()"
      ],
      "execution_count": null,
      "outputs": [
        {
          "output_type": "display_data",
          "data": {
            "image/png": "[encoded data removed]",
            "text/plain": [
              "<Figure size 432x288 with 2 Axes>"
            ]
          },
          "metadata": {
            "tags": [],
            "needs_background": "light"
          }
        }
      ]
    },
    {
      "cell_type": "code",
      "metadata": {
        "colab": {
          "base_uri": "https://localhost:8080/",
          "height": 294
        },
        "id": "_J37fOVogH8F",
        "outputId": "4b28062b-ea9f-402e-9845-da003d82d39a"
      },
      "source": [
        "#plot 1:\n",
        "x = np.array([0, 1, 2, 3])\n",
        "y = np.array([3, 8, 1, 10])\n",
        "\n",
        "plt.subplot(1, 2, 1)\n",
        "plt.plot(x,y)\n",
        "plt.title(\"Ventas\")\n",
        "\n",
        "#plot 2:\n",
        "x = np.array([0, 1, 2, 3])\n",
        "y = np.array([10, 20, 30, 40])\n",
        "\n",
        "plt.subplot(1, 2, 2)\n",
        "plt.plot(x,y)\n",
        "plt.title(\"Ganancias\")\n",
        "\n",
        "plt.suptitle(\"Tienda - Los Hermanos Brothers\")\n",
        "plt.show()"
      ],
      "execution_count": null,
      "outputs": [
        {
          "output_type": "display_data",
          "data": {
            "image/png": "[encoded data removed]",
            "text/plain": [
              "<Figure size 432x288 with 2 Axes>"
            ]
          },
          "metadata": {
            "tags": [],
            "needs_background": "light"
          }
        }
      ]
    },
    {
      "cell_type": "markdown",
      "metadata": {
        "id": "Ty4vJ5QcgjiT"
      },
      "source": [
        "###**Gráficas de dispersión**\n",
        "\n",
        "Con Pyplot, puede usar la función `scatter()` para dibujar un diagrama de dispersión. La función `scatter()` traza un punto para cada observación. Necesita dos matrices de la misma longitud, una para los valores del eje $x$ y otra para los valores del eje $y$.\n",
        "\n",
        "Los valores detallan la siguiente información:\n",
        "*   La observación detalla el resultado del paso de 13 automóviles por una cámara de fotomultas.\n",
        "*   El eje X muestra la antigüedad del automóvil.\n",
        "*   El eje Y muestra la velocidad del automóvil cuando pasa.\n",
        "\n",
        "¿Existe alguna relación entre las observaciones?\n",
        "\n",
        "Parece que cuanto más nuevo es el automóvil, más rápido conduce, pero eso podría ser una coincidencia, después de todo, solo registramos 13 automóviles.\n"
      ]
    },
    {
      "cell_type": "code",
      "metadata": {
        "colab": {
          "base_uri": "https://localhost:8080/",
          "height": 265
        },
        "id": "EiE1rqDehI9r",
        "outputId": "62a900bd-cf0a-4f05-e087-47d4929cd452"
      },
      "source": [
        "x = np.array([5,7,8,7,2,17,2,9,4,11,12,9,6])\n",
        "y = np.array([99,86,87,88,111,86,103,87,94,78,77,85,86])\n",
        "\n",
        "plt.scatter(x, y)\n",
        "plt.show()"
      ],
      "execution_count": null,
      "outputs": [
        {
          "output_type": "display_data",
          "data": {
            "image/png": "[encoded data removed]",
            "text/plain": [
              "<Figure size 432x288 with 1 Axes>"
            ]
          },
          "metadata": {
            "tags": [],
            "needs_background": "light"
          }
        }
      ]
    },
    {
      "cell_type": "markdown",
      "metadata": {
        "id": "LZJbpTAHhXsG"
      },
      "source": [
        "###**Comparación de gráficas**\n",
        "\n",
        "En el ejemplo anterior, parece haber una relación entre la velocidad y la edad, pero ¿qué pasa si también graficamos las observaciones de otro día? ¿El diagrama de dispersión nos dirá algo más?\n",
        "\n",
        "Al comparar los dos gráficos, creo que es seguro decir que ambos nos dan la misma conclusión: cuanto más nuevo es el automóvil, más rápido conduce.\n"
      ]
    },
    {
      "cell_type": "code",
      "metadata": {
        "colab": {
          "base_uri": "https://localhost:8080/",
          "height": 265
        },
        "id": "IqLAkaOth4J1",
        "outputId": "03aedf84-9c2e-477b-88ee-1fb32f8d9d4a"
      },
      "source": [
        "#día 1 - 13 carros\n",
        "x = np.array([5,7,8,7,2,17,2,9,4,11,12,9,6])\n",
        "y = np.array([99,86,87,88,111,86,103,87,94,78,77,85,86])\n",
        "plt.scatter(x, y)\n",
        "\n",
        "#día 2 - 15 carros\n",
        "x = np.array([2,2,8,1,15,8,12,9,7,3,11,4,7,14,12])\n",
        "y = np.array([100,105,84,105,90,99,90,95,94,100,79,112,91,80,85])\n",
        "plt.scatter(x, y)\n",
        "\n",
        "plt.show()"
      ],
      "execution_count": null,
      "outputs": [
        {
          "output_type": "display_data",
          "data": {
            "image/png": "[encoded data removed]",
            "text/plain": [
              "<Figure size 432x288 with 1 Axes>"
            ]
          },
          "metadata": {
            "tags": [],
            "needs_background": "light"
          }
        }
      ]
    },
    {
      "cell_type": "markdown",
      "metadata": {
        "id": "5Tvei0v0iIPP"
      },
      "source": [
        "###**Colores**\n",
        "\n",
        "Se puede establecer el color para cada gráfico de dispersión con el argumento `color` o `c`:"
      ]
    },
    {
      "cell_type": "code",
      "metadata": {
        "colab": {
          "base_uri": "https://localhost:8080/",
          "height": 265
        },
        "id": "GXY2EmakiW8o",
        "outputId": "ea0ab984-3596-4aee-f645-bb600b559266"
      },
      "source": [
        "x = np.array([5,7,8,7,2,17,2,9,4,11,12,9,6])\n",
        "y = np.array([99,86,87,88,111,86,103,87,94,78,77,85,86])\n",
        "plt.scatter(x, y, color = 'hotpink')\n",
        "\n",
        "x = np.array([2,2,8,1,15,8,12,9,7,3,11,4,7,14,12])\n",
        "y = np.array([100,105,84,105,90,99,90,95,94,100,79,112,91,80,85])\n",
        "plt.scatter(x, y, color = '#88c999')\n",
        "\n",
        "plt.show()"
      ],
      "execution_count": null,
      "outputs": [
        {
          "output_type": "display_data",
          "data": {
            "image/png": "[encoded data removed]",
            "text/plain": [
              "<Figure size 432x288 with 1 Axes>"
            ]
          },
          "metadata": {
            "tags": [],
            "needs_background": "light"
          }
        }
      ]
    },
    {
      "cell_type": "markdown",
      "metadata": {
        "id": "6sehNqHvimJl"
      },
      "source": [
        "###**Colores a cada punto**\n",
        "\n",
        "Se puede establecer un color específico para cada punto utilizando una matriz de colores como valor para el argumento `c`:\n",
        "\n",
        "Nota: No puede usar el argumento de `color` para esto, solo el argumento `c`."
      ]
    },
    {
      "cell_type": "code",
      "metadata": {
        "colab": {
          "base_uri": "https://localhost:8080/",
          "height": 265
        },
        "id": "yxKxi7LrizpH",
        "outputId": "710d66c1-d21c-422b-d4f8-9387f8650323"
      },
      "source": [
        "x = np.array([5,7,8,7,2,17,2,9,4,11,12,9,6])\n",
        "y = np.array([99,86,87,88,111,86,103,87,94,78,77,85,86])\n",
        "colors = np.array([\"red\",\"green\",\"blue\",\"yellow\",\"pink\",\"black\",\"orange\",\"purple\",\"beige\",\"brown\",\"gray\",\"cyan\",\"magenta\"])\n",
        "\n",
        "plt.scatter(x, y, c=colors)\n",
        "\n",
        "plt.show()"
      ],
      "execution_count": null,
      "outputs": [
        {
          "output_type": "display_data",
          "data": {
            "image/png": "[encoded data removed]",
            "text/plain": [
              "<Figure size 432x288 with 1 Axes>"
            ]
          },
          "metadata": {
            "tags": [],
            "needs_background": "light"
          }
        }
      ]
    },
    {
      "cell_type": "markdown",
      "metadata": {
        "id": "LbM_m2xIi3QQ"
      },
      "source": [
        "###**Mapa de Colores**\n",
        "\n",
        "Matplotlib tiene diferentes mapas de colores (ColorMap) disponibles, un mapa de colores es como una lista de colores, donde cada color tiene un valor que va de 0 a 100.\n",
        "\n",
        "A continuación, se muestra un ejemplo de mapa de colores:\n",
        "\n",
        "![](https://www.w3schools.com/python/img_colorbar.png)\n",
        "\n",
        "Este mapa de colores se llama `'viridis'` y, como puede ver, va desde $0$, que es un color púrpura, y hasta $100$, que es un color amarillo.\n",
        "\n",
        "###**Cómo utilizar ColorMap**\n",
        "\n",
        "Puede especificar el mapa de colores con el argumento de palabra clave cmap con el valor del mapa de colores, en este caso 'viridis', que es uno de los mapas de colores integrados disponibles en Matplotlib.\n",
        "\n",
        "Además, debe crear una matriz con valores (de 0 a 100), un valor para cada uno de los puntos en el diagrama de dispersión:\n",
        "\n",
        "Puede incluir el mapa de colores en el dibujo si incluye la declaración `plt.colorbar()`"
      ]
    },
    {
      "cell_type": "code",
      "metadata": {
        "colab": {
          "base_uri": "https://localhost:8080/",
          "height": 269
        },
        "id": "P0m77oJljbJF",
        "outputId": "6b0b3973-2fb9-4dab-ffb0-f9a98534d492"
      },
      "source": [
        "x = np.array([5,7,8,7,2,17,2,9,4,11,12,9,6])\n",
        "y = np.array([99,86,87,88,111,86,103,87,94,78,77,85,86])\n",
        "colors = np.array([0, 10, 20, 30, 40, 45, 50, 55, 60, 70, 80, 90, 100])\n",
        "\n",
        "plt.scatter(x, y, c=colors, cmap='viridis')\n",
        "plt.colorbar()\n",
        "plt.show()"
      ],
      "execution_count": null,
      "outputs": [
        {
          "output_type": "display_data",
          "data": {
            "image/png": "[encoded data removed]",
            "text/plain": [
              "<Figure size 432x288 with 2 Axes>"
            ]
          },
          "metadata": {
            "tags": [],
            "needs_background": "light"
          }
        }
      ]
    },
    {
      "cell_type": "markdown",
      "metadata": {
        "id": "usbWNIznjq68"
      },
      "source": [
        "###**ColorMap disponibles**\n",
        "\n",
        "<table>\n",
        "<thead>\n",
        "  <tr>\n",
        "    <th>Nombre</th>\n",
        "    <th>Reverso</th>\n",
        "    <th></th>\n",
        "    <th>Nombre</th>\n",
        "    <th>Reverso</th>\n",
        "    <th></th>\n",
        "    <th>Nombre</th>\n",
        "    <th>Reverso</th>\n",
        "    <th></th>\n",
        "    <th>Nombre</th>\n",
        "    <th>Reverso</th>\n",
        "  </tr>\n",
        "</thead>\n",
        "<tbody>\n",
        "  <tr>\n",
        "    <td>Accent</td>\n",
        "    <td>Accent_r</td>\n",
        "    <td></td>\n",
        "    <td>Purples</td>\n",
        "    <td>Purples_r</td>\n",
        "    <td></td>\n",
        "    <td>bwr</td>\n",
        "    <td>bwr_r</td>\n",
        "    <td></td>\n",
        "    <td>magma</td>\n",
        "    <td>magma_r</td>\n",
        "  </tr>\n",
        "  <tr>\n",
        "    <td>Blues</td>\n",
        "    <td>Blues_r</td>\n",
        "    <td></td>\n",
        "    <td>RdBu</td>\n",
        "    <td>RdBu_r</td>\n",
        "    <td></td>\n",
        "    <td>cividis</td>\n",
        "    <td>cividis_r</td>\n",
        "    <td></td>\n",
        "    <td>nipy_spectral</td>\n",
        "    <td>nipy_spectral_r</td>\n",
        "  </tr>\n",
        "  <tr>\n",
        "    <td>BrBG</td>\n",
        "    <td>BrBG_r</td>\n",
        "    <td></td>\n",
        "    <td>RdGy</td>\n",
        "    <td>RdGy_r</td>\n",
        "    <td></td>\n",
        "    <td>cool</td>\n",
        "    <td>cool_r</td>\n",
        "    <td></td>\n",
        "    <td>ocean</td>\n",
        "    <td>ocean_r</td>\n",
        "  </tr>\n",
        "  <tr>\n",
        "    <td>BuGn</td>\n",
        "    <td>BuGn_r</td>\n",
        "    <td></td>\n",
        "    <td>RdPu</td>\n",
        "    <td>RdPu_r</td>\n",
        "    <td></td>\n",
        "    <td>coolwarm</td>\n",
        "    <td>coolwarm_r</td>\n",
        "    <td></td>\n",
        "    <td>pink</td>\n",
        "    <td>pink_r</td>\n",
        "  </tr>\n",
        "  <tr>\n",
        "    <td>BuPu</td>\n",
        "    <td>BuPu_r</td>\n",
        "    <td></td>\n",
        "    <td>RdYlBu</td>\n",
        "    <td>RdYlBu_r</td>\n",
        "    <td></td>\n",
        "    <td>copper</td>\n",
        "    <td>copper_r</td>\n",
        "    <td></td>\n",
        "    <td>plasma</td>\n",
        "    <td>plasma_r</td>\n",
        "  </tr>\n",
        "  <tr>\n",
        "    <td>CMRmap</td>\n",
        "    <td>CMRmap_r</td>\n",
        "    <td></td>\n",
        "    <td>RdYlGn</td>\n",
        "    <td>RdYlGn_r</td>\n",
        "    <td></td>\n",
        "    <td>cubehelix</td>\n",
        "    <td>cubehelix_r</td>\n",
        "    <td></td>\n",
        "    <td>prism</td>\n",
        "    <td>prism_r</td>\n",
        "  </tr>\n",
        "  <tr>\n",
        "    <td>Dark2</td>\n",
        "    <td>Dark2_r</td>\n",
        "    <td></td>\n",
        "    <td>Reds</td>\n",
        "    <td>Reds_r</td>\n",
        "    <td></td>\n",
        "    <td>flag</td>\n",
        "    <td>flag_r</td>\n",
        "    <td></td>\n",
        "    <td>rainbow</td>\n",
        "    <td>rainbow_r</td>\n",
        "  </tr>\n",
        "  <tr>\n",
        "    <td>GnBu</td>\n",
        "    <td>GnBu_r</td>\n",
        "    <td></td>\n",
        "    <td>Set1</td>\n",
        "    <td>Set1_r</td>\n",
        "    <td></td>\n",
        "    <td>gist_earth</td>\n",
        "    <td>gist_earth_r</td>\n",
        "    <td></td>\n",
        "    <td>seismic</td>\n",
        "    <td>seismic_r</td>\n",
        "  </tr>\n",
        "  <tr>\n",
        "    <td>Greens</td>\n",
        "    <td>Greens_r</td>\n",
        "    <td></td>\n",
        "    <td>Set2</td>\n",
        "    <td>Set2_r</td>\n",
        "    <td></td>\n",
        "    <td>gist_gray</td>\n",
        "    <td>gist_gray_r</td>\n",
        "    <td></td>\n",
        "    <td>spring</td>\n",
        "    <td>spring_r</td>\n",
        "  </tr>\n",
        "  <tr>\n",
        "    <td>Greys</td>\n",
        "    <td>Greys_r</td>\n",
        "    <td></td>\n",
        "    <td>Set3</td>\n",
        "    <td>Set3_r</td>\n",
        "    <td></td>\n",
        "    <td>gist_heat</td>\n",
        "    <td>gist_heat_r</td>\n",
        "    <td></td>\n",
        "    <td>summer</td>\n",
        "    <td>summer_r</td>\n",
        "  </tr>\n",
        "  <tr>\n",
        "    <td>OrRd</td>\n",
        "    <td>OrRd_r</td>\n",
        "    <td></td>\n",
        "    <td>Spectral</td>\n",
        "    <td>Spectral_r</td>\n",
        "    <td></td>\n",
        "    <td>gist_ncar</td>\n",
        "    <td>gist_ncar_r</td>\n",
        "    <td></td>\n",
        "    <td>tab10</td>\n",
        "    <td>tab10_r</td>\n",
        "  </tr>\n",
        "  <tr>\n",
        "    <td>Oranges</td>\n",
        "    <td>Oranges_r</td>\n",
        "    <td></td>\n",
        "    <td>Wistia</td>\n",
        "    <td>Wistia_r</td>\n",
        "    <td></td>\n",
        "    <td>gist_rainbow</td>\n",
        "    <td>gist_rainbow_r</td>\n",
        "    <td></td>\n",
        "    <td>tab20</td>\n",
        "    <td>tab20_r</td>\n",
        "  </tr>\n",
        "  <tr>\n",
        "    <td>PRGn</td>\n",
        "    <td>PRGn_r</td>\n",
        "    <td></td>\n",
        "    <td>YlGn</td>\n",
        "    <td>YlGn_r</td>\n",
        "    <td></td>\n",
        "    <td>gist_stern</td>\n",
        "    <td>gist_stern_r</td>\n",
        "    <td></td>\n",
        "    <td>tab20b</td>\n",
        "    <td>tab20b_r</td>\n",
        "  </tr>\n",
        "  <tr>\n",
        "    <td>Paired</td>\n",
        "    <td>Paired_r</td>\n",
        "    <td></td>\n",
        "    <td>YlGnBu</td>\n",
        "    <td>YlGnBu_r</td>\n",
        "    <td></td>\n",
        "    <td>gist_yarg</td>\n",
        "    <td>gist_yarg_r</td>\n",
        "    <td></td>\n",
        "    <td>tab20c</td>\n",
        "    <td>tab20c_r</td>\n",
        "  </tr>\n",
        "  <tr>\n",
        "    <td>Pastel1</td>\n",
        "    <td>Pastel1_r</td>\n",
        "    <td></td>\n",
        "    <td>YlOrBr</td>\n",
        "    <td>YlOrBr_r</td>\n",
        "    <td></td>\n",
        "    <td>gnuplot</td>\n",
        "    <td>gnuplot_r</td>\n",
        "    <td></td>\n",
        "    <td>terrain</td>\n",
        "    <td>terrain_r</td>\n",
        "  </tr>\n",
        "  <tr>\n",
        "    <td>Pastel2</td>\n",
        "    <td>Pastel2_r</td>\n",
        "    <td></td>\n",
        "    <td>YlOrRd</td>\n",
        "    <td>YlOrRd_r</td>\n",
        "    <td></td>\n",
        "    <td>gnuplot2</td>\n",
        "    <td>gnuplot2_r</td>\n",
        "    <td></td>\n",
        "    <td>twilight</td>\n",
        "    <td>twilight_r</td>\n",
        "  </tr>\n",
        "  <tr>\n",
        "    <td>PiYG</td>\n",
        "    <td>PiYG_r</td>\n",
        "    <td></td>\n",
        "    <td>afmhot</td>\n",
        "    <td>afmhot_r</td>\n",
        "    <td></td>\n",
        "    <td>gray</td>\n",
        "    <td>gray_r</td>\n",
        "    <td></td>\n",
        "    <td>twilight_shifted</td>\n",
        "    <td>twilight_shifted_r</td>\n",
        "  </tr>\n",
        "  <tr>\n",
        "    <td>PuBu</td>\n",
        "    <td>PuBu_r</td>\n",
        "    <td></td>\n",
        "    <td>autumn</td>\n",
        "    <td>autumn_r</td>\n",
        "    <td></td>\n",
        "    <td>hot</td>\n",
        "    <td>hot_r</td>\n",
        "    <td></td>\n",
        "    <td>viridis</td>\n",
        "    <td>viridis_r</td>\n",
        "  </tr>\n",
        "  <tr>\n",
        "    <td>PuBuGn</td>\n",
        "    <td>PuBuGn_r</td>\n",
        "    <td></td>\n",
        "    <td>binary</td>\n",
        "    <td>binary_r</td>\n",
        "    <td></td>\n",
        "    <td>hsv</td>\n",
        "    <td>hsv_r</td>\n",
        "    <td></td>\n",
        "    <td>winter</td>\n",
        "    <td>winter_r</td>\n",
        "  </tr>\n",
        "  <tr>\n",
        "    <td>PuOr</td>\n",
        "    <td>PuOr_r</td>\n",
        "    <td></td>\n",
        "    <td>bone</td>\n",
        "    <td>bone_r</td>\n",
        "    <td></td>\n",
        "    <td>inferno</td>\n",
        "    <td>inferno_r</td>\n",
        "    <td></td>\n",
        "    <td></td>\n",
        "    <td></td>\n",
        "  </tr>\n",
        "  <tr>\n",
        "    <td>PuRd</td>\n",
        "    <td>PuRd_r</td>\n",
        "    <td></td>\n",
        "    <td>brg</td>\n",
        "    <td>brg_r</td>\n",
        "    <td></td>\n",
        "    <td>jet</td>\n",
        "    <td>jet_r</td>\n",
        "    <td></td>\n",
        "    <td></td>\n",
        "    <td></td>\n",
        "  </tr>\n",
        "</tbody>\n",
        "</table>\n"
      ]
    },
    {
      "cell_type": "markdown",
      "metadata": {
        "id": "m-rDp2Rft7FW"
      },
      "source": [
        "###**Tamaño de los marcadores**\n",
        "\n",
        "El tamaño de los marcadores o puntos se puede cambiar con el argumento `s`.\n",
        "\n",
        "Al igual que los colores, asegúrese de que la matriz de tamaños tenga la misma longitud que las matrices de los ejes $x$ e $y$:"
      ]
    },
    {
      "cell_type": "code",
      "metadata": {
        "colab": {
          "base_uri": "https://localhost:8080/",
          "height": 265
        },
        "id": "JwN74a9juLMD",
        "outputId": "ff2e5f2d-4ca3-45a8-d565-ff86aec077ba"
      },
      "source": [
        "x = np.array([5,7,8,7,2,17,2,9,4,11,12,9,6])\n",
        "y = np.array([99,86,87,88,111,86,103,87,94,78,77,85,86])\n",
        "sizes = np.array([20,50,100,200,500,1000,60,90,10,300,600,800,75])\n",
        "\n",
        "plt.scatter(x, y, s=sizes)\n",
        "\n",
        "plt.show()"
      ],
      "execution_count": null,
      "outputs": [
        {
          "output_type": "display_data",
          "data": {
            "image/png": "[encoded data removed]",
            "text/plain": [
              "<Figure size 432x288 with 1 Axes>"
            ]
          },
          "metadata": {
            "tags": [],
            "needs_background": "light"
          }
        }
      ]
    },
    {
      "cell_type": "markdown",
      "metadata": {
        "id": "dSi8aJfguQNe"
      },
      "source": [
        "###**Transparencia marcadores**\n",
        "\n",
        "**Alpha**\n",
        "\n",
        "Se puede ajustar la transparencia de los marcadores o puntos con el argumento `alpha`\n",
        "\n",
        "Al igual que los colores, asegúrese de que la matriz de tamaños tenga la misma longitud que las matrices de los ejes $x$ e $y$:"
      ]
    },
    {
      "cell_type": "code",
      "metadata": {
        "colab": {
          "base_uri": "https://localhost:8080/",
          "height": 265
        },
        "id": "UwcAmtZrukK0",
        "outputId": "09f43d28-bcb5-4b01-aaba-0eb43b551d15"
      },
      "source": [
        "x = np.array([5,7,8,7,2,17,2,9,4,11,12,9,6])\n",
        "y = np.array([99,86,87,88,111,86,103,87,94,78,77,85,86])\n",
        "sizes = np.array([20,50,100,200,500,1000,60,90,10,300,600,800,75])\n",
        "\n",
        "plt.scatter(x, y, s=sizes, alpha=0.5)\n",
        "\n",
        "plt.show()"
      ],
      "execution_count": null,
      "outputs": [
        {
          "output_type": "display_data",
          "data": {
            "image/png": "[encoded data removed]",
            "text/plain": [
              "<Figure size 432x288 with 1 Axes>"
            ]
          },
          "metadata": {
            "tags": [],
            "needs_background": "light"
          }
        }
      ]
    },
    {
      "cell_type": "markdown",
      "metadata": {
        "id": "ldZO5mCTuqDw"
      },
      "source": [
        "###**Combinar tamaño, color y Alpha**\n",
        "\n",
        "**Alpha**\n",
        "\n",
        "\n",
        "Puede combinar un mapa de colores con diferentes tamaños en los puntos. Esto se visualiza mejor si los puntos son transparentes:"
      ]
    },
    {
      "cell_type": "code",
      "metadata": {
        "colab": {
          "base_uri": "https://localhost:8080/",
          "height": 265
        },
        "id": "Ec8GqeFdu8qO",
        "outputId": "8d270f6f-34fa-4690-db99-eacd5cdeb792"
      },
      "source": [
        "x = np.random.randint(100, size=(100))\n",
        "y = np.random.randint(100, size=(100))\n",
        "colors = np.random.randint(100, size=(100))\n",
        "sizes = 10 * np.random.randint(100, size=(100))\n",
        "\n",
        "plt.scatter(x, y, c=colors, s=sizes, alpha=0.5, cmap='nipy_spectral')\n",
        "\n",
        "plt.colorbar()\n",
        "\n",
        "plt.show()"
      ],
      "execution_count": null,
      "outputs": [
        {
          "output_type": "display_data",
          "data": {
            "image/png": "[encoded data removed]",
            "text/plain": [
              "<Figure size 432x288 with 2 Axes>"
            ]
          },
          "metadata": {
            "tags": [],
            "needs_background": "light"
          }
        }
      ]
    },
    {
      "cell_type": "markdown",
      "metadata": {
        "id": "4uVx7AAvvPZ6"
      },
      "source": [
        "###**Gráficas de barras**\n",
        "\n",
        "Con Pyplot, puede usar la función `bar()` para dibujar un diagrama de barras. La función `bar()` dibuja una barra para cada observación.\n",
        "\n",
        "La función `bar()` toma argumentos que describen el diseño de las barras. Las categorías y sus valores representados por el primer y segundo argumento como matrices."
      ]
    },
    {
      "cell_type": "code",
      "metadata": {
        "colab": {
          "base_uri": "https://localhost:8080/",
          "height": 265
        },
        "id": "4PpZHA5_vgKd",
        "outputId": "95885d85-2ca8-46e3-fd3d-6214992206c8"
      },
      "source": [
        "x = np.array([\"A\", \"B\", \"C\", \"D\"])\n",
        "y = np.array([3, 8, 1, 10])\n",
        "\n",
        "plt.bar(x,y)\n",
        "plt.show()"
      ],
      "execution_count": null,
      "outputs": [
        {
          "output_type": "display_data",
          "data": {
            "image/png": "[encoded data removed]",
            "text/plain": [
              "<Figure size 432x288 with 1 Axes>"
            ]
          },
          "metadata": {
            "tags": [],
            "needs_background": "light"
          }
        }
      ]
    },
    {
      "cell_type": "code",
      "metadata": {
        "colab": {
          "base_uri": "https://localhost:8080/",
          "height": 265
        },
        "id": "CKob37IfvqTH",
        "outputId": "c39b755f-aa6b-4e84-8700-ba400f6e7e1a"
      },
      "source": [
        "x = [\"Yuca\", \"Papa\"]\n",
        "y = [400, 350]\n",
        "plt.bar(x, y)\n",
        "plt.show()"
      ],
      "execution_count": null,
      "outputs": [
        {
          "output_type": "display_data",
          "data": {
            "image/png": "[encoded data removed]",
            "text/plain": [
              "<Figure size 432x288 with 1 Axes>"
            ]
          },
          "metadata": {
            "tags": [],
            "needs_background": "light"
          }
        }
      ]
    },
    {
      "cell_type": "markdown",
      "metadata": {
        "id": "UvtxKBZLv0Zb"
      },
      "source": [
        "###**Gráficas de barras horizontales**\n",
        "\n",
        "Con Pyplot, puede usar la función `barh()` para dibujar un diagrama de barras horizontales. La función `barh()` dibuja una barra para cada observación."
      ]
    },
    {
      "cell_type": "code",
      "metadata": {
        "colab": {
          "base_uri": "https://localhost:8080/",
          "height": 265
        },
        "id": "xy84gmbUv98Z",
        "outputId": "737df61a-0264-45d1-fdc3-70dfac74f68b"
      },
      "source": [
        "x = np.array([\"A\", \"B\", \"C\", \"D\"])\n",
        "y = np.array([3, 8, 1, 10])\n",
        "\n",
        "plt.barh(x, y)\n",
        "plt.show()"
      ],
      "execution_count": null,
      "outputs": [
        {
          "output_type": "display_data",
          "data": {
            "image/png": "[encoded data removed]",
            "text/plain": [
              "<Figure size 432x288 with 1 Axes>"
            ]
          },
          "metadata": {
            "tags": [],
            "needs_background": "light"
          }
        }
      ]
    },
    {
      "cell_type": "markdown",
      "metadata": {
        "id": "g0nZomIywBQn"
      },
      "source": [
        "###**Colores de las barras**\n",
        "\n",
        "`bar()` y `barh()` utilizan el argumento `color` para detallar el color de las barras.\n",
        "\n",
        "![](https://matplotlib.org/stable/_images/sphx_glr_named_colors_001.png)\n",
        "\n",
        "![](https://matplotlib.org/stable/_images/sphx_glr_named_colors_002.png)\n",
        "\n",
        "![](https://matplotlib.org/stable/_images/sphx_glr_named_colors_003.png)"
      ]
    },
    {
      "cell_type": "code",
      "metadata": {
        "colab": {
          "base_uri": "https://localhost:8080/",
          "height": 265
        },
        "id": "2eIuiyQfwN4s",
        "outputId": "a164ee64-e532-4bba-9f0d-f4c355781984"
      },
      "source": [
        "x = np.array([\"A\", \"B\", \"C\", \"D\"])\n",
        "y = np.array([3, 8, 1, 10])\n",
        "\n",
        "plt.bar(x, y, color = \"red\")\n",
        "plt.show()"
      ],
      "execution_count": null,
      "outputs": [
        {
          "output_type": "display_data",
          "data": {
            "image/png": "[encoded data removed]",
            "text/plain": [
              "<Figure size 432x288 with 1 Axes>"
            ]
          },
          "metadata": {
            "tags": [],
            "needs_background": "light"
          }
        }
      ]
    },
    {
      "cell_type": "markdown",
      "metadata": {
        "id": "Jx2-BifBw4-a"
      },
      "source": [
        "###**Ancho y alto de las barras**\n",
        "\n",
        "`bar()` utilizan el argumento `width` para detallar el ancho de las barras.\n",
        "\n",
        "`barh()` utilizan el argumento `height` para detallar el alto de las barras."
      ]
    },
    {
      "cell_type": "code",
      "metadata": {
        "colab": {
          "base_uri": "https://localhost:8080/",
          "height": 513
        },
        "id": "ifR-FJ7nxNK4",
        "outputId": "fab30380-cabb-48df-d402-4f1b5c324131"
      },
      "source": [
        "x = np.array([\"A\", \"B\", \"C\", \"D\"])\n",
        "y = np.array([3, 8, 1, 10])\n",
        "\n",
        "plt.bar(x, y, width = 0.1)\n",
        "plt.show()\n",
        "\n",
        "plt.barh(x, y, height = 0.1)\n",
        "plt.show()"
      ],
      "execution_count": null,
      "outputs": [
        {
          "output_type": "display_data",
          "data": {
            "image/png": "[encoded data removed]",
            "text/plain": [
              "<Figure size 432x288 with 1 Axes>"
            ]
          },
          "metadata": {
            "tags": [],
            "needs_background": "light"
          }
        },
        {
          "output_type": "display_data",
          "data": {
            "image/png": "[encoded data removed]",
            "text/plain": [
              "<Figure size 432x288 with 1 Axes>"
            ]
          },
          "metadata": {
            "tags": [],
            "needs_background": "light"
          }
        }
      ]
    },
    {
      "cell_type": "markdown",
      "metadata": {
        "id": "Lxly24NvxWd8"
      },
      "source": [
        "###**Histogramas**\n",
        "\n",
        "Un histograma es un gráfico que muestra distribuciones de frecuencia.\n",
        "\n",
        "Es un gráfico que muestra el número de observaciones dentro de cada intervalo dado.\n",
        "\n",
        "Ejemplo: digamos que pregunta por la altura de 250 personas, podría terminar con un histograma como este:\n",
        "\n",
        "![](https://www.w3schools.com/python/img_matplotlib_histogram1.png)\n",
        "\n",
        "Puede leer en el histograma que hay aproximadamente:\n",
        "\n",
        "* 2 personas de 140 a 145cm\n",
        "* 5 personas de 145 a 150cm\n",
        "* 15 personas de 151 a 156cm\n",
        "* 31 personas de 157 a 162cm\n",
        "* 46 personas de 163 a 168cm\n",
        "* 53 personas de 168 a 173cm\n",
        "* 45 personas de 173 a 178cm\n",
        "* 28 personas de 179 a 184cm\n",
        "* 21 personas de 185 a 190cm\n",
        "* 4 personas de 190 a 195cm"
      ]
    },
    {
      "cell_type": "markdown",
      "metadata": {
        "id": "fcb1HzYk0ByJ"
      },
      "source": [
        "###**Crear un Histogramas**\n",
        "\n",
        "En Matplotlib, usamos la función `hist()` para crear histogramas.\n",
        "\n",
        "La función `hist()` usará una matriz de números para crear un histograma, la matriz se envía a la función como un argumento.\n",
        "\n",
        "Para simplificar, usamos NumPy para generar aleatoriamente una matriz con 250 valores, donde los valores se concentrarán alrededor de 170 y la desviación estándar es 10.\n",
        "\n",
        "```python\n",
        "x = np.random.normal(170, 10, 250)\n",
        "print(x)\n",
        "```\n",
        "La funcion `hist()` leerá la matriz y generará el histograma.\n",
        "\n"
      ]
    },
    {
      "cell_type": "code",
      "metadata": {
        "colab": {
          "base_uri": "https://localhost:8080/",
          "height": 265
        },
        "id": "XwdUumNX0S8G",
        "outputId": "04acf449-1529-4892-d523-6a93a5708f1e"
      },
      "source": [
        "x = np.random.normal(170, 10, 250)\n",
        "\n",
        "plt.hist(x)\n",
        "plt.show() "
      ],
      "execution_count": null,
      "outputs": [
        {
          "output_type": "display_data",
          "data": {
            "image/png": "[encoded data removed]",
            "text/plain": [
              "<Figure size 432x288 with 1 Axes>"
            ]
          },
          "metadata": {
            "tags": [],
            "needs_background": "light"
          }
        }
      ]
    },
    {
      "cell_type": "markdown",
      "metadata": {
        "id": "neoVEPN_0c_z"
      },
      "source": [
        "###**Gráficos circulares (torta)**\n",
        "\n",
        "Con Pyplot, puede usar la función `pie()` para dibujar gráficos circulares.\n",
        "\n",
        "Como puede ver, el gráfico circular dibuja una pieza (llamada wedge) para cada valor en la matriz (en este caso `[35, 25, 25, 15]`).\n",
        "\n",
        "De forma predeterminada, el trazado de la primera parte o `wedge` comienza desde el eje $x$ y se mueve en sentido antihorario.\n",
        "\n",
        "Nota: El tamaño de cada parte (`wedge`) se determina comparando el valor con todos los demás valores, utilizando esta fórmula:\n",
        "\n",
        "El valor dividido por la suma de todos los valores: `x / suma (x)`\n",
        "\n",
        "![](https://www.w3schools.com/python/img_matplotlib_pie_start.png)"
      ]
    },
    {
      "cell_type": "code",
      "metadata": {
        "colab": {
          "base_uri": "https://localhost:8080/",
          "height": 248
        },
        "id": "27RkzOsM0spI",
        "outputId": "a1883dbe-6144-4cf8-c89a-386a0016f0a0"
      },
      "source": [
        "y = np.array([35, 25, 25, 15])\n",
        "\n",
        "plt.pie(y)\n",
        "plt.show() "
      ],
      "execution_count": null,
      "outputs": [
        {
          "output_type": "display_data",
          "data": {
            "image/png": "[encoded data removed]",
            "text/plain": [
              "<Figure size 432x288 with 1 Axes>"
            ]
          },
          "metadata": {
            "tags": []
          }
        }
      ]
    },
    {
      "cell_type": "markdown",
      "metadata": {
        "id": "dG7OTsqc1cBN"
      },
      "source": [
        "###**Etiquetas de Gráficos circulares (torta)**\n",
        "\n",
        "Agregue etiquetas al gráfico circular con el parámetro de etiqueta `label`.\n",
        "\n",
        "El parámetro de etiqueta debe ser una matriz con una etiqueta para cada sector:\n"
      ]
    },
    {
      "cell_type": "code",
      "metadata": {
        "colab": {
          "base_uri": "https://localhost:8080/",
          "height": 248
        },
        "id": "zWDw9vGZ1ogD",
        "outputId": "f13b4175-1e67-47e0-fb9d-b22602fc76c2"
      },
      "source": [
        "y = np.array([35, 25, 25, 15])\n",
        "mylabels = [\"Yuca\", \"Platano\", \"Papa\", \"Tomate\"]\n",
        "\n",
        "plt.pie(y, labels = mylabels)\n",
        "plt.show() "
      ],
      "execution_count": null,
      "outputs": [
        {
          "output_type": "display_data",
          "data": {
            "image/png": "[encoded data removed]",
            "text/plain": [
              "<Figure size 432x288 with 1 Axes>"
            ]
          },
          "metadata": {
            "tags": []
          }
        }
      ]
    },
    {
      "cell_type": "markdown",
      "metadata": {
        "id": "o6VEeHX112m8"
      },
      "source": [
        "###**Colores de Gráficos circulares (torta)**\n",
        "\n",
        "Puede establecer el color de cada cuña con el parámetro de colores `colors`.\n",
        "\n",
        "El parámetro `colors`, si se especifica, debe ser una matriz con un valor para cada sector:\n"
      ]
    },
    {
      "cell_type": "code",
      "metadata": {
        "colab": {
          "base_uri": "https://localhost:8080/",
          "height": 248
        },
        "id": "AtxCf3dK2HbY",
        "outputId": "61267a9c-a6e5-451b-aba4-c5c4875e67f3"
      },
      "source": [
        "y = np.array([35, 25, 25, 15])\n",
        "mylabels = [\"Yuca\", \"Platano\", \"Papa\", \"Tomate\"]\n",
        "mycolors = [\"sienna\", \"green\", \"peru\", \"red\"]\n",
        "\n",
        "plt.pie(y, labels = mylabels, colors = mycolors)\n",
        "plt.show() "
      ],
      "execution_count": null,
      "outputs": [
        {
          "output_type": "display_data",
          "data": {
            "image/png": "[encoded data removed]",
            "text/plain": [
              "<Figure size 432x288 with 1 Axes>"
            ]
          },
          "metadata": {
            "tags": []
          }
        }
      ]
    },
    {
      "cell_type": "markdown",
      "metadata": {
        "id": "CT0-mUJH2oiw"
      },
      "source": [
        "###**Leyenda**\n",
        "\n",
        "Para agregar una lista de explicación tipo leyenda para cada sector, use la función `legend()`.\n",
        "\n",
        "Para agregar un encabezado a la leyenda, agregue el parámetro `title` a la función `legend()`.\n",
        "Para ubicar la leyenda podemos utilizar el parametro `loc` con la siguiente tabla: \n",
        "\n",
        "Location String|Location Code\n",
        "---|---\n",
        "'best'|0\n",
        "'upper right'|1\n",
        "'upper left'|2\n",
        "'lower left'|3\n",
        "'lower right'|4\n",
        "'right'|5\n",
        "'center left'|6\n",
        "'center right'|7\n",
        "'lower center'|8\n",
        "'upper center'|9\n",
        "'center'|10"
      ]
    },
    {
      "cell_type": "code",
      "metadata": {
        "colab": {
          "base_uri": "https://localhost:8080/",
          "height": 248
        },
        "id": "-hiixhYe3EZT",
        "outputId": "c8c68757-d28f-4e16-baae-3553925a3b05"
      },
      "source": [
        "y = np.array([35, 25, 25, 15])\n",
        "mylabels = [\"Yuca\", \"Platano\", \"Papa\", \"Tomate\"]\n",
        "\n",
        "plt.pie(y, labels = mylabels)\n",
        "plt.legend(title=\"Sancocho\", loc=2)\n",
        "plt.show() "
      ],
      "execution_count": null,
      "outputs": [
        {
          "output_type": "display_data",
          "data": {
            "image/png": "[encoded data removed]",
            "text/plain": [
              "<Figure size 432x288 with 1 Axes>"
            ]
          },
          "metadata": {
            "tags": []
          }
        }
      ]
    },
    {
      "cell_type": "markdown",
      "metadata": {
        "id": "9o_79djY8ZgC"
      },
      "source": [
        "<p><a name=\"s5\"></a></p>\n",
        "\n",
        "# **05. Notas Finales**\n",
        "[[Contenidos]](#contents)"
      ]
    },
    {
      "cell_type": "markdown",
      "metadata": {
        "id": "Sj7tLr6j1myZ"
      },
      "source": [
        "<table>\n",
        "   <tbody>\n",
        "      <tr>\n",
        "         <strong><td>Quantum Computing</td><strong>\n",
        "         <h1><td>Statistical Computing</td></h1>\n",
        "         <h1><td>Signal Processing</td></h1>\n",
        "         <h1><td>Image Processing</td></h1>\n",
        "         <h1><td>Graphs and Networks</td></h1>\n",
        "         <h1><td>Astronomy Processes</td></h1>\n",
        "         <h1><td>Cognitive Psychology</td></h1>\n",
        "      </tr>\n",
        "      <tr>\n",
        "         <td><img class=\"cell-layout\" height=\"30px\" src=\"https://github.com/juliancastillo-iudigital/FundamentosProgramacionPosgrados2021-1/blob/main/quantum_computing.svg?raw=True\" alt=\"A computer chip.\"></td>\n",
        "         <td><img class=\"cell-layout\" height=\"30px\" src=\"https://github.com/juliancastillo-iudigital/FundamentosProgramacionPosgrados2021-1/blob/main/statistical_computing.svg?raw=True\" alt=\"A line graph with the line moving up.\"></td>\n",
        "         <td><img class=\"cell-layout\" height=\"30px\" src=\"https://github.com/juliancastillo-iudigital/FundamentosProgramacionPosgrados2021-1/blob/main/signal_processing.svg?raw=True\" alt=\"A bar chart with positive and negative values.\"></td>\n",
        "         <td><img class=\"cell-layout\" height=\"30px\" src=\"https://github.com/juliancastillo-iudigital/FundamentosProgramacionPosgrados2021-1/blob/main/image_processing.svg?raw=True\" alt=\"An photograph of the mountains.\"></td>\n",
        "         <td><img class=\"cell-layout\" height=\"30px\" src=\"https://github.com/juliancastillo-iudigital/FundamentosProgramacionPosgrados2021-1/blob/main/sd6.svg?raw=True\" alt=\"A simple graph.\"></td>\n",
        "         <td><img class=\"cell-layout\" height=\"30px\" src=\"https://github.com/juliancastillo-iudigital/FundamentosProgramacionPosgrados2021-1/blob/main/astronomy_processes.svg?raw=True\" alt=\"A telescope.\"></td>\n",
        "         <td><img class=\"cell-layout\" height=\"30px\" src=\"https://github.com/juliancastillo-iudigital/FundamentosProgramacionPosgrados2021-1/blob/main/cognitive_psychology.svg?raw=True\" alt=\"A human head with gears.\"></td>\n",
        "      </tr>\n",
        "      <tr>\n",
        "         <td class=\"center-text\"><a href=\"http://qutip.org\">QuTiP</a></td>\n",
        "         <td class=\"center-text\"><a href=\"https://pandas.pydata.org\">Pandas</a></td>\n",
        "         <td class=\"center-text\"><a href=\"https://www.scipy.org\">SciPy</a></td>\n",
        "         <td class=\"center-text\"><a href=\"https://scikit-image.org\">Scikit-image</a></td>\n",
        "         <td class=\"center-text\"><a href=\"https://networkx.org\">NetworkX</a></td>\n",
        "         <td class=\"center-text\"><a href=\"https://www.astropy.org\">AstroPy</a></td>\n",
        "         <td class=\"center-text\"><a href=\"https://www.psychopy.org\">PsychoPy</a></td>\n",
        "      </tr>\n",
        "      <tr>\n",
        "         <td class=\"center-text\"><a href=\"https://pyquil-docs.rigetti.com/en/stable\">PyQuil</a></td>\n",
        "         <td class=\"center-text\"><a href=\"https://github.com/statsmodels/statsmodels\">statsmodels</a></td>\n",
        "         <td class=\"center-text\"><a href=\"https://pywavelets.readthedocs.io\">PyWavelets</a></td>\n",
        "         <td class=\"center-text\"><a href=\"https://opencv.org\">OpenCV</a></td>\n",
        "         <td class=\"center-text\"><a href=\"https://graph-tool.skewed.de/\">graph-tool</a></td>\n",
        "         <td class=\"center-text\"><a href=\"https://github.com/sunpy/sunpy\">SunPy</a></td>\n",
        "         <td class=\"center-text\"></td>\n",
        "      </tr>\n",
        "      <tr>\n",
        "         <td class=\"center-text\"><a href=\"https://qiskit.org\">Qiskit</a></td>\n",
        "         <td class=\"center-text\"><a href=\"https://xarray.pydata.org/en/stable/\">Xarray</a></td>\n",
        "         <td class=\"center-text\"><a href=\"https://python-control.org\">python-control</a></td>\n",
        "         <td class=\"center-text\"><a href=\"https://mahotas.rtfd.io/\">Mahotas</a></td>\n",
        "         <td class=\"center-text\"><a href=\"https://igraph.org/python/\">igraph</a></td>\n",
        "         <td class=\"center-text\"><a href=\"https://github.com/spacepy/spacepy\">SpacePy</a></td>\n",
        "         <td class=\"center-text\"></td>\n",
        "      </tr>\n",
        "      <tr>\n",
        "         <td class=\"lastrow-center-text\"></td>\n",
        "         <td class=\"center-text\"><a href=\"https://github.com/mwaskom/seaborn\">Seaborn</a></td>\n",
        "         <td class=\"lastrow-center-text\"></td>\n",
        "         <td class=\"lastrow-center-text\"></td>\n",
        "         <td class=\"center-text\"><a href=\"https://pygsp.rtfd.io\">PyGSP</a></td>\n",
        "         <td class=\"lastrow-center-text\"></td>\n",
        "         <td class=\"lastrow-center-text\"></td>\n",
        "      </tr>\n",
        "      <tr class=\"highlight-th\">\n",
        "         <h1><td class=\"bold-text\">Bioinformatics</td></h1>\n",
        "         <h1><td class=\"bold-text\">Bayesian Inference</td></h1>\n",
        "         <h1><td class=\"bold-text\">Mathematical Analysis</td></h1>\n",
        "         <h1><td class=\"bold-text\">Chemistry</td></h1>\n",
        "         <h1><td class=\"bold-text\">Geoscience</td></h1>\n",
        "         <h1><td class=\"bold-text\">Geographic Processing</td></h1>\n",
        "         <h1><td class=\"bold-text\">Architecture &amp; Engineering</td></h1>\n",
        "      </tr>\n",
        "      <tr>\n",
        "         <td><img class=\"cell-layout\" height=\"30px\" src=\"https://github.com/juliancastillo-iudigital/FundamentosProgramacionPosgrados2021-1/blob/main/bioinformatics.svg?raw=True\" alt=\"A strand of DNA.\"></td>\n",
        "         <td><img class=\"cell-layout\" height=\"30px\" src=\"https://github.com/juliancastillo-iudigital/FundamentosProgramacionPosgrados2021-1/blob/main/bayesian_inference.svg?raw=True\" alt=\"A graph with a bell-shaped curve.\"></td>\n",
        "         <td><img class=\"cell-layout\" height=\"30px\" src=\"https://github.com/juliancastillo-iudigital/FundamentosProgramacionPosgrados2021-1/blob/main/mathematical_analysis.svg?raw=True\" alt=\"Four mathematical symbols.\"></td>\n",
        "         <td><img class=\"cell-layout\" height=\"30px\" src=\"https://github.com/juliancastillo-iudigital/FundamentosProgramacionPosgrados2021-1/blob/main/chemistry.svg?raw=True\" alt=\"A test tube.\"></td>\n",
        "         <td><img class=\"cell-layout\" height=\"30px\" src=\"https://github.com/juliancastillo-iudigital/FundamentosProgramacionPosgrados2021-1/blob/main/geoscience.svg?raw=True\" alt=\"The Earth.\"></td>\n",
        "         <td><img class=\"cell-layout\" height=\"30px\" src=\"https://github.com/juliancastillo-iudigital/FundamentosProgramacionPosgrados2021-1/blob/main/GIS.svg?raw=True\" alt=\"A map.\"></td>\n",
        "         <td><img class=\"cell-layout\" height=\"30px\" src=\"https://github.com/juliancastillo-iudigital/FundamentosProgramacionPosgrados2021-1/blob/main/robotics.svg?raw=True\" alt=\"A microprocessor development board.\"></td>\n",
        "      </tr>\n",
        "      <tr>\n",
        "         <td class=\"center-text\"><a href=\"https://biopython.org\">BioPython</a></td>\n",
        "         <td class=\"center-text\"><a href=\"https://pystan.readthedocs.io/en/latest/\">PyStan</a></td>\n",
        "         <td class=\"center-text\"><a href=\"https://www.scipy.org\">SciPy</a></td>\n",
        "         <td class=\"center-text\"><a href=\"https://cantera.org/\">Cantera</a></td>\n",
        "         <td class=\"center-text\"><a href=\"https://pangeo.io/\">Pangeo</a></td>\n",
        "         <td class=\"center-text\"><a href=\"https://shapely.readthedocs.io\">Shapely</a></td>\n",
        "         <td class=\"center-text\"><a href=\"https://compas.dev/\">COMPAS</a></td>\n",
        "      </tr>\n",
        "      <tr>\n",
        "         <td class=\"center-text\"><a href=\"http://scikit-bio.org\">Scikit-Bio</a></td>\n",
        "         <td class=\"center-text\"><a href=\"https://docs.pymc.io\">PyMC3</a></td>\n",
        "         <td class=\"center-text\"><a href=\"https://www.sympy.org\">SymPy</a></td>\n",
        "         <td class=\"center-text\"><a href=\"https://www.mdanalysis.org/\">MDAnalysis</a></td>\n",
        "         <td class=\"center-text\"><a href=\"https://simpeg.xyz/\">Simpeg</a></td>\n",
        "         <td class=\"center-text\"><a href=\"https://geopandas.org/\">GeoPandas</a></td>\n",
        "         <td class=\"center-text\"><a href=\"https://cityenergyanalyst.com/\">City Energy Analyst</a></td>\n",
        "      </tr>\n",
        "      <tr>\n",
        "         <td class=\"center-text\"><a href=\"https://github.com/openvax/pyensembl\">PyEnsembl</a></td>\n",
        "         <td class=\"center-text\"><a href=\"https://arviz-devs.github.io/arviz/\">ArviZ</a></td>\n",
        "         <td class=\"center-text\"><a href=\"https://github.com/cvxgrp/cvxpy\">cvxpy</a></td>\n",
        "         <td class=\"center-text\"><a href=\"https://github.com/rdkit/rdkit\">RDKit</a></td>\n",
        "         <td class=\"center-text\"><a href=\"https://github.com/obspy/obspy/wiki\">ObsPy</a></td>\n",
        "         <td class=\"center-text\"><a href=\"https://python-visualization.github.io/folium\">Folium</a></td>\n",
        "         <td class=\"center-text\"><a href=\"https://nortikin.github.io/sverchok/\">Sverchok</a></td>\n",
        "      </tr>\n",
        "      <tr>\n",
        "         <td class=\"lastrow-center-text\"><a href=\"http://etetoolkit.org/\">ETE</a></td>\n",
        "         <td class=\"lastrow-center-text\"><a href=\"https://emcee.readthedocs.io/\">emcee</a></td>\n",
        "         <td class=\"lastrow-center-text\"><a href=\"https://fenicsproject.org/\">FEniCS</a></td>\n",
        "         <td class=\"lastrow-center-text\"></td>\n",
        "         <td class=\"lastrow-center-text\"><a href=\"https://www.fatiando.org/\">Fatiando a Terra</a></td>\n",
        "         <td class=\"lastrow-center-text\"></td>\n",
        "         <td class=\"lastrow-center-text\"></td>\n",
        "      </tr>\n",
        "   </tbody>\n",
        "</table>"
      ]
    },
    {
      "cell_type": "markdown",
      "metadata": {
        "id": "zlHJAMeoX9N6"
      },
      "source": [
        ""
      ]
    }
  ]
}